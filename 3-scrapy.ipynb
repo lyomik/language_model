{
  "cells": [
    {
      "cell_type": "code",
      "execution_count": 1,
      "metadata": {
        "colab": {
          "base_uri": "https://localhost:8080/"
        },
        "id": "C0wvcmqsvrxb",
        "outputId": "b15548db-4519-43a4-bb60-e7bf62b3edd2"
      },
      "outputs": [
        {
          "output_type": "stream",
          "name": "stdout",
          "text": [
            "Mounted at /content/drive\n"
          ]
        }
      ],
      "source": [
        "from google.colab import drive\n",
        "drive.mount('/content/drive')"
      ]
    },
    {
      "cell_type": "code",
      "execution_count": 2,
      "metadata": {
        "colab": {
          "base_uri": "https://localhost:8080/"
        },
        "id": "HQebZnvpptsW",
        "outputId": "5b63dd4c-5f00-4d1c-ecd1-977875b1e85f"
      },
      "outputs": [
        {
          "output_type": "stream",
          "name": "stdout",
          "text": [
            "Collecting scrapy\n",
            "  Downloading Scrapy-2.11.1-py2.py3-none-any.whl (287 kB)\n",
            "\u001b[2K     \u001b[90m━━━━━━━━━━━━━━━━━━━━━━━━━━━━━━━━━━━━━━━━\u001b[0m \u001b[32m287.8/287.8 kB\u001b[0m \u001b[31m4.4 MB/s\u001b[0m eta \u001b[36m0:00:00\u001b[0m\n",
            "\u001b[?25hCollecting Twisted>=18.9.0 (from scrapy)\n",
            "  Downloading twisted-23.10.0-py3-none-any.whl (3.2 MB)\n",
            "\u001b[2K     \u001b[90m━━━━━━━━━━━━━━━━━━━━━━━━━━━━━━━━━━━━━━━━\u001b[0m \u001b[32m3.2/3.2 MB\u001b[0m \u001b[31m11.7 MB/s\u001b[0m eta \u001b[36m0:00:00\u001b[0m\n",
            "\u001b[?25hRequirement already satisfied: cryptography>=36.0.0 in /usr/local/lib/python3.10/dist-packages (from scrapy) (42.0.3)\n",
            "Collecting cssselect>=0.9.1 (from scrapy)\n",
            "  Downloading cssselect-1.2.0-py2.py3-none-any.whl (18 kB)\n",
            "Collecting itemloaders>=1.0.1 (from scrapy)\n",
            "  Downloading itemloaders-1.1.0-py3-none-any.whl (11 kB)\n",
            "Collecting parsel>=1.5.0 (from scrapy)\n",
            "  Downloading parsel-1.8.1-py2.py3-none-any.whl (17 kB)\n",
            "Requirement already satisfied: pyOpenSSL>=21.0.0 in /usr/local/lib/python3.10/dist-packages (from scrapy) (24.0.0)\n",
            "Collecting queuelib>=1.4.2 (from scrapy)\n",
            "  Downloading queuelib-1.6.2-py2.py3-none-any.whl (13 kB)\n",
            "Collecting service-identity>=18.1.0 (from scrapy)\n",
            "  Downloading service_identity-24.1.0-py3-none-any.whl (12 kB)\n",
            "Collecting w3lib>=1.17.0 (from scrapy)\n",
            "  Downloading w3lib-2.1.2-py3-none-any.whl (21 kB)\n",
            "Collecting zope.interface>=5.1.0 (from scrapy)\n",
            "  Downloading zope.interface-6.2-cp310-cp310-manylinux_2_5_x86_64.manylinux1_x86_64.manylinux_2_17_x86_64.manylinux2014_x86_64.whl (247 kB)\n",
            "\u001b[2K     \u001b[90m━━━━━━━━━━━━━━━━━━━━━━━━━━━━━━━━━━━━━━━━\u001b[0m \u001b[32m247.3/247.3 kB\u001b[0m \u001b[31m16.4 MB/s\u001b[0m eta \u001b[36m0:00:00\u001b[0m\n",
            "\u001b[?25hCollecting protego>=0.1.15 (from scrapy)\n",
            "  Downloading Protego-0.3.0-py2.py3-none-any.whl (8.5 kB)\n",
            "Collecting itemadapter>=0.1.0 (from scrapy)\n",
            "  Downloading itemadapter-0.8.0-py3-none-any.whl (11 kB)\n",
            "Requirement already satisfied: setuptools in /usr/local/lib/python3.10/dist-packages (from scrapy) (67.7.2)\n",
            "Requirement already satisfied: packaging in /usr/local/lib/python3.10/dist-packages (from scrapy) (23.2)\n",
            "Collecting tldextract (from scrapy)\n",
            "  Downloading tldextract-5.1.1-py3-none-any.whl (97 kB)\n",
            "\u001b[2K     \u001b[90m━━━━━━━━━━━━━━━━━━━━━━━━━━━━━━━━━━━━━━━━\u001b[0m \u001b[32m97.7/97.7 kB\u001b[0m \u001b[31m10.9 MB/s\u001b[0m eta \u001b[36m0:00:00\u001b[0m\n",
            "\u001b[?25hRequirement already satisfied: lxml>=4.4.1 in /usr/local/lib/python3.10/dist-packages (from scrapy) (4.9.4)\n",
            "Collecting PyDispatcher>=2.0.5 (from scrapy)\n",
            "  Downloading PyDispatcher-2.0.7-py3-none-any.whl (12 kB)\n",
            "Requirement already satisfied: cffi>=1.12 in /usr/local/lib/python3.10/dist-packages (from cryptography>=36.0.0->scrapy) (1.16.0)\n",
            "Collecting jmespath>=0.9.5 (from itemloaders>=1.0.1->scrapy)\n",
            "  Downloading jmespath-1.0.1-py3-none-any.whl (20 kB)\n",
            "Requirement already satisfied: attrs>=19.1.0 in /usr/local/lib/python3.10/dist-packages (from service-identity>=18.1.0->scrapy) (23.2.0)\n",
            "Requirement already satisfied: pyasn1 in /usr/local/lib/python3.10/dist-packages (from service-identity>=18.1.0->scrapy) (0.5.1)\n",
            "Requirement already satisfied: pyasn1-modules in /usr/local/lib/python3.10/dist-packages (from service-identity>=18.1.0->scrapy) (0.3.0)\n",
            "Collecting automat>=0.8.0 (from Twisted>=18.9.0->scrapy)\n",
            "  Downloading Automat-22.10.0-py2.py3-none-any.whl (26 kB)\n",
            "Collecting constantly>=15.1 (from Twisted>=18.9.0->scrapy)\n",
            "  Downloading constantly-23.10.4-py3-none-any.whl (13 kB)\n",
            "Collecting hyperlink>=17.1.1 (from Twisted>=18.9.0->scrapy)\n",
            "  Downloading hyperlink-21.0.0-py2.py3-none-any.whl (74 kB)\n",
            "\u001b[2K     \u001b[90m━━━━━━━━━━━━━━━━━━━━━━━━━━━━━━━━━━━━━━━━\u001b[0m \u001b[32m74.6/74.6 kB\u001b[0m \u001b[31m8.5 MB/s\u001b[0m eta \u001b[36m0:00:00\u001b[0m\n",
            "\u001b[?25hCollecting incremental>=22.10.0 (from Twisted>=18.9.0->scrapy)\n",
            "  Downloading incremental-22.10.0-py2.py3-none-any.whl (16 kB)\n",
            "Requirement already satisfied: typing-extensions>=4.2.0 in /usr/local/lib/python3.10/dist-packages (from Twisted>=18.9.0->scrapy) (4.9.0)\n",
            "Requirement already satisfied: idna in /usr/local/lib/python3.10/dist-packages (from tldextract->scrapy) (3.6)\n",
            "Requirement already satisfied: requests>=2.1.0 in /usr/local/lib/python3.10/dist-packages (from tldextract->scrapy) (2.31.0)\n",
            "Collecting requests-file>=1.4 (from tldextract->scrapy)\n",
            "  Downloading requests_file-2.0.0-py2.py3-none-any.whl (4.2 kB)\n",
            "Requirement already satisfied: filelock>=3.0.8 in /usr/local/lib/python3.10/dist-packages (from tldextract->scrapy) (3.13.1)\n",
            "Requirement already satisfied: six in /usr/local/lib/python3.10/dist-packages (from automat>=0.8.0->Twisted>=18.9.0->scrapy) (1.16.0)\n",
            "Requirement already satisfied: pycparser in /usr/local/lib/python3.10/dist-packages (from cffi>=1.12->cryptography>=36.0.0->scrapy) (2.21)\n",
            "Requirement already satisfied: charset-normalizer<4,>=2 in /usr/local/lib/python3.10/dist-packages (from requests>=2.1.0->tldextract->scrapy) (3.3.2)\n",
            "Requirement already satisfied: urllib3<3,>=1.21.1 in /usr/local/lib/python3.10/dist-packages (from requests>=2.1.0->tldextract->scrapy) (2.0.7)\n",
            "Requirement already satisfied: certifi>=2017.4.17 in /usr/local/lib/python3.10/dist-packages (from requests>=2.1.0->tldextract->scrapy) (2024.2.2)\n",
            "Installing collected packages: PyDispatcher, incremental, zope.interface, w3lib, queuelib, protego, jmespath, itemadapter, hyperlink, cssselect, constantly, automat, Twisted, requests-file, parsel, tldextract, service-identity, itemloaders, scrapy\n",
            "Successfully installed PyDispatcher-2.0.7 Twisted-23.10.0 automat-22.10.0 constantly-23.10.4 cssselect-1.2.0 hyperlink-21.0.0 incremental-22.10.0 itemadapter-0.8.0 itemloaders-1.1.0 jmespath-1.0.1 parsel-1.8.1 protego-0.3.0 queuelib-1.6.2 requests-file-2.0.0 scrapy-2.11.1 service-identity-24.1.0 tldextract-5.1.1 w3lib-2.1.2 zope.interface-6.2\n"
          ]
        }
      ],
      "source": [
        "!pip install scrapy"
      ]
    },
    {
      "cell_type": "code",
      "source": [
        "!scrapy runspider udn.py -o udn.jl"
      ],
      "metadata": {
        "colab": {
          "base_uri": "https://localhost:8080/"
        },
        "id": "uVnwCnCc0kTT",
        "outputId": "210d5f7d-1a46-49c1-de9b-3b9a784e8fb3"
      },
      "execution_count": 4,
      "outputs": [
        {
          "output_type": "stream",
          "name": "stdout",
          "text": [
            "2024-02-21 08:40:47 [scrapy.utils.log] INFO: Scrapy 2.11.1 started (bot: scrapybot)\n",
            "2024-02-21 08:40:47 [scrapy.utils.log] INFO: Versions: lxml 4.9.4.0, libxml2 2.10.3, cssselect 1.2.0, parsel 1.8.1, w3lib 2.1.2, Twisted 23.10.0, Python 3.10.12 (main, Nov 20 2023, 15:14:05) [GCC 11.4.0], pyOpenSSL 24.0.0 (OpenSSL 3.2.1 30 Jan 2024), cryptography 42.0.3, Platform Linux-6.1.58+-x86_64-with-glibc2.35\n",
            "2024-02-21 08:40:47 [scrapy.addons] INFO: Enabled addons:\n",
            "[]\n",
            "/usr/local/lib/python3.10/dist-packages/scrapy/utils/request.py:254: ScrapyDeprecationWarning: '2.6' is a deprecated value for the 'REQUEST_FINGERPRINTER_IMPLEMENTATION' setting.\n",
            "\n",
            "It is also the default value. In other words, it is normal to get this warning if you have not defined a value for the 'REQUEST_FINGERPRINTER_IMPLEMENTATION' setting. This is so for backward compatibility reasons, but it will change in a future version of Scrapy.\n",
            "\n",
            "See the documentation of the 'REQUEST_FINGERPRINTER_IMPLEMENTATION' setting for information on how to handle this deprecation.\n",
            "  return cls(crawler)\n",
            "2024-02-21 08:40:47 [scrapy.utils.log] DEBUG: Using reactor: twisted.internet.epollreactor.EPollReactor\n",
            "2024-02-21 08:40:47 [scrapy.extensions.telnet] INFO: Telnet Password: ba56215777f694be\n",
            "2024-02-21 08:40:47 [scrapy.middleware] INFO: Enabled extensions:\n",
            "['scrapy.extensions.corestats.CoreStats',\n",
            " 'scrapy.extensions.telnet.TelnetConsole',\n",
            " 'scrapy.extensions.memusage.MemoryUsage',\n",
            " 'scrapy.extensions.feedexport.FeedExporter',\n",
            " 'scrapy.extensions.logstats.LogStats']\n",
            "2024-02-21 08:40:47 [scrapy.crawler] INFO: Overridden settings:\n",
            "{'DOWNLOAD_DELAY': '3',\n",
            " 'FEED_EXPORT_ENCODING': 'utf-8',\n",
            " 'SPIDER_LOADER_WARN_ONLY': True}\n",
            "2024-02-21 08:40:47 [scrapy.middleware] INFO: Enabled downloader middlewares:\n",
            "['scrapy.downloadermiddlewares.httpauth.HttpAuthMiddleware',\n",
            " 'scrapy.downloadermiddlewares.downloadtimeout.DownloadTimeoutMiddleware',\n",
            " 'scrapy.downloadermiddlewares.defaultheaders.DefaultHeadersMiddleware',\n",
            " 'scrapy.downloadermiddlewares.useragent.UserAgentMiddleware',\n",
            " 'scrapy.downloadermiddlewares.retry.RetryMiddleware',\n",
            " 'scrapy.downloadermiddlewares.redirect.MetaRefreshMiddleware',\n",
            " 'scrapy.downloadermiddlewares.httpcompression.HttpCompressionMiddleware',\n",
            " 'scrapy.downloadermiddlewares.redirect.RedirectMiddleware',\n",
            " 'scrapy.downloadermiddlewares.cookies.CookiesMiddleware',\n",
            " 'scrapy.downloadermiddlewares.httpproxy.HttpProxyMiddleware',\n",
            " 'scrapy.downloadermiddlewares.stats.DownloaderStats']\n",
            "2024-02-21 08:40:47 [scrapy.middleware] INFO: Enabled spider middlewares:\n",
            "['scrapy.spidermiddlewares.httperror.HttpErrorMiddleware',\n",
            " 'scrapy.spidermiddlewares.offsite.OffsiteMiddleware',\n",
            " 'scrapy.spidermiddlewares.referer.RefererMiddleware',\n",
            " 'scrapy.spidermiddlewares.urllength.UrlLengthMiddleware',\n",
            " 'scrapy.spidermiddlewares.depth.DepthMiddleware']\n",
            "2024-02-21 08:40:47 [scrapy.middleware] INFO: Enabled item pipelines:\n",
            "[]\n",
            "2024-02-21 08:40:47 [scrapy.core.engine] INFO: Spider opened\n",
            "2024-02-21 08:40:47 [scrapy.extensions.logstats] INFO: Crawled 0 pages (at 0 pages/min), scraped 0 items (at 0 items/min)\n",
            "2024-02-21 08:40:47 [scrapy.extensions.telnet] INFO: Telnet console listening on 127.0.0.1:6023\n",
            "2024-02-21 08:40:47 [scrapy.core.engine] DEBUG: Crawled (200) <GET https://udn.com/news/index> (referer: None)\n",
            "2024-02-21 08:40:51 [scrapy.core.engine] DEBUG: Crawled (200) <GET https://udn.com/news/story/7266/7783004?from=redpush> (referer: https://udn.com/news/index)\n",
            "2024-02-21 08:40:51 [scrapy.core.scraper] DEBUG: Scraped from <200 https://udn.com/news/story/7266/7783004?from=redpush>\n",
            "{'title': '華航維修員遭夾事故原因曝 同事聞聲急送醫「僅17分鐘仍救不回」', 'content': '一名徐姓飛機維修員（54歲）今天上午在13、14機坪進行報廢客機拆除作業，11時20分因飛機後方左側起落架安全裝置斷裂，起落架自動收起，被起落架夾住重傷，現場其他工作人員雖在第一時間將他救下送醫，但因為傷勢過重，搶救後仍不治；桃園市勞檢處表示，本案為華航近5年最嚴重工安意外，後續依重大職業災害究責。\\r\\n\\r\\n據了解，夾住徐男的起落架就是飛機起降的重要工具，如果安全裝置斷裂，起落架就會自動收起。事發第一時間，徐男來不及反應就被起落架夾傷，其他工作人員聽見聲音察覺異常，趕忙丟下手邊工作救人，由桃園機場救護車後送桃園某醫院搶救，雖然事發到將人救下送醫不到17分鐘，但徐男傷勢太重，最後仍回天乏術。', 'url': 'https://udn.com/news/story/7266/7783004?from=redpush'}\n",
            "2024-02-21 08:40:51 [scrapy.dupefilters] DEBUG: Filtered duplicate request: <GET https://udn.com/news/story/7266/7783004?from=redpush> - no more duplicates will be shown (see DUPEFILTER_DEBUG to show all duplicates)\n",
            "2024-02-21 08:40:54 [scrapy.core.engine] DEBUG: Crawled (200) <GET https://udn.com/news/story/123928/7783001?from=udn_mobile_indexrecommend> (referer: https://udn.com/news/index)\n",
            "2024-02-21 08:40:55 [scrapy.core.scraper] DEBUG: Scraped from <200 https://udn.com/news/story/123928/7783001?from=udn_mobile_indexrecommend>\n",
            "{'title': '深坑大火惡臭瀰漫通報慢 蔣萬安說重話：該懲處會懲處', 'content': '新北昨天發生工廠火警，瀰漫疑似戴奧辛的刺鼻味，居民憂有毒氣體危害健康，就連隔壁新店、永和與台北大安、文山等地都能聞到，但未即時通知民眾。台北市長下午在公安會報中，臨時請環保局做專案報告，蔣萬安臉色凝重說出重話，「我們會要求環保局長提檢討報告，該懲處，我們就會懲處」。\\r\\n\\r\\n媒體也問蔣萬安，今天公安會報是否臨時增加環保局報告？蔣萬安說，對，因爲今天公安會報剛好遇到昨晚發生文山區濃煙的事情，特別要求環保局相關單位來做專案報告，說明目前處理的進度。會要求環保局長提檢討報告，該懲處我們就會懲處。\\r\\n\\r\\n蔣萬安要求針對全面檢測所有SOP，未來絕不允許再發生，出現第一時間沒有向市民說明的情形。', 'url': 'https://udn.com/news/story/123928/7783001?from=udn_mobile_indexrecommend'}\n",
            "2024-02-21 08:40:58 [scrapy.core.engine] DEBUG: Crawled (200) <GET https://udn.com/news/story/120911/7782842?from=udn_mobile_indexrecommend> (referer: https://udn.com/news/index)\n",
            "2024-02-21 08:40:58 [scrapy.core.scraper] DEBUG: Scraped from <200 https://udn.com/news/story/120911/7782842?from=udn_mobile_indexrecommend>\n",
            "{'title': '她在日本「私處痛到不能走路」被急診拒收 回國就醫嘆：出國才知台灣有多好', 'content': '台灣醫療備受讚譽，尤其是出國之後更加有感。近日有名女網友發文敘述自己在和台灣就醫的經驗，有感而發台灣的醫療對病患真的很友好，感謝醫療人員的努力和辛勞。\\r\\n\\r\\n原PO在網路論壇上以「」為題發文，表示自己赴日旅遊時得了巴氏腺囊腫，痛到走路都有困難，於是搭車前往日本當地急診就醫，然而到了門口卻被告知「婦產科急診只處理婦科緊急狀態」而被拒收，由於當時是半夜，原PO只能隔天再找診所。隔日原PO找到一家由台灣醫師開設的婦產科診所看病，醫師用針筒將囊腫膿液抽出，但因為過程沒有施打麻藥，原PO苦不堪言。\\r\\n\\r\\n撐到回台灣後原PO前往台中榮總就醫，在門口警衛看到原PO步伐不穩便主動拿輪椅給她，進入診間後醫師問診也非常細心，每個步驟的安排都和原PO講解得非常清楚，原PO說醫生還特別注意到她在日本沒有打麻醉就直接抽針，為了讓原PO安心也安排了麻醉手術，當下原PO感覺鬆了一大口氣，「無論做什麼，醫院的SOP都相當完善，我只需要躺在床上休息，一個口令一個動作，每個人對待我都好溫柔！我當下真的覺得好感動，同時覺得醫護人員好辛苦，也很感謝台灣的醫療資源」。\\r\\n\\r\\n貼文下引起許多網友迴響，紛紛感謝醫療人員們的辛勞，「台灣的醫生、護理師、醫療從業人員真的很好又友善，希望大家要好好珍惜這些資源，愛護台灣的醫療人員」、「去一趟國外的醫院再回來，真的會覺得台灣的醫療最好，好好愛惜醫護人員吧，不要讓其他國家羨慕的也消失了」。\\r\\n\\r\\n也有網友解釋日本醫療的分級制度比較嚴格，所以原PO才會遇到拒收的情況，「日本醫院基本上都要診所醫生開介紹狀才可以看，所以不舒服都是跑診所」、「日本是分級醫療，你要先到診所看病，診所判斷更嚴重開轉診單才能到大醫院」。', 'url': 'https://udn.com/news/story/120911/7782842?from=udn_mobile_indexrecommend'}\n",
            "2024-02-21 08:41:02 [scrapy.core.engine] DEBUG: Crawled (200) <GET https://udn.com/news/story/7251/7782863?from=udn_mobile_indexrecommend> (referer: https://udn.com/news/index)\n",
            "2024-02-21 08:41:02 [scrapy.core.scraper] DEBUG: Scraped from <200 https://udn.com/news/story/7251/7782863?from=udn_mobile_indexrecommend>\n",
            "{'title': '富邦證券賣證交所股票 跟這樁併購案有關', 'content': '\\r\\n\\r\\n台灣證券交易所要買可不容易，如今有券商要賣，（2881）旗下富邦證券將處分所持股票，今日傍晚將對外說明。據了解，主要原因與富邦金控併購日盛證券有關，富邦證券與日盛證券合併後持有的證交所股票超過單一券商持股上限，只得忍痛割捨超過上限的部分持股。\\r\\n\\r\\n富邦金將於今（21）日17時30分召開重訊記者會，由富邦金李明州資深副總及鄧森文副總、富邦證券資深協理黃瓊萱以視訊說明處分證交所普通股事宜。', 'url': 'https://udn.com/news/story/7251/7782863?from=udn_mobile_indexrecommend'}\n",
            "2024-02-21 08:41:05 [scrapy.core.engine] DEBUG: Crawled (200) <GET https://udn.com/news/story/6656/7782903?from=udn_mobile_indexrecommend> (referer: https://udn.com/news/index)\n",
            "2024-02-21 08:41:05 [scrapy.core.scraper] DEBUG: Scraped from <200 https://udn.com/news/story/6656/7782903?from=udn_mobile_indexrecommend>\n",
            "{'title': '表態了！ 高嘉瑜2026年大選不缺席：選北市長是挑戰目標之一', 'content': '\\r\\n2024選戰落幕，前立委港湖選區落選之後，今天接受媒體人黃光芹網路節目專訪，對於自己的下一步，高嘉瑜今天說，2026年她不會缺席，「當然希望可以挑戰市長」，「是我的目標之一，希望有這樣的機會」，高嘉瑜說，「當然黨內有很多優秀的候選人，也不是說非我不可，但就是要先把自己該做的事情做好，民進黨內也會考量」。\\r\\n\\r\\n高嘉瑜說，港湖變成艱困選區，2028年黨中央會是採徵召決定候選人，加上隔了4年立委選舉會不會有變化？黨中央會不會徵召她？或民眾黨會不會推人？都可能是變數，所以她正思考2028再戰立委可能時間會比較遠，短期就是2026年，「如何在2026有一個角色，可以去參選，因2028隔這麼久出來，我想很多人都會忘記我了。」\\r\\n\\r\\n高嘉瑜今天接受專訪提到自己的下一步，表示很多人有很多建議，媒體也有很多討論，高坦言，當然2026對她來講應該不會缺席。至少自己要想清楚自己要做什麼，是要選市長？還是要選什麼？「可以挑戰市長，當然是我的目標之一，希望有這樣的機會。」\\r\\n\\r\\n高嘉瑜說，民進黨在台北市，大家都知道是艱困選區，民進黨基本盤大約就是37%，國民黨就是43％，這中間有5%差距，關鍵就在於能不能拿到年輕中間選票，對民進黨來說，有沒有這樣機會。\\r\\n\\r\\n高也說，當然黨內有很多優秀的候選人，也不是說非她不可，但就是要先把自己該做的事情做好，民進黨內也會考量。至於黨內有很多議員擔心她回去選議員，她沒有預設她要選什麼？但勢必下一次立委選舉港湖是艱困選區，會是採徵召方式，會由黨中央決定候選人，會有初選，加上隔了4年，立委會不會有變化？黨中央要不要徵召？或民眾黨會不會推人，所以要去思考2028再戰立委，可能時間會比較遠，短期就是「如何在2026有一個角色，可以去參選，因2028隔這麼久出來，我想很多人都會忘記我了。」\\r\\n\\r\\n至於近期是否可能進中央任黨職？高嘉瑜說，目前看是沒有這個機會，包括吳崢、王義川等位子都有人了，可能性不高，也沒有想說會給什麼位置，她就是孤鳥性格，很少會想去靠別人，很少會想說去靠別人，這或許也是她個性上的缺點。', 'url': 'https://udn.com/news/story/6656/7782903?from=udn_mobile_indexrecommend'}\n",
            "2024-02-21 08:41:09 [scrapy.core.engine] DEBUG: Crawled (200) <GET https://udn.com/news/story/7251/7782912?from=udn_mobile_indexrecommend> (referer: https://udn.com/news/index)\n",
            "2024-02-21 08:41:09 [scrapy.core.scraper] DEBUG: Scraped from <200 https://udn.com/news/story/7251/7782912?from=udn_mobile_indexrecommend>\n",
            "{'title': '台股全市場45檔飆上漲停 其中竟有25檔銅板股', 'content': '台股今（21）日收在18,676.31點，櫃買指數則是收在245.44點，統計共有45檔收在板，其中多達25檔為銅板股，表現強勢，若分開來看，上市股漲停收盤的個股有14家，上櫃股則有31家收漲停。\\r\\n\\r\\n台股大盤指數昨日創下新高後，今日拉回休息，大型股休息整理，中小型股吸引資金搶進，表現強勢，集中市場開低，一度下滑至18,645.27點，下跌逾百點，終場收在18,676.31點，下跌76.85點，權王台積電（2330）以678元開低，終場收681元，下跌6元，另外，AI股緯創（3231）、廣達（2382）、創意（3443）、智原（3035）、世芯 -KY（3661）、技嘉（2376）等都是下跌。\\r\\n\\r\\n集中市場收盤有14檔漲停，其中，50元以下的銅板股有4檔，分別是皇昌（2543）、富爾特（6136）、瑞軒（2489）、中釉（1809）等，百元以上個股則有光聖（6442）、波力-KY（8467）、士電（1503）、訊芯 -KY（6451）、通嘉（3588）等。\\r\\n\\r\\n櫃買市場相對較強，早盤以245.6點開高，盤中高點曾達246.69點，創下逾23年新高，距離歷史高點329.47點還有82.78點，終場收在245.44點，下跌0.03點，盤面上以中小型股的表現強勢，計有31檔漲停板作收，表現較為強勢的類股包括網通、綠能環保、光電、電子零組件等，其中，百元以上個股包括伯鑫（6904）、世禾（3551）、旺矽（6223）、正淩（8147）等。', 'url': 'https://udn.com/news/story/7251/7782912?from=udn_mobile_indexrecommend'}\n",
            "2024-02-21 08:41:13 [scrapy.core.engine] DEBUG: Crawled (200) <GET https://udn.com/news/story/7470/7782989?from=udn_mobile_indexrecommend> (referer: https://udn.com/news/index)\n",
            "2024-02-21 08:41:13 [scrapy.core.scraper] DEBUG: Scraped from <200 https://udn.com/news/story/7470/7782989?from=udn_mobile_indexrecommend>\n",
            "{'title': '不爽長官致詞太久！警犬「倒一排擺爛睡死」領犬員卻站直挺挺 神反差百萬人笑翻', 'content': '\\r\\n\\r\\n最近一段影片在網路上瘋傳，日本千葉縣局進行新年檢閱儀式，領犬員們帶著在禮堂聆聽長官訓話，但疑似是長官致詞太久，幾隻警犬紛紛面露疲態，有幾隻乾脆直接倒地睡著，警員們卻是想睡不能睡，如此巨大反差讓不少網友笑翻。\\r\\n\\r\\n日本一名網友「yuruhuwa_kdenpa」日前在X(原推特)上貼出一段影片，千葉縣警察局日前舉辦新年檢閱儀式，領犬員們帶著警犬在禮堂聆聽長官訓話，不過可能是因為長官致詞太久，一些警犬紛紛頂不住剛開工疲憊的壓力，有幾隻乾脆直接倒地睡覺不想聽訓話，但領犬員卻不能就地睡覺，超大反差讓不少網友笑翻。\\r\\n\\r\\n影片在網路上吸引超過百萬人觀看，網友留言表示「：我可以不要上工嗎」、「警犬跟人類一樣都受不了落落長的長官訓話」、「長官致詞太久了啦，底下員工都睡翻了」、「那幾隻直接公然睡覺的狗狗，記大過一隻哈哈哈」。\\r\\n\\r\\n\\r\\n千葉県警年頭視閲式人間の式典に完全に飽きてるワンちゃん可愛い \\r\\n', 'url': 'https://udn.com/news/story/7470/7782989?from=udn_mobile_indexrecommend'}\n",
            "2024-02-21 08:41:15 [scrapy.core.engine] DEBUG: Crawled (200) <GET https://udn.com/news/story/7333/7783020?from=udn_mobile_indexrecommend> (referer: https://udn.com/news/index)\n",
            "2024-02-21 08:41:15 [scrapy.core.scraper] DEBUG: Scraped from <200 https://udn.com/news/story/7333/7783020?from=udn_mobile_indexrecommend>\n",
            "{'title': '近7成上市櫃公司 認同「九二共識」能恢復交流', 'content': '台灣上市櫃公司協會21日發布「2024 總統前上市櫃企業家對未來政府的施政期待」與問卷調查結果，顯示有69%的企業認同「九二共識」能恢復兩岸交流、鞏固台海和平。\\r\\n\\r\\n另在對大陸態度上，即使超過3成的企業表示並不友好，但仍有32%的企業表示必須重視兩岸交流，更有61%的企業選擇兩岸交流與國際外交必須兩者兼顧，合計等於高達94%的企業比重都承認，必須重視兩岸關係交流對台灣的重要性。\\r\\n\\r\\n台灣上市櫃公司協會表示，今年的全球經濟景氣並不樂觀，這種國際總體經濟趨勢對台灣的負面影響，不是大家可以掌握的，但對於消除兩岸地緣政治，使台灣經濟發展不受影響，卻絕對有大幅改善的潛力。\\r\\n\\r\\n因此台灣上市櫃公司協會呼籲所有的企業團結起來，與政府，各政黨，及所有台灣民眾一起努力消弭兩岸地緣政治風險。\\r\\n\\r\\n台灣上市櫃公司協會成立於2015年，目前企業會員數約270家，合計佔有台灣上市櫃公司總市值約20%。此次調查由前政治大學校長周行一擔任計畫主持人。\\r\\n\\r\\n在2023 年底、今年1 月13 日總統大選尚未舉行前對協會會員進行調查，減少選舉結果對問卷影響，最終接受調查企業公司約130家。', 'url': 'https://udn.com/news/story/7333/7783020?from=udn_mobile_indexrecommend'}\n",
            "2024-02-21 08:41:19 [scrapy.core.engine] DEBUG: Crawled (200) <GET https://udn.com/news/story/9213/7782965?from=udn_mobile_indexrecommend> (referer: https://udn.com/news/index)\n",
            "2024-02-21 08:41:19 [scrapy.core.scraper] DEBUG: Scraped from <200 https://udn.com/news/story/9213/7782965?from=udn_mobile_indexrecommend>\n",
            "{'title': '金廈海域爭端升溫 賴清德三點表態：妥善處理、堅定執法、避免再現', 'content': '\\r\\n兩岸近日因爭端升溫，緊張情勢升高。民進黨主席今天在民進黨中常會表示，關於此事要表達三點態度，首先、事後要妥善處理；並且支持海巡堅定執法；最後，要研議避免未來類似狀況再出現。\\r\\n\\r\\n據轉述，行政院副院長鄭文燦今天列席民進黨中常會，就近來金廈水域爭端我方因應狀況，做回顧整理並向中常委報告。賴清德則表示，妥善處理、堅定執法、避免再發生，是民進黨對此事的三點態度。\\r\\n\\r\\n【中央社】\\r\\n中國大陸快艇越界闖入金門海域，拒檢後翻覆釀2死。民進黨發言人吳崢今天轉述黨主席賴清德在民進黨中常會的3點態度表示，一定要妥善處理、持續支持海巡堅定執法、避免未來類似狀況再次出現。\\r\\n中國一艘「三無快艇」（無船名、無船舶證書、無船籍港登記）14日越界闖入金門海域，遭海巡署追緝後翻覆釀2死。\\r\\n民進黨發言人吳崢下午在中常會後記者會受訪時，轉達賴清德3點態度，包括，一、中國籍漁船在台灣海巡取締登檢過程中翻覆，導致2名中國籍人士過世，事後一定要妥善處理；二，民進黨未來會持續支持海巡堅定執法；三、未來也會持續努力關注，避免類似狀況再次出現。\\r\\n另外，民進黨中常委吳思瑤在中常會後受訪表示，行政部門列席代表、行政院副院長鄭文燦向中常委們報告此事並提到，台灣站在道理的一方，依法執行守衛台灣漁業安全與漁民權益，都是為所當為，也希望未來避免類似遺憾事件再發生。\\r\\n吳思瑤說，目前掌握的登檢程序，可以清楚看到，海巡相關執法是恪守應當遵循的SOP，並沒有操之在我方的執法過當疑慮，但無論如何，讓金門地檢好好偵辦，也希望在公正超然偵辦之下，讓事件原委清楚呈現。\\r\\n吳思瑤表示，執法一切依規依法，中國非法捕撈的漁船，確實是因為自身的高速蛇行，造成此遺憾事件，相信可以在未來偵辦過程，藉由檢調讓事實釐清，賴清德也清楚地表示，要妥善因應，確認未來的執法要持續守護國家與漁民，此外，大家要一起做為漁民與執法人員的最強後盾。', 'url': 'https://udn.com/news/story/9213/7782965?from=udn_mobile_indexrecommend'}\n",
            "2024-02-21 08:41:22 [scrapy.core.engine] DEBUG: Crawled (200) <GET https://udn.com/news/story/6929/7782801?from=udn_mobile_indexrecommend> (referer: https://udn.com/news/index)\n",
            "2024-02-21 08:41:22 [scrapy.core.scraper] DEBUG: Scraped from <200 https://udn.com/news/story/6929/7782801?from=udn_mobile_indexrecommend>\n",
            "{'title': '創校47年培育數萬工科人才 大漢技術學院宣布8月起停辦', 'content': '受少子女化的衝擊影響，大漢技術學院董事陳振貴今天指出，位於花蓮新城的大漢技術學院董事會昨日決議，自113學年度、今年8月起，依私校法停招停辦，安置師生將作轉型發展規畫，決議已於今日校務會議報告。\\r\\n\\r\\n大漢技術學院民國66年創校，前身為稚暉海專，後改名大漢工商專科學校；民國78年，接管，並於民國83年經遴選改組新董事會接辦；歷經積極努力，於民國88年升格改制技術學院。大漢技術學院創校30年來，學生人數最多曾逾7千人，聚焦機械工程等領域，為花東培育數萬工科人才。\\r\\n\\r\\n但近年辦學環境丕變，加上少子女化浪潮影響，陳振貴指出，大漢校本部地處花東地區，生源與師資取得不易，對辦學影響更是雪上加霜。100學年該校尚有3000餘位學生，之後生源不足、招生困難，科系與學生人數逐年整併遞減。統計112學年上學期機械、土環、企管、休憩餐旅等四系，日校僅100餘人，全校學生剩500餘人。\\r\\n\\r\\n據了解，自103學年以來，學校收支即處虧損，皆由董事會捐資補足。陳振貴指出，近幾年雖力求突破但已難擋無生源壓力，辦學無可逆轉，無法提供完善學習環境，但學校零負債、無貸款，尚有校務基金，今提出停招停辦，將依法支用於保障教職員工與學生權益，是不得已的作為，後續將依法報請教育部核定，並依停辦計畫內容執行。\\r\\n\\r\\n\\r\\n\\r\\n\\r\\n\\r\\n\\r\\n\\r\\n', 'url': 'https://udn.com/news/story/6929/7782801?from=udn_mobile_indexrecommend'}\n",
            "2024-02-21 08:41:24 [scrapy.core.engine] DEBUG: Crawled (200) <GET https://udn.com/news/story/7266/7783004?from=udn_mobile_indexrecommend> (referer: https://udn.com/news/index)\n",
            "2024-02-21 08:41:24 [scrapy.core.scraper] DEBUG: Scraped from <200 https://udn.com/news/story/7266/7783004?from=udn_mobile_indexrecommend>\n",
            "{'title': '華航維修員遭夾事故原因曝 同事聞聲急送醫「僅17分鐘仍救不回」', 'content': '一名徐姓飛機維修員（54歲）今天上午在13、14機坪進行報廢客機拆除作業，11時20分因飛機後方左側起落架安全裝置斷裂，起落架自動收起，被起落架夾住重傷，現場其他工作人員雖在第一時間將他救下送醫，但因為傷勢過重，搶救後仍不治；桃園市勞檢處表示，本案為華航近5年最嚴重工安意外，後續依重大職業災害究責。\\r\\n\\r\\n據了解，夾住徐男的起落架就是飛機起降的重要工具，如果安全裝置斷裂，起落架就會自動收起。事發第一時間，徐男來不及反應就被起落架夾傷，其他工作人員聽見聲音察覺異常，趕忙丟下手邊工作救人，由桃園機場救護車後送桃園某醫院搶救，雖然事發到將人救下送醫不到17分鐘，但徐男傷勢太重，最後仍回天乏術。', 'url': 'https://udn.com/news/story/7266/7783004?from=udn_mobile_indexrecommend'}\n",
            "2024-02-21 08:41:28 [scrapy.core.engine] DEBUG: Crawled (200) <GET https://udn.com/news/story/7252/7782408> (referer: https://udn.com/news/index)\n",
            "2024-02-21 08:41:28 [scrapy.core.scraper] DEBUG: Scraped from <200 https://udn.com/news/story/7252/7782408>\n",
            "{'title': '88萬股東看過來 傳開發金今年紀念品將送「野餐墊」', 'content': '\\r\\n\\r\\n（2883）近2年的都引起轟動，繼前年的「故宮彩繪花鳥碗」、去年的「超耐摔不鏽鋼晶鑽杯」，傳出今年計畫送給近88萬股東防水「墊」；開發金的紀念品再網友熱議，「明年送野外多功能快速爐嗎？」、「看來明年應該是送睡袋」、「10年挑戰 全套露營」。\\r\\n\\r\\n開發金2022年的股東會紀念品「故宮彩繪花鳥碗」，受到80多萬股東青睞，甚至還引發了「排隊之亂」，網路上轉手價還超過千元；去年的紀念品則是「晶鑽杯」，工業風的外型強調實在功能，市價約500~1000元；接連2年的紀念品都引來股東高度關注，今年股東會召開日期尚未公布，但已傳出紀念品將是防水「野餐墊」。\\r\\n\\r\\n根據集保的股東人數統計，開發金截至今年2月17日股東人數達87萬5,558人，僅次於中鋼（2002）及台積電（2330），為金融股的股東人數最多，每年的股東會紀念品採購金額也是一筆可觀的費用。\\r\\n\\r\\n除了引來話題的「故宮彩繪花鳥碗」，「超耐摔不鏽鋼晶鑽杯」之外，開發金的紀念品還送過觸控顯示智能保溫杯、折疊椅等，今年傳出將送「野餐墊」；不過，開發金目前股東會時間、紀念品都尚未正式公布。\\r\\n\\r\\n網友則是在PTT看板上熱烈討開發金今年擬送「野餐墊」的訊息，有網友說，「請給我睡袋」、「真。公園套組」、「明年來頂帳篷啦」、「不要賣 明年可能是發睡袋」、「明年可以送電蚊拍嗎 公園蚊子多」、「10年挑戰 全套露營」。', 'url': 'https://udn.com/news/story/7252/7782408'}\n",
            "2024-02-21 08:41:31 [scrapy.core.engine] DEBUG: Crawled (200) <GET https://udn.com/news/story/7266/7782864> (referer: https://udn.com/news/index)\n",
            "2024-02-21 08:41:31 [scrapy.core.scraper] DEBUG: Scraped from <200 https://udn.com/news/story/7266/7782864>\n",
            "{'title': '華航重大工安意外！飛機維修員移除起落架遭夾「送醫不治」', 'content': '中空今天上午發生一起重大意外，一名男性維修員在執行飛機起落架移除時，當場遭起落架向上彎曲夾住，送醫後宣告不治。中華航空證實，公司一名修護員，於今日執行修護拆卸作業時意外受傷，經立即送醫後仍宣告不治。\\r\\n\\r\\n中華航空表示，華航深感遺憾，將全力協助家屬處理後續事宜及撫卹作業。\\r\\n\\r\\n中華航空表示，針對此案該公司已立即展開調查，釐清事件原委。\\r\\n\\r\\n民航局則表示，已收到中華航空通報。\\r\\n\\r\\n', 'url': 'https://udn.com/news/story/7266/7782864'}\n",
            "2024-02-21 08:41:35 [scrapy.core.engine] DEBUG: Crawled (200) <GET https://udn.com/news/story/6810/7781860> (referer: https://udn.com/news/index)\n",
            "2024-02-21 08:41:35 [scrapy.core.scraper] DEBUG: Scraped from <200 https://udn.com/news/story/6810/7781860>\n",
            "{'title': '42員工合資買彩券中297億台幣！有人當場辭職…「這原因」樂極生悲獎金泡湯', 'content': '\\r\\n\\r\\n\\r\\n\\r\\n人人都想中發大財，最近網上1段舊影片再引起網友討論，在美國紐澤西州一有42名員工合資買，最後對開獎號碼竟然全中，即時贏得9.49億美元（約297億新台幣）獎金，更有員工當場高呼要辭職，但正當大家興高采烈時，有人發現1個真相，令大家夢想幻滅。\\r\\n\\r\\n事件早於2016年發生，該餐廳擔任調酒師13年的查理（Charlie Poveromo）後來接受媒體訪問時指，當年餐廳42名員工合資買了210美元（約6600新台幣）的彩券，當時收到朋友在訊息中傳來的開獎號碼，便與其他員工一起查看，沒想到竟然全中，大家便以為共同贏得了9.49億美元（約297億新台幣）。\\r\\n\\r\\n據餐廳的監視器片段，可見所有人當場高呼尖叫又拍手，表現得非常高興，甚至互相擁抱慶祝，有洗碗工更當場直接脫下圍裙，大叫：「我要辭職了！」而查理在訪問中續稱，當時不斷打電話給身邊的親友告訴這好消息，仍沒意識到開獎網站其實尚未更新，因此資料還是舊的。\\r\\n結果隔了20分鐘，1位客人把大家拉回現實，他拿出真正的開獎號碼，查理才驚悉原來自己是對了周三的開獎號碼，但彩券其實是在周六買下的。\\r\\n\\r\\n查理不得不向所有人告訴真相，令大家頓時心如死灰，猶如從天堂跌到地獄般。剛才要辭職的洗碗工笑著重新穿上圍裙，並說：「回去工作吧！」另一名員工克勞迪歐（Claudio Campos）則形容：「這就像一桶冰扔到我們的夢想上」。\\r\\n\\r\\n當年興高采烈的片段近日又在網上瘋傳，不少網民紛紛留言表示可憐，「夢想幻滅了」、「完全是過山車的時刻」、「誤會真的可大了」。\\r\\n\\r\\n\\r\\n\\r\\n\\r\\n\\r\\n文章授權轉載自\\r\\n\\r\\n\\r\\n', 'url': 'https://udn.com/news/story/6810/7781860'}\n",
            "2024-02-21 08:41:44 [scrapy.core.engine] DEBUG: Crawled (200) <GET https://udn.com/news/story/123928/7781941> (referer: https://udn.com/news/index)\n",
            "2024-02-21 08:41:44 [scrapy.core.scraper] DEBUG: Scraped from <200 https://udn.com/news/story/123928/7781941>\n",
            "{'title': '新北鋰工廠大火恐釀「化骨水」毒物醫提6大起居指引', 'content': '\\r\\n北深路三段一處鋰電池工廠，昨晚發生大火，惡臭擴散雙北，截至上午臭味仍未完全消散，造成民眾出入困擾。毒物科醫師警示，鋰電池燃燒後會產生「氟化氫」大量吸入最嚴重造成肺衰竭，而氟化氫一旦「碰到水」就會成為氫氟酸，具有腐蝕性也是俗稱的「化骨水」，建議民眾避免外出，外出最好配戴N95口罩。\\r\\n\\r\\n北深路三段東南科大旁連棟式倉庫在昨天下午2時許發生火警，火舌及濃煙不斷竄出，由於現場堆放許多紙箱及雜物，火勢猛烈還延燒至隔壁2間工廠；消防人員奮力灌救下火勢於晚間6時許撲滅，但除深坑滿滿惡臭，新北新店及永和、台北文山及大安都聞得到惡臭，引發民眾憂心。\\r\\n\\r\\n林口長庚醫院臨床毒物中心主任顏宗海指出，工廠會產生嚴重空汙，很多懸浮微粒、細懸浮微粒以及一氧化碳等等複雜的成分，若工廠內有塑膠，PVC燃燒不完全更會產生「戴奧辛」。\\r\\n\\r\\n「戴奧辛是世界衛生組織公認的第一級致癌物。」顏宗海表示，戴奧辛過往討論都是透過食物攝入人體後的危害，但透過空氣吸入的戴奧辛汙染，一樣會致癌，民眾短時間、高劑量暴露戴奧辛會產生皮膚病變、肝功能異常；長時間、低劑量暴露則增加罹癌風險。\\r\\n\\r\\n至於鋰電池工廠燃燒，這類化學物質對人體的危害更加危險。顏宗海表示，鋰電池最擔心燃燒，一旦燃燒就會產生有毒氣體「氟化氫」，人體在密閉空間吸入後，會導致肺部傷害，輕則發炎，重則肺衰竭；氟化氫一旦碰到水更會成為「氫氟酸」，是具有腐蝕性的「化骨水」。\\r\\n\\r\\n顏宗海建議，大火附近居民，特別是慢性阻塞性肺病（COPD）患者更得注意，近期儘量避免外出，日常生活則要注意幾項。\\r\\n\\r\\n\\r\\n\\r\\n2.早去早回\\r\\n\\r\\n3.在家緊閉門窗\\r\\n\\r\\n4.打開空氣清淨機\\r\\n\\r\\n5.外出配戴N95口罩，若無則配戴外科口罩\\r\\n\\r\\n6.不去公園運動\\r\\n\\r\\n顏宗海提醒，燒焦味道不見得就是戴奧辛，不過，雙北地區居民若在外有吸入惡臭氣體，近期一旦有出現胸悶、喘、呼吸不順等症狀時，千萬不要等，立即就醫檢查，尋求專業醫療協助。\\r\\n\\r\\n', 'url': 'https://udn.com/news/story/123928/7781941'}\n",
            "2024-02-21 08:41:45 [scrapy.core.engine] DEBUG: Crawled (200) <GET https://udn.com/news/story/7470/7780564> (referer: https://udn.com/news/index)\n",
            "2024-02-21 08:41:45 [scrapy.core.scraper] DEBUG: Scraped from <200 https://udn.com/news/story/7470/7780564>\n",
            "{'title': '發現絕美浪貓想收編！阿嬤出招幫孫女抓喵 本尊就在旁邊當場看傻：人類好奇怪', 'content': '\\r\\n\\r\\n一名女網友近期發現社區附近有一隻漂亮的流浪貓，她決定想要收編就請阿嬤幫忙抓貓，結果沒想到阿嬤竟然出了詭異招數想把浪貓吸引到家中，卻沒發現浪貓本尊就在附近一臉疑惑的看著阿嬤的行為，就像是在說「人類好奇怪」。\\r\\n\\r\\n大陸微博用戶「人間奇趣紀錄儀」19日貼出一段短片，一名女網友發現社區近來有一隻漂亮的流浪貓經常出沒，幾經思考後她決定要收編這隻漂亮浪貓不再讓牠流浪，於是便麻煩經常待在家中的阿嬤幫忙抓貓。只見阿嬤準備好了香噴噴的貓罐頭放在紙盤上，將食物放到浪貓經常出沒的陽台邊，緊接著一番操作都把孫女看傻眼。\\r\\n\\r\\n只見阿嬤拿出一隻貓玩偶放在食物旁邊，做出吃飯的動作，還不時換個位子就像是在表演什麼貓咪餵食秀一樣，殊不知女網友想要收編的貓咪老早就被食物吸引過來，但看不懂人類的奇怪行為，只好巴在欄杆上一臉疑惑的看著阿嬤的詭異行為，就像是在說「人類好奇怪」。\\r\\n\\r\\n影片在網路上不到一天吸引超過10萬人觀看，網友留言表示「我笑到快不行，貓咪一定想說這麼奇怪的動作」、「阿嬤好可愛喔」、「貓咪：這家子人太詭異了還是別被他們養了」、「其實阿嬤真的很疼孫，看得出來也是個喜歡貓咪的老人家」。\\r\\n\\r\\n\\r\\n', 'url': 'https://udn.com/news/story/7470/7780564'}\n",
            "2024-02-21 08:41:47 [scrapy.core.engine] DEBUG: Crawled (200) <GET https://udn.com/news/story/6656/7783046?list_ch2_index> (referer: https://udn.com/news/index)\n",
            "2024-02-21 08:41:47 [scrapy.extensions.logstats] INFO: Crawled 18 pages (at 18 pages/min), scraped 16 items (at 16 items/min)\n",
            "2024-02-21 08:41:47 [scrapy.core.scraper] DEBUG: Scraped from <200 https://udn.com/news/story/6656/7783046?list_ch2_index>\n",
            "{'title': '2028藍總統人選可能是「他」？ 高嘉瑜評盧秀燕稱：看到另一個侯友宜', 'content': '民進黨前立委今天接受媒體人黃光芹網路節目專訪，高嘉瑜認為，這次新國會三黨不過半，立法院長是最大得利者，立法院長位子是非常適合韓國瑜的舞台，並說「很難講，下一次總統候選人會不會是韓國瑜...」；對於目前代表國民黨挑戰2028呼聲高的台中市長，高嘉瑜認為，盧秀燕「若推上總統候選人，會覺得是看到另一個出現」。\\r\\n\\r\\n高嘉瑜今天接受媒體人黃光芹專訪，聊到新國會，高嘉瑜說，三黨不過半是之前就可以預料的，韓國瑜當院長也不意外，並稱韓國瑜可以說是最大得利者。\\r\\n\\r\\n高認為，立法院長職位確實是非常適合韓國瑜的舞台，非常適合，因為不用做什麼事，就是協調、坐下來喬事情，還有火爆氣氛能對著柯建銘說「你看著我的眼睛」，與黃國昌的一抱等，能屈能伸。\\r\\n\\r\\n高嘉瑜說，她認為韓國瑜到目前為止，對韓個人來說，不管聲量或好感度，都有創新高，「很難講，下一次國民黨總統候選人會不會是韓國瑜」，尤其過去王金平、游錫堃當院長，沒有人關心其一舉一動。高說，她認為韓國瑜經過高雄市長、總統選舉之後，重新回來立院這個舞台，包括找周萬來等，重新回來後不一樣了，她認為「韓國瑜是對自己的未來是有期待，包括要不要再選黨主席、總統，看來是有企圖心的。」\\r\\n\\r\\n至於台中市長盧秀燕，高嘉瑜認為，盧秀燕的魅力與講話風格，還是比較溫吞，「若推上總統候選人時，就會覺得是看到另一個侯友宜出現」，侯友宜當初當市長，也是好感度很高，但選總統完全不一樣，盧秀燕現在支持度、滿意度高，但一旦選總統，需要的是明星的光環與魅力，風潮魅力盧秀燕目前看，是還沒有看到那個程度。', 'url': 'https://udn.com/news/story/6656/7783046?list_ch2_index'}\n",
            "2024-02-21 08:41:48 [scrapy.crawler] INFO: Received SIGINT, shutting down gracefully. Send again to force \n",
            "2024-02-21 08:41:48 [scrapy.core.engine] INFO: Closing spider (shutdown)\n",
            "2024-02-21 08:41:52 [scrapy.crawler] INFO: Received SIGINT twice, forcing unclean shutdown\n"
          ]
        }
      ]
    }
  ],
  "metadata": {
    "colab": {
      "provenance": []
    },
    "kernelspec": {
      "display_name": "Python 3",
      "name": "python3"
    }
  },
  "nbformat": 4,
  "nbformat_minor": 0
}