{
  "nbformat": 4,
  "nbformat_minor": 0,
  "metadata": {
    "colab": {
      "provenance": [],
      "collapsed_sections": [
        "iaG91HbsnNcy",
        "Sj2vbBR3nXSj"
      ]
    },
    "kernelspec": {
      "name": "python3",
      "display_name": "Python 3"
    },
    "language_info": {
      "name": "python"
    }
  },
  "cells": [
    {
      "cell_type": "markdown",
      "source": [
        "### 雅思作文"
      ],
      "metadata": {
        "id": "pZGQtNLE7FB9"
      }
    },
    {
      "cell_type": "markdown",
      "source": [
        "![螢幕擷取畫面 2024-04-14 200719.png](data:image/png;base64,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)"
      ],
      "metadata": {
        "id": "cKOAi1xYgL1Y"
      }
    },
    {
      "cell_type": "markdown",
      "source": [
        "### (1)輸入一篇英文作文,程式會幫忙批改作文，可以找錯字、文法錯誤、還有是否合乎主題\n",
        "雅思的作文第一大題是圖表類型\n",
        "主要有六種分別是Diagram,Bar,Table,Map,Line,pie\n",
        "可以解決沒有老師時無人批改作文的慘況"
      ],
      "metadata": {
        "id": "qz1352Cy0SAU"
      }
    },
    {
      "cell_type": "markdown",
      "source": [
        "### (2)讓使用者輸入一篇作文 可以返回錯字、文法錯誤、和他的文章類別"
      ],
      "metadata": {
        "id": "8ZTk8__I0jxe"
      }
    },
    {
      "cell_type": "markdown",
      "source": [
        "### (3)使用這個程式可以和許多範文進行比對，看看自己的文章是否合乎主題\n",
        "###   主題為雅思第一大題(圖表題)，主要常考六種\n",
        "###   0:Diagram  1:Bar  2:Table  3:Map  4:Line  5:Pie"
      ],
      "metadata": {
        "id": "CauT-XQv0uVi"
      }
    },
    {
      "cell_type": "markdown",
      "source": [
        "### (4)使用BERT、Gradio、Scrapy、pyspellchecker、language-tool-python"
      ],
      "metadata": {
        "id": "7mCyyBex1bjj"
      }
    },
    {
      "cell_type": "markdown",
      "source": [
        "### (5)因為我準備要考雅思，但是有時候作文沒人幫我看真的很困擾，所以剛好借此機會試作一個可以幫我改作文的小幫手"
      ],
      "metadata": {
        "id": "A3UNeobD08Xr"
      }
    },
    {
      "cell_type": "markdown",
      "source": [
        "### (6)程式區塊："
      ],
      "metadata": {
        "id": "InD90ime1xun"
      }
    },
    {
      "cell_type": "markdown",
      "source": [
        "## 檢查錯字"
      ],
      "metadata": {
        "id": "iaG91HbsnNcy"
      }
    },
    {
      "cell_type": "code",
      "source": [
        "!pip install pyspellchecker"
      ],
      "metadata": {
        "colab": {
          "base_uri": "https://localhost:8080/"
        },
        "id": "qPqWSzJFkVFp",
        "outputId": "c4aa6fc2-a6d6-437c-b256-d5ec5d4a3775"
      },
      "execution_count": 32,
      "outputs": [
        {
          "output_type": "stream",
          "name": "stdout",
          "text": [
            "Collecting pyspellchecker\n",
            "  Downloading pyspellchecker-0.8.1-py3-none-any.whl (6.8 MB)\n",
            "\u001b[2K     \u001b[90m━━━━━━━━━━━━━━━━━━━━━━━━━━━━━━━━━━━━━━━━\u001b[0m \u001b[32m6.8/6.8 MB\u001b[0m \u001b[31m15.0 MB/s\u001b[0m eta \u001b[36m0:00:00\u001b[0m\n",
            "\u001b[?25hInstalling collected packages: pyspellchecker\n",
            "Successfully installed pyspellchecker-0.8.1\n"
          ]
        }
      ]
    },
    {
      "cell_type": "code",
      "source": [
        "from spellchecker import SpellChecker\n",
        "\n",
        "def spell_check(text):\n",
        "    spell = SpellChecker(language='en')\n",
        "\n",
        "    # 把作文分割成單字\n",
        "    errors = spell.unknown(text.split())\n",
        "\n",
        "    return errors\n",
        "\n",
        "if __name__ == \"__main__\":\n",
        "    #輸入作文\n",
        "    count=0\n",
        "    essay = \"The pie charts show the admount of revenue and expditures in 2016 for a children’s charity in the USA. Overall, it can be seen that donated food accounted for the majority of the income, while program services accounted for the most expenditure. Total revenue sources just exceeded outgoings.In detail, donated food provided most of the revenue for the charity, at 86%. Similarly, with regard to expenditures, one category, program services, accounted for nearly all of the outgoings, at 95.8%. The other categories were much smaller. Community contributions, which wedare the second largest revenue source, brought in 10.4% of overall income, and this was followed by proram revenue, at 2.2%. Investment icome, goverawdnment grants, and otdher income were very small sourcdes of revenue, accounting for only 0.8% combined.There were only two other expenditure items, fundraising and management and general, accounting for 2.6% and 1.6% respectively. The total amount of income was $53,561,580, which was just enough to cover the expenditures of $53,224,896.\"\n",
        "\n",
        "    # 檢查錯誤\n",
        "    spelling_errors = spell_check(essay)\n",
        "\n",
        "    # 輸出錯誤單字\n",
        "    if spelling_errors:\n",
        "        print(\"Spelling errors found:\")\n",
        "        for error in spelling_errors:\n",
        "            print(\"- \", error)\n",
        "            count+=1\n",
        "    else:\n",
        "        print(\"No spelling errors found. Good job!\")\n",
        "print(count)"
      ],
      "metadata": {
        "colab": {
          "base_uri": "https://localhost:8080/"
        },
        "id": "vAb1nK2Bio68",
        "outputId": "4cf23440-db63-45b6-82bd-ab19cc08d50e"
      },
      "execution_count": 34,
      "outputs": [
        {
          "output_type": "stream",
          "name": "stdout",
          "text": [
            "Spelling errors found:\n",
            "-  items,\n",
            "-  goverawdnment\n",
            "-  children’s\n",
            "-  grants,\n",
            "-  similarly,\n",
            "-  2.2%.\n",
            "-  2.6%\n",
            "-  admount\n",
            "-  0.8%\n",
            "-  general,\n",
            "-  charity,\n",
            "-  detail,\n",
            "-  expditures\n",
            "-  usa.\n",
            "-  $53,224,896.\n",
            "-  $53,561,580,\n",
            "-  proram\n",
            "-  outgoings.in\n",
            "-  outgoings,\n",
            "-  1.6%\n",
            "-  95.8%.\n",
            "-  income,\n",
            "-  overall,\n",
            "-  smaller.\n",
            "-  category,\n",
            "-  otdher\n",
            "-  source,\n",
            "-  sourcdes\n",
            "-  combined.there\n",
            "-  services,\n",
            "-  revenue,\n",
            "-  86%.\n",
            "-  respectively.\n",
            "-  expenditures,\n",
            "-  wedare\n",
            "-  10.4%\n",
            "-  icome,\n",
            "-  expenditure.\n",
            "-  contributions,\n",
            "39\n"
          ]
        }
      ]
    },
    {
      "cell_type": "markdown",
      "source": [
        "## 檢查文法"
      ],
      "metadata": {
        "id": "Sj2vbBR3nXSj"
      }
    },
    {
      "cell_type": "code",
      "source": [
        "#下載支援檢查文法的套件\n",
        "!pip install language-tool-python"
      ],
      "metadata": {
        "colab": {
          "base_uri": "https://localhost:8080/"
        },
        "id": "rkv-nrcanWiX",
        "outputId": "52271173-70a8-40dc-b95e-9586f2fac256"
      },
      "execution_count": 36,
      "outputs": [
        {
          "output_type": "stream",
          "name": "stdout",
          "text": [
            "Collecting language-tool-python\n",
            "  Downloading language_tool_python-2.8-py3-none-any.whl (35 kB)\n",
            "Requirement already satisfied: pip in /usr/local/lib/python3.10/dist-packages (from language-tool-python) (23.1.2)\n",
            "Requirement already satisfied: requests in /usr/local/lib/python3.10/dist-packages (from language-tool-python) (2.31.0)\n",
            "Requirement already satisfied: tqdm in /usr/local/lib/python3.10/dist-packages (from language-tool-python) (4.66.2)\n",
            "Requirement already satisfied: wheel in /usr/local/lib/python3.10/dist-packages (from language-tool-python) (0.43.0)\n",
            "Requirement already satisfied: charset-normalizer<4,>=2 in /usr/local/lib/python3.10/dist-packages (from requests->language-tool-python) (3.3.2)\n",
            "Requirement already satisfied: idna<4,>=2.5 in /usr/local/lib/python3.10/dist-packages (from requests->language-tool-python) (3.6)\n",
            "Requirement already satisfied: urllib3<3,>=1.21.1 in /usr/local/lib/python3.10/dist-packages (from requests->language-tool-python) (2.0.7)\n",
            "Requirement already satisfied: certifi>=2017.4.17 in /usr/local/lib/python3.10/dist-packages (from requests->language-tool-python) (2024.2.2)\n",
            "Installing collected packages: language-tool-python\n",
            "Successfully installed language-tool-python-2.8\n"
          ]
        }
      ]
    },
    {
      "cell_type": "code",
      "source": [
        "from language_tool_python import LanguageTool\n",
        "\n",
        "def check_grammar(text):\n",
        "    error_count = 0\n",
        "    tool = LanguageTool('en-US')\n",
        "\n",
        "    # 檢查語法錯誤\n",
        "    matches = tool.check(text)\n",
        "\n",
        "    # 輸出錯誤的地方\n",
        "    if matches:\n",
        "        print(\"Grammar errors found:\")\n",
        "        for match in matches:\n",
        "            print(\"Error:\", match.ruleId)\n",
        "            print(\"Description:\", match.message)\n",
        "            print(\"Suggestions:\", match.replacements)\n",
        "            print(\"\")\n",
        "        error_count += len(matches)\n",
        "    return error_count\n",
        "\n",
        "if __name__ == \"__main__\":\n",
        "    # 獲取文章輸入\n",
        "    text = \"The pie charts show the amount of revenue and expenditures in 2016 for a children’s charity in the USA. Overall, it can be seen that donated food accounted for the majority of the income, while program services accounted for the most expenditure. Total revenue sources just exceeded outgoings.In detail, donated food provided most of the revenue for the charity, at 86%. Similarly, with regard to expenditures, one category, program services, accounted for nearly all of the outgoings, at 95.8%. The other categories were much smaller. Community contributions, which were the second largest revenue source, brought in 10.4% of overall income, and this was followed by program revenue, at 2.2%. Investment income, government grants, and other income were very small sources of revenue, accounting for only 0.8% combined.There were only two other expenditure items, fundraising and management and general, accounting for 2.6% and 1.6% respectively. The total amount of income was $53,561,580, which was just enough to cover the expenditures of $53,224,896.\"\n",
        "\n",
        "    # 計算錯誤數量\n",
        "    error_count = check_grammar(text)\n",
        "    print(\"Total errors:\", error_count)\n"
      ],
      "metadata": {
        "colab": {
          "base_uri": "https://localhost:8080/"
        },
        "id": "L17x01_tlqZK",
        "outputId": "7f9d54d2-50e4-4fc5-d482-8698e8ce83ae"
      },
      "execution_count": 37,
      "outputs": [
        {
          "output_type": "stream",
          "name": "stderr",
          "text": [
            "Downloading LanguageTool 6.4: 100%|██████████| 246M/246M [00:08<00:00, 28.2MB/s]\n",
            "INFO:language_tool_python.download_lt:Unzipping /tmp/tmp1ya9uqa3.zip to /root/.cache/language_tool_python.\n",
            "INFO:language_tool_python.download_lt:Downloaded https://www.languagetool.org/download/LanguageTool-6.4.zip to /root/.cache/language_tool_python.\n"
          ]
        },
        {
          "output_type": "stream",
          "name": "stdout",
          "text": [
            "Grammar errors found:\n",
            "Error: SENTENCE_WHITESPACE\n",
            "Description: Add a space between sentences.\n",
            "Suggestions: [' In']\n",
            "\n",
            "Error: ALL_OF_THE\n",
            "Description: Consider removing “of” to be more concise\n",
            "Suggestions: ['all the']\n",
            "\n",
            "Error: SECOND_LARGEST_HYPHEN\n",
            "Description: It appears that a hyphen is missing.\n",
            "Suggestions: ['second-largest']\n",
            "\n",
            "Error: SENTENCE_WHITESPACE\n",
            "Description: Add a space between sentences.\n",
            "Suggestions: [' There']\n",
            "\n",
            "Total errors: 4\n"
          ]
        }
      ]
    },
    {
      "cell_type": "markdown",
      "source": [
        "## 收集資料集"
      ],
      "metadata": {
        "id": "jJMYZoO3LOoe"
      }
    },
    {
      "cell_type": "code",
      "source": [
        "!pip install scrapy"
      ],
      "metadata": {
        "colab": {
          "base_uri": "https://localhost:8080/"
        },
        "id": "m3yYcoVLLS_Y",
        "outputId": "d3cbc01e-52c9-457b-dcc1-4a2d27839ff0"
      },
      "execution_count": null,
      "outputs": [
        {
          "output_type": "stream",
          "name": "stdout",
          "text": [
            "Requirement already satisfied: scrapy in /usr/local/lib/python3.10/dist-packages (2.11.1)\n",
            "Requirement already satisfied: Twisted>=18.9.0 in /usr/local/lib/python3.10/dist-packages (from scrapy) (24.3.0)\n",
            "Requirement already satisfied: cryptography>=36.0.0 in /usr/local/lib/python3.10/dist-packages (from scrapy) (42.0.5)\n",
            "Requirement already satisfied: cssselect>=0.9.1 in /usr/local/lib/python3.10/dist-packages (from scrapy) (1.2.0)\n",
            "Requirement already satisfied: itemloaders>=1.0.1 in /usr/local/lib/python3.10/dist-packages (from scrapy) (1.1.0)\n",
            "Requirement already satisfied: parsel>=1.5.0 in /usr/local/lib/python3.10/dist-packages (from scrapy) (1.9.1)\n",
            "Requirement already satisfied: pyOpenSSL>=21.0.0 in /usr/local/lib/python3.10/dist-packages (from scrapy) (24.1.0)\n",
            "Requirement already satisfied: queuelib>=1.4.2 in /usr/local/lib/python3.10/dist-packages (from scrapy) (1.6.2)\n",
            "Requirement already satisfied: service-identity>=18.1.0 in /usr/local/lib/python3.10/dist-packages (from scrapy) (24.1.0)\n",
            "Requirement already satisfied: w3lib>=1.17.0 in /usr/local/lib/python3.10/dist-packages (from scrapy) (2.1.2)\n",
            "Requirement already satisfied: zope.interface>=5.1.0 in /usr/local/lib/python3.10/dist-packages (from scrapy) (6.3)\n",
            "Requirement already satisfied: protego>=0.1.15 in /usr/local/lib/python3.10/dist-packages (from scrapy) (0.3.1)\n",
            "Requirement already satisfied: itemadapter>=0.1.0 in /usr/local/lib/python3.10/dist-packages (from scrapy) (0.8.0)\n",
            "Requirement already satisfied: setuptools in /usr/local/lib/python3.10/dist-packages (from scrapy) (67.7.2)\n",
            "Requirement already satisfied: packaging in /usr/local/lib/python3.10/dist-packages (from scrapy) (24.0)\n",
            "Requirement already satisfied: tldextract in /usr/local/lib/python3.10/dist-packages (from scrapy) (5.1.2)\n",
            "Requirement already satisfied: lxml>=4.4.1 in /usr/local/lib/python3.10/dist-packages (from scrapy) (4.9.4)\n",
            "Requirement already satisfied: PyDispatcher>=2.0.5 in /usr/local/lib/python3.10/dist-packages (from scrapy) (2.0.7)\n",
            "Requirement already satisfied: cffi>=1.12 in /usr/local/lib/python3.10/dist-packages (from cryptography>=36.0.0->scrapy) (1.16.0)\n",
            "Requirement already satisfied: jmespath>=0.9.5 in /usr/local/lib/python3.10/dist-packages (from itemloaders>=1.0.1->scrapy) (1.0.1)\n",
            "Requirement already satisfied: attrs>=19.1.0 in /usr/local/lib/python3.10/dist-packages (from service-identity>=18.1.0->scrapy) (23.2.0)\n",
            "Requirement already satisfied: pyasn1 in /usr/local/lib/python3.10/dist-packages (from service-identity>=18.1.0->scrapy) (0.6.0)\n",
            "Requirement already satisfied: pyasn1-modules in /usr/local/lib/python3.10/dist-packages (from service-identity>=18.1.0->scrapy) (0.4.0)\n",
            "Requirement already satisfied: automat>=0.8.0 in /usr/local/lib/python3.10/dist-packages (from Twisted>=18.9.0->scrapy) (22.10.0)\n",
            "Requirement already satisfied: constantly>=15.1 in /usr/local/lib/python3.10/dist-packages (from Twisted>=18.9.0->scrapy) (23.10.4)\n",
            "Requirement already satisfied: hyperlink>=17.1.1 in /usr/local/lib/python3.10/dist-packages (from Twisted>=18.9.0->scrapy) (21.0.0)\n",
            "Requirement already satisfied: incremental>=22.10.0 in /usr/local/lib/python3.10/dist-packages (from Twisted>=18.9.0->scrapy) (22.10.0)\n",
            "Requirement already satisfied: typing-extensions>=4.2.0 in /usr/local/lib/python3.10/dist-packages (from Twisted>=18.9.0->scrapy) (4.11.0)\n",
            "Requirement already satisfied: idna in /usr/local/lib/python3.10/dist-packages (from tldextract->scrapy) (3.6)\n",
            "Requirement already satisfied: requests>=2.1.0 in /usr/local/lib/python3.10/dist-packages (from tldextract->scrapy) (2.31.0)\n",
            "Requirement already satisfied: requests-file>=1.4 in /usr/local/lib/python3.10/dist-packages (from tldextract->scrapy) (2.0.0)\n",
            "Requirement already satisfied: filelock>=3.0.8 in /usr/local/lib/python3.10/dist-packages (from tldextract->scrapy) (3.13.4)\n",
            "Requirement already satisfied: six in /usr/local/lib/python3.10/dist-packages (from automat>=0.8.0->Twisted>=18.9.0->scrapy) (1.16.0)\n",
            "Requirement already satisfied: pycparser in /usr/local/lib/python3.10/dist-packages (from cffi>=1.12->cryptography>=36.0.0->scrapy) (2.22)\n",
            "Requirement already satisfied: charset-normalizer<4,>=2 in /usr/local/lib/python3.10/dist-packages (from requests>=2.1.0->tldextract->scrapy) (3.3.2)\n",
            "Requirement already satisfied: urllib3<3,>=1.21.1 in /usr/local/lib/python3.10/dist-packages (from requests>=2.1.0->tldextract->scrapy) (2.0.7)\n",
            "Requirement already satisfied: certifi>=2017.4.17 in /usr/local/lib/python3.10/dist-packages (from requests>=2.1.0->tldextract->scrapy) (2024.2.2)\n"
          ]
        }
      ]
    },
    {
      "cell_type": "code",
      "source": [
        "#上去爬Ielts的作文 網站：IELT LIZ\n",
        "!scrapy runspider Ielts.py"
      ],
      "metadata": {
        "colab": {
          "base_uri": "https://localhost:8080/"
        },
        "id": "waPls1TzLn1n",
        "outputId": "a239264b-72ea-46c2-fddd-01268ca48aa3"
      },
      "execution_count": null,
      "outputs": [
        {
          "output_type": "stream",
          "name": "stdout",
          "text": [
            "2024-04-14 13:59:55 [scrapy.utils.log] INFO: Scrapy 2.11.1 started (bot: scrapybot)\n",
            "2024-04-14 13:59:55 [scrapy.utils.log] INFO: Versions: lxml 4.9.4.0, libxml2 2.10.3, cssselect 1.2.0, parsel 1.9.1, w3lib 2.1.2, Twisted 24.3.0, Python 3.10.12 (main, Nov 20 2023, 15:14:05) [GCC 11.4.0], pyOpenSSL 24.1.0 (OpenSSL 3.2.1 30 Jan 2024), cryptography 42.0.5, Platform Linux-6.1.58+-x86_64-with-glibc2.35\n",
            "2024-04-14 13:59:55 [scrapy.addons] INFO: Enabled addons:\n",
            "[]\n",
            "/usr/local/lib/python3.10/dist-packages/scrapy/utils/request.py:254: ScrapyDeprecationWarning: '2.6' is a deprecated value for the 'REQUEST_FINGERPRINTER_IMPLEMENTATION' setting.\n",
            "\n",
            "It is also the default value. In other words, it is normal to get this warning if you have not defined a value for the 'REQUEST_FINGERPRINTER_IMPLEMENTATION' setting. This is so for backward compatibility reasons, but it will change in a future version of Scrapy.\n",
            "\n",
            "See the documentation of the 'REQUEST_FINGERPRINTER_IMPLEMENTATION' setting for information on how to handle this deprecation.\n",
            "  return cls(crawler)\n",
            "2024-04-14 13:59:55 [scrapy.utils.log] DEBUG: Using reactor: twisted.internet.epollreactor.EPollReactor\n",
            "2024-04-14 13:59:55 [scrapy.extensions.telnet] INFO: Telnet Password: aeeb2d777c2fbf81\n",
            "/usr/local/lib/python3.10/dist-packages/scrapy/extensions/feedexport.py:406: ScrapyDeprecationWarning: The `FEED_URI` and `FEED_FORMAT` settings have been deprecated in favor of the `FEEDS` setting. Please see the `FEEDS` setting docs for more details\n",
            "  exporter = cls(crawler)\n",
            "2024-04-14 13:59:55 [scrapy.middleware] INFO: Enabled extensions:\n",
            "['scrapy.extensions.corestats.CoreStats',\n",
            " 'scrapy.extensions.telnet.TelnetConsole',\n",
            " 'scrapy.extensions.memusage.MemoryUsage',\n",
            " 'scrapy.extensions.feedexport.FeedExporter',\n",
            " 'scrapy.extensions.logstats.LogStats']\n",
            "2024-04-14 13:59:55 [scrapy.crawler] INFO: Overridden settings:\n",
            "{'DOWNLOAD_DELAY': '3',\n",
            " 'FEED_EXPORT_ENCODING': 'utf-8',\n",
            " 'SPIDER_LOADER_WARN_ONLY': True}\n",
            "2024-04-14 13:59:55 [scrapy.middleware] INFO: Enabled downloader middlewares:\n",
            "['scrapy.downloadermiddlewares.httpauth.HttpAuthMiddleware',\n",
            " 'scrapy.downloadermiddlewares.downloadtimeout.DownloadTimeoutMiddleware',\n",
            " 'scrapy.downloadermiddlewares.defaultheaders.DefaultHeadersMiddleware',\n",
            " 'scrapy.downloadermiddlewares.useragent.UserAgentMiddleware',\n",
            " 'scrapy.downloadermiddlewares.retry.RetryMiddleware',\n",
            " 'scrapy.downloadermiddlewares.redirect.MetaRefreshMiddleware',\n",
            " 'scrapy.downloadermiddlewares.httpcompression.HttpCompressionMiddleware',\n",
            " 'scrapy.downloadermiddlewares.redirect.RedirectMiddleware',\n",
            " 'scrapy.downloadermiddlewares.cookies.CookiesMiddleware',\n",
            " 'scrapy.downloadermiddlewares.httpproxy.HttpProxyMiddleware',\n",
            " 'scrapy.downloadermiddlewares.stats.DownloaderStats']\n",
            "2024-04-14 13:59:55 [scrapy.middleware] INFO: Enabled spider middlewares:\n",
            "['scrapy.spidermiddlewares.httperror.HttpErrorMiddleware',\n",
            " 'scrapy.spidermiddlewares.offsite.OffsiteMiddleware',\n",
            " 'scrapy.spidermiddlewares.referer.RefererMiddleware',\n",
            " 'scrapy.spidermiddlewares.urllength.UrlLengthMiddleware',\n",
            " 'scrapy.spidermiddlewares.depth.DepthMiddleware']\n",
            "2024-04-14 13:59:55 [scrapy.middleware] INFO: Enabled item pipelines:\n",
            "[]\n",
            "2024-04-14 13:59:55 [scrapy.core.engine] INFO: Spider opened\n",
            "2024-04-14 13:59:55 [scrapy.extensions.logstats] INFO: Crawled 0 pages (at 0 pages/min), scraped 0 items (at 0 items/min)\n",
            "2024-04-14 13:59:55 [scrapy.extensions.telnet] INFO: Telnet console listening on 127.0.0.1:6023\n",
            "2024-04-14 13:59:56 [scrapy.core.engine] DEBUG: Crawled (200) <GET https://ieltsliz.com/ielts-diagram-model-answer-score-9/> (referer: None)\n",
            "2024-04-14 13:59:56 [scrapy.dupefilters] DEBUG: Filtered duplicate request: <GET https://ieltsliz.com/ielts-diagram-model-answer-score-9/#comments> - no more duplicates will be shown (see DUPEFILTER_DEBUG to show all duplicates)\n",
            "2024-04-14 14:00:00 [scrapy.core.engine] DEBUG: Crawled (200) <GET https://ieltsliz.com/ielts-diagram-model-answer-score-9/> (referer: https://ieltsliz.com/ielts-diagram-model-answer-score-9/)\n",
            "2024-04-14 14:00:00 [scrapy.core.scraper] DEBUG: Scraped from <200 https://ieltsliz.com/ielts-diagram-model-answer-score-9/>\n",
            "{'title': 'Uttam', 'content': 'Should not the second last sentence in the second paragraph say grind instead of ground?&lt;br&gt;The second last sentence in the first body paragraph uses the passive voice: is ground. You create the passive voice using the verb “to be + past participle”. The past participle of grind is ground. Diagrams quite commonly use the passive voice in sentences.&lt;br&gt;The diagram illustrates the production of cement through various stages involved along with several tools used. Further it demonstrates how this cement is utilized for the generation of concrete which is essential for building purposes.&lt;br&gt;It is apparent from the diagrams that the production of cement involves undergoing several stages such as mixing , rotation and grinding. This cement is then used for the formation of concrete which undergoes a simple process of mixing various substances such as with water , sand and gravel.&lt;br&gt;Initially limestone and clay are allowed to pass through crusher and this outcome is transferred to Mixer. The product formed after mixing moves towards the rotating heater accompanied by heat produces the pre-form of cement. This pre-form then allowed to pass through the Grinder to form a final powder type  material called cement which is ready to be packed into bags .&lt;br&gt;Now 15% of cement is mixed with 10% of water along with 25 % and 50% of sand and grovel (composed of small stones) respectively. At next this final mixer passed through the concrete mixer process. After rigorous rotation ,we get concrete as the final product ready to be used as construction material.&lt;br&gt;The two diagrams delineate how cement is manufactured and used to make concrete for the purpose of construction.&lt;br&gt;Overall, the procedure of cement making involves five steps, divided into two primary stages of processing raw materials and packaging, while the concrete production comprises only one step of mixing the ingredients together. &lt;br&gt;Regarding the first diagram, natural products such as limestone and clay are poured into the crushing machine, where they are passed between the two rollers to form a fine powder. Following this, the resultant powder is then placed in a mixing equipment for blending, after which a direct heat source is applied to a rotating heater to raise its temperature. Next, the hot amalgam is broken down into finer particles by a grinder to create cement, whereupon it is then put into bags to be distributed to construction sites.&lt;br&gt;As required, the cement is spun in a concrete mixer, accounting for 15% of the total mixture, along with 10% of water, 25% of sand and 50% of gravel. The final product of this treatment is concrete to be used for building various structures.&lt;br&gt;\\n(184 words)&lt;br&gt;Please any one review my task 1:&lt;br&gt;\\nThe diagram illustrates the way to produce cement by using these materials, secondly, how to convert cement into concrete and develop concrete for construction purposes from cement.&lt;br&gt;\\nOverall, the cement production starts from Limestone and Clay, after completing the stage then ending up disappearing into the cement bags. Concrete is generated from cement after involving water and contributes stones around about 50 percent The cement-making uses a number of tools and creates concrete using a concrete mixer. There are first linear graph relays on 10 steps and concrete on 5 parts.&lt;br&gt;\\nIn the stage of making cement, the Limestones and clay are crushed into form powder. After that mixer has been rounded heater and transferred to the heat view. After completing the heat stage, the grinder grinds the heat and produces actual cement. The cement is packed in bags to be sold in the market.&lt;br&gt;\\nIn the second diagram, cement and water have a crucial role in producing concrete. Just 15 percent cement and approximately 10 percent water are used for making concrete. Gravel is almost 50 percent and sand 25 percent of usage through the concrete mixer. The concrete mixer combine all item in one stage and, finally, change cement into concrete format. The small stones used 50 percent as compared to other tools.&lt;br&gt;The diagrams depict the process of cement production and its further usage to make concrete for construction.&lt;br&gt;Overall, there are two major stages which can be determined: cement production, which has 4 steps and requires multiple tools and less complicated concrete making. &lt;br&gt;Initially, limestone and clay are combined together to be crushed by a crasher. Once the crushed powder is ready, it goes through the mixer to the rotating heater, where under the influence of heat, from the opposite end of the tube, the mixture is being rotated. After this step is finished, the mixture is grinded by a grinder in order to become cement. The final step is to place cement into bags for storing and further usage. &lt;br&gt;At this point, concrete is ready to be made. In order to do this, 4 ingredients are needed: a quarter of sand, 10% of water, 15% of cement and 50% of gravel, which are small stones. All the ingredients are mixed together in a concrete mixer, which makes concrete by constant rotating.&lt;br&gt;This diagram clearly depicts the step-by-step process of cement production and its role in the creation of concrete. The production of cement involves 8-10 rigorous stages that are essential for its creation. On the other hand, concrete is formed by combining cement, water, sand, and gravel in varying proportions. The initial stage of cement creation involves blending limestone and clay to form a fine powder, which is then mixed with other ingredients and heated at high temperatures in a rotating heater. The resulting substance is then ground in a grinder and stored in different bags. Furthermore, the second diagram emphasizes that gravel is the primary component of concrete, constituting 50% of the ingredients, followed by cement (15%), water (10%), and sand (25%). These constituents are combined in a rotating concrete mixer to produce the final product.&lt;br&gt;The diagram illustrates the manufacturing process of cement production and the way in which concrete is manufactured from the cement.&lt;br&gt;Overall, the cement is manufactured in 8-10 stages. Whereas, concrete is produced using cement, water, sand, and gravel in different proportions.&lt;br&gt;In the first stage of cement making, limestone, and clay are mixed together and powder is formed. Then after this powder is taken into the mixer and mixed with several ingredients. through which it passes through the rotating heater and is heated at high temperature, and then finally the product is grinded in a grinder and the cement is kept in different bags.&lt;br&gt;Regarding the second diagram, concrete consists mainly of gravel, which is small stones, and this makes up 50% of the ingredients, The other materials are cement (15%), water (10%), and sand (25%). These all ingredients are poured into a concrete mixer which continuously rotates to combine the materials and ultimately produces concrete.&lt;br&gt;Hi liz,&lt;br&gt;\\nPlease correct my mistakes and guess the band score of my writing.&lt;br&gt;The diagram illustrates the raw materials and the process with the corresponding equipment required for making cement and how the concrete is produced for building purposes using cement and other ingredients. Overall, cement which is mixed with different ingredients(water , sand, and gravel) is produced from 4 main stages where raw materials (Limestone and Clay) are used.&lt;br&gt;At first, limestone and clay is passed through crusher to break it down in the form of powder which is then passed through the mixer. The mixed powder is then passed to next station where it is heated by rotating heater to make cement granules. And finally, it is passed through grinder to make it fine particles which is then packed into bags ready to use.&lt;br&gt;Regarding the second diagram, cement is used for concrete production which accounts for 15% of total ingredients to be used. The cement is then mixed with 10% of water ,25% of sand and 50% of gravel(small stones) in the concrete mixer which is then rotated for certain time to make final product of concrete which can be used for building purposes.&lt;br&gt;The two diagrams show the different stages and equipment used in the process of making cement, and how is cement used in the production of concrete.&lt;br&gt;Overall, there are four different phases a limestones and clay have to passed through before it became cement and ready for use, while making concrete requires only 1. While the process of making cement uses numbers of equipment, only mixer is being used in making a concrete.&lt;br&gt;In making cement, Firstly, the limestones and clay will pass through a crusher. This crusher will break the limestones and clay into a smaller piece till they became powder in appearance, then they will be put into a mixer to mix them evenly. After that, the mixed powder will pass again through a tube which is connected to a rotating heater which has constant heat at the end of it. From this point, the product will then go to a grinder and from then cement is made and is ready for bagging.&lt;br&gt;In concrete production, combinations of different amount of materials like cement at 15%, sand 25 %, water and small stones  at 10 % and 25 % respectively are being put in a concrete mixer and all of these will be mixed together and the end product is a concrete which is ready for making buildings.&lt;br&gt;The given diagrams represent about the procedure and equipment required while producing cement and eventually concrete from obtained cement. The obtain cement has been filed in the plastic bags. On the contrary, in the complete production of concrete, cement work as raw material.&lt;br&gt;\\nInitially Limestone and Clay has been mixed and passed through a crusher which crush and convert in powder form. This will then pass to a mixer which help in mixing the power and then pass through a rotating heater which has passed over-heat. It is crucial to give the proper amount of heat before passing to the grinder which is the final stage before producing cement which would then be pack in plastic bag and ready for sell.&lt;br&gt;\\n On the other hand, it has been observed with the shared diagram that the Gravel (tiny [pieces of stones] consists half of the total composition (50%). The rest half has been further divided in three parts. The first of them is sand which constitutes one-fourth of the total composition. The rest one-fourth after (50% of Gravel &amp; 25% of sand) constitutes (cement and water).&lt;br&gt;The diagrams illustrate the process of making cement through various steps and one step procedure of making concrete with the help of cement. Overall, lime stone and clay is being processed through many paces, untill it is packed into bags; Moreover, this cement is being used in the production of concrete with other three ingredients. while the cement production is quite a complicated procedure as compared to making concrete which has only one step.&lt;br&gt;\\n       In  the  first picture , clay and lime stones are being crushed to form powder which is next sent to the mixing cylinder. In the next phase the mixer is being heated in a rotating heater with a continuous heat resource from the one side of it , now the mixer is ready to be ground in a grinder and finally cement is ready to be packed.&lt;br&gt;\\n       Regarding the second diagram, there are four ingredients water,cement, sand ,and gravel which is small stones and used in large quantity, with the ratio of 10%, 15%, 25% and 50 % respectively are poured together into a concrete mixer. The concrete mixer rotates the materials continuously to form concrete , Finally.&lt;br&gt;\\nplease anyone can check my task and point out my mistakes. Moreover ,let me know my scores.&lt;br&gt;The first picture illustrates the way in which cement with materials is made step by step, and the second picture shows how is concrete produced by cement for the infrastructure of buildings in one step.&lt;br&gt;Overall, it is conspicuous that the process of cement manufacture is made up of 4 stages, commencing with providing initial materials namely, limestone, and clay, after which they together combine, and at the end contents are placed in large bags. While the function of making cement uses several tools, the production of concrete requires only a concrete mixer.&lt;br&gt;At the first stage of this process, limestone and clay where were pressed by a crusher, and the resulting forcing form a powder, drawn into the mixer, during which prepared for the heat spinning step. Having been heated, the materials passed through the rotating heater, the resulting mixture is placed on the grinder machine. The output of this step is cement, which is packed in bags before being delivered to the market.&lt;br&gt;\\nRegarding the second diagram, at the same time as the device rotates clockwise, add ingredients to it. A concrete mixer is a specifically designed man-made contraction, which integrates primarily ingredients together, with 15% of cement, 10% of water, 25% of sand, and gravel which consist of the largest percentage of it therefore 50% of small stones, the resulting compounding is concrete.&lt;br&gt;The given diagrams describe the two processes necessary to produce concrete that is used for building. The first process being cement production, the second being the production of concrete using the cement produced in the former step.&lt;br&gt;The initial step in cement production, is crushing limestone and clay by means of a roller crusher that turns both raw materials into a powdery form. this powder is then passed to a mixer just right before it goes into the rotating heater, heated by a heatgun. to wrap up the process, the heated product goes through a grinder to produce the final shape of cement that is put in bags.&lt;br&gt;Secondly, 4 different raw materials are poured into the concrete mixer. However, in a rather specific and detailed proportions. Half of that mixture consists of gravel which is basically tiny stones. Sand comes after by quater of the whole mixture. Finally cement and water, 15% and 10% respectively.  The mixer rotatry action does the rest to produce a homogenous and integral final product of concrete.&lt;br&gt;Your ideas are too much preferable for me. I enjoy your ideas and what you are trying to say in your Diagram.❤️&lt;br&gt;The diagram illustrates tools, ingredients and steps cement needs to go through in order to become concrete and be used as a construction material.&lt;br&gt;Overall, before becoming a ready to use material, concrete needs to go over two main phases, the cement production phase, where cement is made and packaged, and the concrete production phase, where concrete is made  mixing cement with other rock.&lt;br&gt;With regards to cement production, a powder resulted from the crushing process of two rocks, Limestone and Clay, is conducted through a pipe to a rotating heater where heat is applied. Furthermore, A grinder is used to grind the mix transforming it to cement that get packaged after that in cement bags.&lt;br&gt;In concrete production phase, 15% cement, 10% water, 25% sand and 50% small stones of gravel are mixed together in a rotation motion by the concrete mixer, the outcome of this process is concrete that’s ready to be used for building purposes.&lt;br&gt;The diagram illustaters tools, ingredients and steps cement needs to go through in order to become concrete and be used as a constraction material.&lt;br&gt;Overall, before becoming a ready to use material, concrete needs to go over two main phases, the cement production phase and concrete production phase.&lt;br&gt;With regards to cement production, a powder resulted from the crushing proccess of two rocks, Limestone and Clay, is conducted through a pipe to a rotating heater where heat is applied. Furthermore, A grinder is used to grind the mix transforming it to cement that get packaged after that in cement bags.&lt;br&gt;In concrete production phase, 15% cement, 10% water, 25% sand and 50% small stones of gravel are mixed together in a rotation motion by the concrete mixer, the outcome of this proccess is a ready to use concrete.&lt;br&gt;Was going through the model answers so the overview and the introduction, are they combined in the first paragraph .&lt;br&gt;It is possible to combine them and I usually do so for diagrams which otherwise have a short introduction. However, the intro and the overview are separate statements even when put in the same paragraph.&lt;br&gt;Thank you 😊&lt;br&gt;Ocean of 😊 thanks&lt;br&gt;You’re welcome 🙂&lt;br&gt;hi liz. sometimes it happened that we are given small process in which it is difficult to complete word count then what should be done in such situation.&lt;br&gt;IELTS does not produce task 1 diagrams or maps etc which cannot be completed within 20mins. This test is designed by professionals, checked and double checked.&lt;br&gt;The figure illustrates the method for the manufacturing of cement in different steps with the instruments involved in the process. Furthermore, the application of the cement for the production of concrete to build architectural structures is demonstrated.&lt;br&gt;\\nOverall, cement production is a stepwise process that involves combination of different materials like limestone and clay with different machineries including crusher, mixer, heater and grinder. Then, in order to implement this cement in building mega structures, it has to be converted into concrete.&lt;br&gt;\\nInitially, cement synthesized by crushing limestone and clay into a powder that further pass through mixer into the rotating heater. Through external flame, heat was provided to the rotating heater to properly mix the powder under elevated temperature. Then heated powder pass through grinder to finally convert into cement. Then cement was packed into the bags.&lt;br&gt;\\nFor the manufacturing of concrete, this synthesized cement was used that comprise of 15 % of all ingredients. Furthermore, half of the concrete constitute of small stones known as Gravel and sand cover the other quarter with 10 % water. All these ingredients collectively mix in concrete mixer to blend the final product.&lt;br&gt;The diagram here illustrates how cement is produced and how its is used for production of concrete. It includes a description of the processes and steps used in order to reach the end product, that is concrete.&lt;br&gt;First, to produce cement; limestone and clay are crushed and mixed together . Once that is done, the mixture is passed through a roller where eternal heat is provided which results in grainy cement. This grainy cement is then passed through a grinder again to get fine cement powder. This Cement is then ready to be packed in bags.&lt;br&gt;Now, to produce the concrete, this cement is used in a ratio of 15 % with 10 % of water, 25% sand and 50% gravel.&lt;br&gt;\\nAll of this is together put in a concrete mixer, which mixes them all together and produces Concrete.&lt;br&gt;Overall, you can see that in order to produce concrete, cement is required and here it shows a complete process of how cement is produced and further used to produce concrete.&lt;br&gt;Geraldine says                                                                                                                                                the diagram illustate the level of materials consumed in the manufacturing of cement, and the use of cement in producing concrete for building purposes.                                                                                                                                                                                                                           &lt;br&gt;How ever, in the cement making production the limestone  and the clay are crushed together to form a powder, then transfered into the mixer before passing through the rotating heater to heat. Then down to the grinder for the grounding process for cement conversion then poured into the cement bag for use.&lt;br&gt;The second process shows that (15%) of cement (25%) sand (50%) gravel which is the small stone plus (10%) of water are all mixed together into the concrete mixer for the concrete production.&lt;br&gt;The diagram display the processes and tools involved in producing cement and how it is converted into concrete for the purpose of building.&lt;br&gt;Overall, the process of making cement involve the use of limestone and clay which undergoes four stages and equipment while concrete production requires only one process and tool.&lt;br&gt;In the first digram, limestone and clay are added into a crusher where they are crushed into a powder and then thoroughly mixed in a mixer. Subsequently, the mixed product enters into a rotating heater which has a source of heat at an extreme end. Furthermore, the heated product is grinded with a grinder into cement which is then poured into various bag.&lt;br&gt;In the second diagram, 15% of cement, 10% of water, 25% of sand and 50% gravel which is a type of small stone is added into a concrete mixer. At this point, the ingredient is thoroughly mixed to give rise to concrete which can be utilize for building.&lt;br&gt;The diagrams illustrate how to make concrete for buildings with the help of processing cement with its stages and equipments used. Overall, limestone and clay pass through four stages before being bagged ready for use as cement which is 15% ingredient of concrete. While the process of making cement uses a number of tools, the production of concrete requires only a concrete mixer.&lt;br&gt;\\n     In the first stage of cement production, limestone and clay are crushed together to make the form of powder. Then the powder is collected in the mixer before passing into a rotating heater which has constant heat exposure at the end of the tube. The resulting mixture is ground in order to produce cement. After the final product is put into bags, then it is ready to be used as a component of making concrete.&lt;br&gt;\\n     Regarding the second diagram, concrete consists of 50% of gravel which is small stones. The other materials used for concrete production are sand (25%), cement (15%) and water (10%). All these ingredients are poured into a concrete mixer which is constantly rotates to combine the materials to produce concrete.&lt;br&gt;Total 187 words.&lt;br&gt;The above diagram illustrates the stages and equipment used in the cement making process, and how cement is used in the production of concrete for building purpose. Cement is one of the four ingredients involved in production of concrete.&lt;br&gt;\\nInitially, ground limestone and clay are added to a crusher to break into smaller particles. This fine powder is next added to a mixer to create a perfect blend of the two. Later the mixed powder is sent into a rotating heater, to which heat is supplied from one end. After heating the mixture, the heated mixture is added to a grinder to make a fine powder. The obtained fine powder is cement. Cement is packed in bags and distributed accordingly.&lt;br&gt;\\nRegarding the second diagram, concrete consists of mainly gravel, which is broken stone and accounts to 50% of the ingredients. Other ingredients are cement (15%), water (10), sand (25%) and gravel (50%). All ingredients are added into a concrete mixer is said proportions and mixed thoroughly to produce concrete.&lt;br&gt;The Diagram above Illustrates all necessary steps and equipment that are followed and used while making cement, further how it is used to make concrete for different building projects.&lt;br&gt;\\nThe process followed for making cement is first limestone and clay are crushed and are mixed in a mixer to properly combine them together, after that the mixture is then heated in a rotating heater once this process is completed the final step is grinding and then finally cement is ready to use.&lt;br&gt;\\nIn concrete production, there are four things that are combined together with proper measurement, things combined together are as follows, Cement [15%], Water [10%], sand [25%], and gravel [50% gravel are small stones] these four materials are mixed in a mixer and concrete is ready to use&lt;br&gt;Please evaluate.&lt;br&gt;\\nThe diagram illustrates the various stages employed in the production of cement and also the method used to make concrete. Overall, limestone and clay passes through four main stages in order to make the final product, which then further added with three more ingredients in a mixer to produce concrete. In the production of the cement several tools along with heating medium are used whereas concrete making process needed only a mixer.&lt;br&gt;Initially, limestone and clay passes through a crusher which crushes them into a powder. Now this powder passes through a mixer, which mix it well. Next stage is rotating heater, where continuous heat is applied  after this the heated powder allowed to pass from a grinder which shapes it into the final product. From here the cement is poured and packed into bags in order to process it for commercial purposes.&lt;br&gt;For concrete making, mainly four ingredients Gravels, sand, cement and water in particular proportions  are used (50%, 25%, 15% and 10% respectively). All four are fed into a mixer, which rotates constantly and mixes them to form the concrete.&lt;br&gt;The diagram illustrates the production of a cement  which is then used to from the concrete.&lt;br&gt;\\noverall, the limestone and clay are  used to form cement after passing through several steps like crushing, mixing, heating and grinding. this cement is then used to form the concrete by mixing with other ingredients in a concrete mixer.&lt;br&gt;\\n Firstly the limestone and clay are crushed to form a powder this powder is then mixed together in a mixer for passing through a rotatory heater where constant heat is applied. Furthermore this heated powder is then grinded to form cement which is stored in bags for delivery&lt;br&gt;\\nregarding second diagram the concrete is made by adding cement and other two ingredients like water and sand into a main ingredient which is gravel(50%) that are fine stones . All these ingredients are mixed together in a concrete mixer to form concrete which is used as a building material.&lt;br&gt;The diagram shows the ways in which bricks are made for the building industries. Overall, there are eight stages in the whole producing process, beginning with the digging up the clay and culminating in delivery.&lt;br&gt;\\nIn the initial stage of the process, the clay used to make the bricks is dug up from the ground by a large digger before placing onto a metal grid which is used to turn the bricks into smaller pieces. A roller assists in this process. Following this, sand and water are added to the clay in order to turn into bricks by either placing it into a mould or using a wire cut. Next, these bricks is placed in a drying oven to dry for 24-48 hours. Once the bricks have gone through heating and cooling process, they are then heated in a kiln at a moderate and then a high temperature ranging from 200 C – 1300 C, followed by cooling process in a cooling chamber. Having been left in the chamber for 48-72 hours, the bricks are then packed and delivered to their destinations.&lt;br&gt;\\nHey Liz, I am Shukhrat from Uzbekistan. Can you have a look at this? Does this process deserve to get high band score in IELTS?&lt;br&gt;Mam Liz, is it true that that process diagrams and flow charts have a very very small chance to actually be asked in the exam?&lt;br&gt;They can appear at any time. If your results are important to you, do not presume that diagrams or maps are unimportant.&lt;br&gt;I know this is an old comment but incase someone else passes by this-&lt;br&gt;I didn’t study maps thoroughly because someone I was studying said “I’ve never seen that, they’re never going to ask that.”&lt;br&gt;Behold- it was the task I got on exam. Hahahaha.&lt;br&gt;Prepare for all types of tasks unless you’re willing to schedule multiple exams in a week to counteract the odds. 😉&lt;br&gt;Sorry to hear you got caught out. Yes, any type of task can appear in task 1. It is essential to prepare for all of them.&lt;br&gt;hello liz, regarding this essay, shouldn’t “ground” in the second paragraph and at the end of the third line be grounded?&lt;br&gt;No. The past tense of “to grind” is “ground” or “grinded”.&lt;br&gt;Hello Liz&lt;br&gt;\\nI am an ardent fan of your tutorials..i just want to ask one thing about task 1..shall we write it in present tense or past tense if nothing is mentioned about time like in process tyoe questions&lt;br&gt;If no date is given, use the present tense.&lt;br&gt;Hi liz …. u r commendable.. very precise way of teaching … luv u so much&lt;br&gt;Thanks a lot for this wonderful website&lt;br&gt;\\nIeltsliz😍😍😍&lt;br&gt;You’re welcome 🙂&lt;br&gt;Hi Liz,&lt;br&gt;\\nInstead of ‘overall’, can we use ‘To outline’&lt;br&gt;\\nThanks&lt;br&gt;Why change the signpost “overall”? It is the best signpost to indicate an overview. This is formal, report writing. It will not improve your score to change that signpost. &lt;br&gt;I have a question … do we need to write process in passive voice or active only ?&lt;br&gt;You will use a combination of both.&lt;br&gt;The diagrams explains  the steps and equipments utilize in the production  of cement and the way in which concrete are formed for housing reasons.&lt;br&gt;\\nOverall, it can be deduced that the process of cement making used four equipments and two materials. In contrast, concrete was produced from four materials that was mixed together in one machine which rotates in a gradual motion. &lt;br&gt;First of all, the production  of cement was made with limestone and clay which was crushed to powder and then passed through the mixer. Then, the materials was heated at the end of the rotating heater tube before it was grounded. Later on, the cement produced was packed into bags. &lt;br&gt;However, in the production of concrete, four materials were used compared to cement production that utilized two resources. 15% of cement which was made from limestone and clay was added to 25 percent of sand. Two times the size of sand represents the size of gravel which is small stones. Moreover, 10% of water was also added. All this material were mixed in a concrete mixer which rotates in a gradual movement.&lt;br&gt;Dear Liz,&lt;br&gt;\\nI noticed a difference between what you said on one tutorial and this example here. Should overall be separated into a single paragraph or not?&lt;br&gt;There are no fixed rules. Diagrams generally have a very very short introduction. Sometimes it is no more than 10 words. For that reason I put the overview in the same paragraph. It’s fine to do that. For all other task 1, I keep it as a separate paragraph. The most important thing is using the word “overall” to indicate to the examiner that it is the overview and making sure all key features are highlighted.&lt;br&gt;The flow chart illustrates the process of making cement, while the other diagram shows how different materials are combined with the product to produce concrete.&lt;br&gt;Overall, cement manufacturing takes four steps, beginning with crushing and ending with cement in bags. Regarding concrete production, different materials in constituencies are added/mixed to under rotation to make concrete.&lt;br&gt;Cement making steps are as follows: First and foremost, inputs namely; limestone and clay are put in a crusher where they are grinded to produce powder. Then, the material is channeled into a mixer where it is mixed thoroughly. The next stage involves passing the powder into rotating heater where heat is applied, the resource is rotated consequently, as heater rotates. The final stage focuses on the by-product which is crushed under grinder to produce cement which is put in bags.&lt;br&gt;Looking at concrete production diagram, initials stage: water (10%), cement (15%), sand (25%) and gravel (50%) are added together in concrete mixer, then, the mixer is put under rotation and the inputs are mixed to produce concrete.&lt;br&gt;Word count: 180 words&lt;br&gt;It’s really helpful&lt;br&gt;The diagram provides information about the different levels and tools required in the production of cement, and how cement contributes to the making of concrete for construction purposes.&lt;br&gt;Overall, the manufacturing of cement requires a dry process, while concrete production on the other hand is a wet method. Also, the mixer Isa necessary equipment in both cement and concrete making.&lt;br&gt;The first stage in the production of cement is crushing ofboth limestone and clay to give a fine powdered mixture,after which it is transported into the mixer for thorough mixing. Next the mixture enters the rotating heater were heat is directly acted upon it. Then the heated mixture is poured into the grinder for more grinding of the particulars. The result is cement and then they are packed into bags for distribution and use &lt;br&gt;The making of concrete requires the combination of cement (15%), water(10%), sand (25%) and small stones called gravel also by 50%). The composition is poured into the concrete mixer for proper mixing of every ingredients.&lt;br&gt;This example is helpful for me and i learnt lot of things related to way we can use connectors include then and afterwards . I want next example about flow chart and pie chart. Thanks if you read it then comment also.&lt;br&gt;You can find model answers and tips for writing task 1, in the writing section of the website. Just click on the RED MENU BAR at the top of the website 🙂&lt;br&gt;Hi Liz, thanks for your painstaking efforts to produce these materials.&lt;br&gt;\\nI wish to ask, could the overviews for the two diagrams be given separately.  Can it be done in different paragraphsis. Thank you&lt;br&gt;Yes, definitely. You can write the overview separately. I usually do for my task 1 but I occasionally like to offer alternatives.&lt;br&gt;Hi liz,&lt;br&gt;\\nThanks for your up-to-date informations. I want to ask a question that is it okay to write a overveiw in 2nd paragraph and again in the end add a conclusion paragraph in another way, I mean by another prospective in writing task 1?&lt;br&gt;You are being marked on your ability to group information together – not to repeat it and scatter it in different paragraphs.&lt;br&gt;Hi Liz,&lt;br&gt;\\nCan the overview come last?&lt;br&gt;Sure. But don’t miss it. It is the most important paragraph in task 1. See this page: &lt;br&gt;Hi Liz,&lt;br&gt;\\nI cannot upload answer to first IELTS Bar Chart Practice Sample question ( men ,women and children eating five portions of fruits and vegetables).&lt;br&gt;\\nPlease share a link for the answer.&lt;br&gt;\\nThank you.&lt;br&gt;Try the main writing task 1 page. Click on the RED BAR at the top of the website.&lt;br&gt;Band 8&lt;br&gt;Thanks madam Liz, the work on your web is quite blissful&lt;br&gt;Hello Liz&lt;br&gt;\\nFirst of all, thank you for your videos, tips and all you do for us. I want to know one thing. Do we have to write writing tasks in IELTS with handwriting?&lt;br&gt;If you are taking normal IELTS, it will all be hand written. However, there are some countries and some test centers that offer computer delivered IELTS.&lt;br&gt;Hi Liz,&lt;br&gt;Thanks for a big support, your website is too useful.&lt;br&gt;The diagrams depict the process of cement production and its usage in making concrete.&lt;br&gt;In cement production  there are 4 stages involved. In the first stage limestone and clay are crushed to powder form. This then passes through a mixer into a rotating heater, which is supplied with constant heat at one end. Afterwhich, the mixture is  ground to develop cement. This final product is bagged thereafter.&lt;br&gt;The process of concrete making involves 4 items, cement(15%), sand(25%),gravel(50%) and water(10%).  All these ingredients are mixed in a concrete mixer which rotates clock-wise.This process results in the formation of concrete. &lt;br&gt;Overall, the making of cement is of 4 stages, in which a number of equipments are used. As far as concrete production is concerned, all the substances are mixed in a single machine.&lt;br&gt;Hi, Liz. Firstly, I’d like to thank you for these great lessons which are very helpful for me in preparing  my upcoming academic IELTS test. Secondly, I’d like to ask you if we are allowed to use/draw an arrow in the writing tasks? You know, to add some words that we’ve forgot to mention earlier. And when we use pen in writing tasks, is it okay to cross out some words, even a long sentence?&lt;br&gt;The examiner only sees the answer sheets. So you can draw, underline, , make notes, plan etc all over your question paper for listening, reading and writing. See this page: &lt;br&gt; and this page: &lt;br&gt;. You can find all my tips on the main pages of this site which you access through the RED BAR at the top of the website.&lt;br&gt;You are astonishing. thanks a lot for your help, time and on top of that patience.&lt;br&gt;Hello,&lt;br&gt;can all diagrams be written in a passive voice? such as the tense used in the diagram above?&lt;br&gt;As seen in the model above, the tense will vary to show a range.&lt;br&gt;Hi Liz, first of all, thank you for your great advice. I was wondering about the format of writing. Are we allowed to leave space in the first sentence of every paragraph? (just to indicate that there is a new paragraph starting ?&lt;br&gt;Maria&lt;br&gt;Hi, Liz.How can we write overviews for PROCCES and Map.What data shoul we mention?&lt;br&gt;A process is another name for a diagram. All writing task 1, including diagrams and maps, MUST have an overview. It is the most important statement/paragraph in your task 1 writing. For diagrams, state the key stages. For maps, state the key changes (if it is time related) and/or the main features.', 'url': 'https://ieltsliz.com/ielts-diagram-model-answer-score-9/'}\n",
            "2024-04-14 14:00:04 [scrapy.core.engine] DEBUG: Crawled (200) <GET https://ieltsliz.com/ielts-diagram-model-answer-score-9/?replytocom=2359462#respond> (referer: https://ieltsliz.com/ielts-diagram-model-answer-score-9/)\n",
            "2024-04-14 14:00:04 [scrapy.core.scraper] DEBUG: Scraped from <200 https://ieltsliz.com/ielts-diagram-model-answer-score-9/?replytocom=2359462>\n",
            "{'title': 'Uttam', 'content': 'Should not the second last sentence in the second paragraph say grind instead of ground?&lt;br&gt;The second last sentence in the first body paragraph uses the passive voice: is ground. You create the passive voice using the verb “to be + past participle”. The past participle of grind is ground. Diagrams quite commonly use the passive voice in sentences.&lt;br&gt;The diagram illustrates the production of cement through various stages involved along with several tools used. Further it demonstrates how this cement is utilized for the generation of concrete which is essential for building purposes.&lt;br&gt;It is apparent from the diagrams that the production of cement involves undergoing several stages such as mixing , rotation and grinding. This cement is then used for the formation of concrete which undergoes a simple process of mixing various substances such as with water , sand and gravel.&lt;br&gt;Initially limestone and clay are allowed to pass through crusher and this outcome is transferred to Mixer. The product formed after mixing moves towards the rotating heater accompanied by heat produces the pre-form of cement. This pre-form then allowed to pass through the Grinder to form a final powder type  material called cement which is ready to be packed into bags .&lt;br&gt;Now 15% of cement is mixed with 10% of water along with 25 % and 50% of sand and grovel (composed of small stones) respectively. At next this final mixer passed through the concrete mixer process. After rigorous rotation ,we get concrete as the final product ready to be used as construction material.&lt;br&gt;The two diagrams delineate how cement is manufactured and used to make concrete for the purpose of construction.&lt;br&gt;Overall, the procedure of cement making involves five steps, divided into two primary stages of processing raw materials and packaging, while the concrete production comprises only one step of mixing the ingredients together. &lt;br&gt;Regarding the first diagram, natural products such as limestone and clay are poured into the crushing machine, where they are passed between the two rollers to form a fine powder. Following this, the resultant powder is then placed in a mixing equipment for blending, after which a direct heat source is applied to a rotating heater to raise its temperature. Next, the hot amalgam is broken down into finer particles by a grinder to create cement, whereupon it is then put into bags to be distributed to construction sites.&lt;br&gt;As required, the cement is spun in a concrete mixer, accounting for 15% of the total mixture, along with 10% of water, 25% of sand and 50% of gravel. The final product of this treatment is concrete to be used for building various structures.&lt;br&gt;\\n(184 words)&lt;br&gt;Please any one review my task 1:&lt;br&gt;\\nThe diagram illustrates the way to produce cement by using these materials, secondly, how to convert cement into concrete and develop concrete for construction purposes from cement.&lt;br&gt;\\nOverall, the cement production starts from Limestone and Clay, after completing the stage then ending up disappearing into the cement bags. Concrete is generated from cement after involving water and contributes stones around about 50 percent The cement-making uses a number of tools and creates concrete using a concrete mixer. There are first linear graph relays on 10 steps and concrete on 5 parts.&lt;br&gt;\\nIn the stage of making cement, the Limestones and clay are crushed into form powder. After that mixer has been rounded heater and transferred to the heat view. After completing the heat stage, the grinder grinds the heat and produces actual cement. The cement is packed in bags to be sold in the market.&lt;br&gt;\\nIn the second diagram, cement and water have a crucial role in producing concrete. Just 15 percent cement and approximately 10 percent water are used for making concrete. Gravel is almost 50 percent and sand 25 percent of usage through the concrete mixer. The concrete mixer combine all item in one stage and, finally, change cement into concrete format. The small stones used 50 percent as compared to other tools.&lt;br&gt;The diagrams depict the process of cement production and its further usage to make concrete for construction.&lt;br&gt;Overall, there are two major stages which can be determined: cement production, which has 4 steps and requires multiple tools and less complicated concrete making. &lt;br&gt;Initially, limestone and clay are combined together to be crushed by a crasher. Once the crushed powder is ready, it goes through the mixer to the rotating heater, where under the influence of heat, from the opposite end of the tube, the mixture is being rotated. After this step is finished, the mixture is grinded by a grinder in order to become cement. The final step is to place cement into bags for storing and further usage. &lt;br&gt;At this point, concrete is ready to be made. In order to do this, 4 ingredients are needed: a quarter of sand, 10% of water, 15% of cement and 50% of gravel, which are small stones. All the ingredients are mixed together in a concrete mixer, which makes concrete by constant rotating.&lt;br&gt;This diagram clearly depicts the step-by-step process of cement production and its role in the creation of concrete. The production of cement involves 8-10 rigorous stages that are essential for its creation. On the other hand, concrete is formed by combining cement, water, sand, and gravel in varying proportions. The initial stage of cement creation involves blending limestone and clay to form a fine powder, which is then mixed with other ingredients and heated at high temperatures in a rotating heater. The resulting substance is then ground in a grinder and stored in different bags. Furthermore, the second diagram emphasizes that gravel is the primary component of concrete, constituting 50% of the ingredients, followed by cement (15%), water (10%), and sand (25%). These constituents are combined in a rotating concrete mixer to produce the final product.&lt;br&gt;The diagram illustrates the manufacturing process of cement production and the way in which concrete is manufactured from the cement.&lt;br&gt;Overall, the cement is manufactured in 8-10 stages. Whereas, concrete is produced using cement, water, sand, and gravel in different proportions.&lt;br&gt;In the first stage of cement making, limestone, and clay are mixed together and powder is formed. Then after this powder is taken into the mixer and mixed with several ingredients. through which it passes through the rotating heater and is heated at high temperature, and then finally the product is grinded in a grinder and the cement is kept in different bags.&lt;br&gt;Regarding the second diagram, concrete consists mainly of gravel, which is small stones, and this makes up 50% of the ingredients, The other materials are cement (15%), water (10%), and sand (25%). These all ingredients are poured into a concrete mixer which continuously rotates to combine the materials and ultimately produces concrete.&lt;br&gt;Hi liz,&lt;br&gt;\\nPlease correct my mistakes and guess the band score of my writing.&lt;br&gt;The diagram illustrates the raw materials and the process with the corresponding equipment required for making cement and how the concrete is produced for building purposes using cement and other ingredients. Overall, cement which is mixed with different ingredients(water , sand, and gravel) is produced from 4 main stages where raw materials (Limestone and Clay) are used.&lt;br&gt;At first, limestone and clay is passed through crusher to break it down in the form of powder which is then passed through the mixer. The mixed powder is then passed to next station where it is heated by rotating heater to make cement granules. And finally, it is passed through grinder to make it fine particles which is then packed into bags ready to use.&lt;br&gt;Regarding the second diagram, cement is used for concrete production which accounts for 15% of total ingredients to be used. The cement is then mixed with 10% of water ,25% of sand and 50% of gravel(small stones) in the concrete mixer which is then rotated for certain time to make final product of concrete which can be used for building purposes.&lt;br&gt;The two diagrams show the different stages and equipment used in the process of making cement, and how is cement used in the production of concrete.&lt;br&gt;Overall, there are four different phases a limestones and clay have to passed through before it became cement and ready for use, while making concrete requires only 1. While the process of making cement uses numbers of equipment, only mixer is being used in making a concrete.&lt;br&gt;In making cement, Firstly, the limestones and clay will pass through a crusher. This crusher will break the limestones and clay into a smaller piece till they became powder in appearance, then they will be put into a mixer to mix them evenly. After that, the mixed powder will pass again through a tube which is connected to a rotating heater which has constant heat at the end of it. From this point, the product will then go to a grinder and from then cement is made and is ready for bagging.&lt;br&gt;In concrete production, combinations of different amount of materials like cement at 15%, sand 25 %, water and small stones  at 10 % and 25 % respectively are being put in a concrete mixer and all of these will be mixed together and the end product is a concrete which is ready for making buildings.&lt;br&gt;The given diagrams represent about the procedure and equipment required while producing cement and eventually concrete from obtained cement. The obtain cement has been filed in the plastic bags. On the contrary, in the complete production of concrete, cement work as raw material.&lt;br&gt;\\nInitially Limestone and Clay has been mixed and passed through a crusher which crush and convert in powder form. This will then pass to a mixer which help in mixing the power and then pass through a rotating heater which has passed over-heat. It is crucial to give the proper amount of heat before passing to the grinder which is the final stage before producing cement which would then be pack in plastic bag and ready for sell.&lt;br&gt;\\n On the other hand, it has been observed with the shared diagram that the Gravel (tiny [pieces of stones] consists half of the total composition (50%). The rest half has been further divided in three parts. The first of them is sand which constitutes one-fourth of the total composition. The rest one-fourth after (50% of Gravel &amp; 25% of sand) constitutes (cement and water).&lt;br&gt;The diagrams illustrate the process of making cement through various steps and one step procedure of making concrete with the help of cement. Overall, lime stone and clay is being processed through many paces, untill it is packed into bags; Moreover, this cement is being used in the production of concrete with other three ingredients. while the cement production is quite a complicated procedure as compared to making concrete which has only one step.&lt;br&gt;\\n       In  the  first picture , clay and lime stones are being crushed to form powder which is next sent to the mixing cylinder. In the next phase the mixer is being heated in a rotating heater with a continuous heat resource from the one side of it , now the mixer is ready to be ground in a grinder and finally cement is ready to be packed.&lt;br&gt;\\n       Regarding the second diagram, there are four ingredients water,cement, sand ,and gravel which is small stones and used in large quantity, with the ratio of 10%, 15%, 25% and 50 % respectively are poured together into a concrete mixer. The concrete mixer rotates the materials continuously to form concrete , Finally.&lt;br&gt;\\nplease anyone can check my task and point out my mistakes. Moreover ,let me know my scores.&lt;br&gt;The first picture illustrates the way in which cement with materials is made step by step, and the second picture shows how is concrete produced by cement for the infrastructure of buildings in one step.&lt;br&gt;Overall, it is conspicuous that the process of cement manufacture is made up of 4 stages, commencing with providing initial materials namely, limestone, and clay, after which they together combine, and at the end contents are placed in large bags. While the function of making cement uses several tools, the production of concrete requires only a concrete mixer.&lt;br&gt;At the first stage of this process, limestone and clay where were pressed by a crusher, and the resulting forcing form a powder, drawn into the mixer, during which prepared for the heat spinning step. Having been heated, the materials passed through the rotating heater, the resulting mixture is placed on the grinder machine. The output of this step is cement, which is packed in bags before being delivered to the market.&lt;br&gt;\\nRegarding the second diagram, at the same time as the device rotates clockwise, add ingredients to it. A concrete mixer is a specifically designed man-made contraction, which integrates primarily ingredients together, with 15% of cement, 10% of water, 25% of sand, and gravel which consist of the largest percentage of it therefore 50% of small stones, the resulting compounding is concrete.&lt;br&gt;The given diagrams describe the two processes necessary to produce concrete that is used for building. The first process being cement production, the second being the production of concrete using the cement produced in the former step.&lt;br&gt;The initial step in cement production, is crushing limestone and clay by means of a roller crusher that turns both raw materials into a powdery form. this powder is then passed to a mixer just right before it goes into the rotating heater, heated by a heatgun. to wrap up the process, the heated product goes through a grinder to produce the final shape of cement that is put in bags.&lt;br&gt;Secondly, 4 different raw materials are poured into the concrete mixer. However, in a rather specific and detailed proportions. Half of that mixture consists of gravel which is basically tiny stones. Sand comes after by quater of the whole mixture. Finally cement and water, 15% and 10% respectively.  The mixer rotatry action does the rest to produce a homogenous and integral final product of concrete.&lt;br&gt;Your ideas are too much preferable for me. I enjoy your ideas and what you are trying to say in your Diagram.❤️&lt;br&gt;The diagram illustrates tools, ingredients and steps cement needs to go through in order to become concrete and be used as a construction material.&lt;br&gt;Overall, before becoming a ready to use material, concrete needs to go over two main phases, the cement production phase, where cement is made and packaged, and the concrete production phase, where concrete is made  mixing cement with other rock.&lt;br&gt;With regards to cement production, a powder resulted from the crushing process of two rocks, Limestone and Clay, is conducted through a pipe to a rotating heater where heat is applied. Furthermore, A grinder is used to grind the mix transforming it to cement that get packaged after that in cement bags.&lt;br&gt;In concrete production phase, 15% cement, 10% water, 25% sand and 50% small stones of gravel are mixed together in a rotation motion by the concrete mixer, the outcome of this process is concrete that’s ready to be used for building purposes.&lt;br&gt;The diagram illustaters tools, ingredients and steps cement needs to go through in order to become concrete and be used as a constraction material.&lt;br&gt;Overall, before becoming a ready to use material, concrete needs to go over two main phases, the cement production phase and concrete production phase.&lt;br&gt;With regards to cement production, a powder resulted from the crushing proccess of two rocks, Limestone and Clay, is conducted through a pipe to a rotating heater where heat is applied. Furthermore, A grinder is used to grind the mix transforming it to cement that get packaged after that in cement bags.&lt;br&gt;In concrete production phase, 15% cement, 10% water, 25% sand and 50% small stones of gravel are mixed together in a rotation motion by the concrete mixer, the outcome of this proccess is a ready to use concrete.&lt;br&gt;Was going through the model answers so the overview and the introduction, are they combined in the first paragraph .&lt;br&gt;It is possible to combine them and I usually do so for diagrams which otherwise have a short introduction. However, the intro and the overview are separate statements even when put in the same paragraph.&lt;br&gt;Thank you 😊&lt;br&gt;Ocean of 😊 thanks&lt;br&gt;You’re welcome 🙂&lt;br&gt;hi liz. sometimes it happened that we are given small process in which it is difficult to complete word count then what should be done in such situation.&lt;br&gt;IELTS does not produce task 1 diagrams or maps etc which cannot be completed within 20mins. This test is designed by professionals, checked and double checked.&lt;br&gt;The figure illustrates the method for the manufacturing of cement in different steps with the instruments involved in the process. Furthermore, the application of the cement for the production of concrete to build architectural structures is demonstrated.&lt;br&gt;\\nOverall, cement production is a stepwise process that involves combination of different materials like limestone and clay with different machineries including crusher, mixer, heater and grinder. Then, in order to implement this cement in building mega structures, it has to be converted into concrete.&lt;br&gt;\\nInitially, cement synthesized by crushing limestone and clay into a powder that further pass through mixer into the rotating heater. Through external flame, heat was provided to the rotating heater to properly mix the powder under elevated temperature. Then heated powder pass through grinder to finally convert into cement. Then cement was packed into the bags.&lt;br&gt;\\nFor the manufacturing of concrete, this synthesized cement was used that comprise of 15 % of all ingredients. Furthermore, half of the concrete constitute of small stones known as Gravel and sand cover the other quarter with 10 % water. All these ingredients collectively mix in concrete mixer to blend the final product.&lt;br&gt;The diagram here illustrates how cement is produced and how its is used for production of concrete. It includes a description of the processes and steps used in order to reach the end product, that is concrete.&lt;br&gt;First, to produce cement; limestone and clay are crushed and mixed together . Once that is done, the mixture is passed through a roller where eternal heat is provided which results in grainy cement. This grainy cement is then passed through a grinder again to get fine cement powder. This Cement is then ready to be packed in bags.&lt;br&gt;Now, to produce the concrete, this cement is used in a ratio of 15 % with 10 % of water, 25% sand and 50% gravel.&lt;br&gt;\\nAll of this is together put in a concrete mixer, which mixes them all together and produces Concrete.&lt;br&gt;Overall, you can see that in order to produce concrete, cement is required and here it shows a complete process of how cement is produced and further used to produce concrete.&lt;br&gt;Geraldine says                                                                                                                                                the diagram illustate the level of materials consumed in the manufacturing of cement, and the use of cement in producing concrete for building purposes.                                                                                                                                                                                                                           &lt;br&gt;How ever, in the cement making production the limestone  and the clay are crushed together to form a powder, then transfered into the mixer before passing through the rotating heater to heat. Then down to the grinder for the grounding process for cement conversion then poured into the cement bag for use.&lt;br&gt;The second process shows that (15%) of cement (25%) sand (50%) gravel which is the small stone plus (10%) of water are all mixed together into the concrete mixer for the concrete production.&lt;br&gt;The diagram display the processes and tools involved in producing cement and how it is converted into concrete for the purpose of building.&lt;br&gt;Overall, the process of making cement involve the use of limestone and clay which undergoes four stages and equipment while concrete production requires only one process and tool.&lt;br&gt;In the first digram, limestone and clay are added into a crusher where they are crushed into a powder and then thoroughly mixed in a mixer. Subsequently, the mixed product enters into a rotating heater which has a source of heat at an extreme end. Furthermore, the heated product is grinded with a grinder into cement which is then poured into various bag.&lt;br&gt;In the second diagram, 15% of cement, 10% of water, 25% of sand and 50% gravel which is a type of small stone is added into a concrete mixer. At this point, the ingredient is thoroughly mixed to give rise to concrete which can be utilize for building.&lt;br&gt;The diagrams illustrate how to make concrete for buildings with the help of processing cement with its stages and equipments used. Overall, limestone and clay pass through four stages before being bagged ready for use as cement which is 15% ingredient of concrete. While the process of making cement uses a number of tools, the production of concrete requires only a concrete mixer.&lt;br&gt;\\n     In the first stage of cement production, limestone and clay are crushed together to make the form of powder. Then the powder is collected in the mixer before passing into a rotating heater which has constant heat exposure at the end of the tube. The resulting mixture is ground in order to produce cement. After the final product is put into bags, then it is ready to be used as a component of making concrete.&lt;br&gt;\\n     Regarding the second diagram, concrete consists of 50% of gravel which is small stones. The other materials used for concrete production are sand (25%), cement (15%) and water (10%). All these ingredients are poured into a concrete mixer which is constantly rotates to combine the materials to produce concrete.&lt;br&gt;Total 187 words.&lt;br&gt;The above diagram illustrates the stages and equipment used in the cement making process, and how cement is used in the production of concrete for building purpose. Cement is one of the four ingredients involved in production of concrete.&lt;br&gt;\\nInitially, ground limestone and clay are added to a crusher to break into smaller particles. This fine powder is next added to a mixer to create a perfect blend of the two. Later the mixed powder is sent into a rotating heater, to which heat is supplied from one end. After heating the mixture, the heated mixture is added to a grinder to make a fine powder. The obtained fine powder is cement. Cement is packed in bags and distributed accordingly.&lt;br&gt;\\nRegarding the second diagram, concrete consists of mainly gravel, which is broken stone and accounts to 50% of the ingredients. Other ingredients are cement (15%), water (10), sand (25%) and gravel (50%). All ingredients are added into a concrete mixer is said proportions and mixed thoroughly to produce concrete.&lt;br&gt;The Diagram above Illustrates all necessary steps and equipment that are followed and used while making cement, further how it is used to make concrete for different building projects.&lt;br&gt;\\nThe process followed for making cement is first limestone and clay are crushed and are mixed in a mixer to properly combine them together, after that the mixture is then heated in a rotating heater once this process is completed the final step is grinding and then finally cement is ready to use.&lt;br&gt;\\nIn concrete production, there are four things that are combined together with proper measurement, things combined together are as follows, Cement [15%], Water [10%], sand [25%], and gravel [50% gravel are small stones] these four materials are mixed in a mixer and concrete is ready to use&lt;br&gt;Please evaluate.&lt;br&gt;\\nThe diagram illustrates the various stages employed in the production of cement and also the method used to make concrete. Overall, limestone and clay passes through four main stages in order to make the final product, which then further added with three more ingredients in a mixer to produce concrete. In the production of the cement several tools along with heating medium are used whereas concrete making process needed only a mixer.&lt;br&gt;Initially, limestone and clay passes through a crusher which crushes them into a powder. Now this powder passes through a mixer, which mix it well. Next stage is rotating heater, where continuous heat is applied  after this the heated powder allowed to pass from a grinder which shapes it into the final product. From here the cement is poured and packed into bags in order to process it for commercial purposes.&lt;br&gt;For concrete making, mainly four ingredients Gravels, sand, cement and water in particular proportions  are used (50%, 25%, 15% and 10% respectively). All four are fed into a mixer, which rotates constantly and mixes them to form the concrete.&lt;br&gt;The diagram illustrates the production of a cement  which is then used to from the concrete.&lt;br&gt;\\noverall, the limestone and clay are  used to form cement after passing through several steps like crushing, mixing, heating and grinding. this cement is then used to form the concrete by mixing with other ingredients in a concrete mixer.&lt;br&gt;\\n Firstly the limestone and clay are crushed to form a powder this powder is then mixed together in a mixer for passing through a rotatory heater where constant heat is applied. Furthermore this heated powder is then grinded to form cement which is stored in bags for delivery&lt;br&gt;\\nregarding second diagram the concrete is made by adding cement and other two ingredients like water and sand into a main ingredient which is gravel(50%) that are fine stones . All these ingredients are mixed together in a concrete mixer to form concrete which is used as a building material.&lt;br&gt;The diagram shows the ways in which bricks are made for the building industries. Overall, there are eight stages in the whole producing process, beginning with the digging up the clay and culminating in delivery.&lt;br&gt;\\nIn the initial stage of the process, the clay used to make the bricks is dug up from the ground by a large digger before placing onto a metal grid which is used to turn the bricks into smaller pieces. A roller assists in this process. Following this, sand and water are added to the clay in order to turn into bricks by either placing it into a mould or using a wire cut. Next, these bricks is placed in a drying oven to dry for 24-48 hours. Once the bricks have gone through heating and cooling process, they are then heated in a kiln at a moderate and then a high temperature ranging from 200 C – 1300 C, followed by cooling process in a cooling chamber. Having been left in the chamber for 48-72 hours, the bricks are then packed and delivered to their destinations.&lt;br&gt;\\nHey Liz, I am Shukhrat from Uzbekistan. Can you have a look at this? Does this process deserve to get high band score in IELTS?&lt;br&gt;Mam Liz, is it true that that process diagrams and flow charts have a very very small chance to actually be asked in the exam?&lt;br&gt;They can appear at any time. If your results are important to you, do not presume that diagrams or maps are unimportant.&lt;br&gt;I know this is an old comment but incase someone else passes by this-&lt;br&gt;I didn’t study maps thoroughly because someone I was studying said “I’ve never seen that, they’re never going to ask that.”&lt;br&gt;Behold- it was the task I got on exam. Hahahaha.&lt;br&gt;Prepare for all types of tasks unless you’re willing to schedule multiple exams in a week to counteract the odds. 😉&lt;br&gt;Sorry to hear you got caught out. Yes, any type of task can appear in task 1. It is essential to prepare for all of them.&lt;br&gt;hello liz, regarding this essay, shouldn’t “ground” in the second paragraph and at the end of the third line be grounded?&lt;br&gt;No. The past tense of “to grind” is “ground” or “grinded”.&lt;br&gt;Hello Liz&lt;br&gt;\\nI am an ardent fan of your tutorials..i just want to ask one thing about task 1..shall we write it in present tense or past tense if nothing is mentioned about time like in process tyoe questions&lt;br&gt;If no date is given, use the present tense.&lt;br&gt;Hi liz …. u r commendable.. very precise way of teaching … luv u so much&lt;br&gt;Thanks a lot for this wonderful website&lt;br&gt;\\nIeltsliz😍😍😍&lt;br&gt;You’re welcome 🙂&lt;br&gt;Hi Liz,&lt;br&gt;\\nInstead of ‘overall’, can we use ‘To outline’&lt;br&gt;\\nThanks&lt;br&gt;Why change the signpost “overall”? It is the best signpost to indicate an overview. This is formal, report writing. It will not improve your score to change that signpost. &lt;br&gt;I have a question … do we need to write process in passive voice or active only ?&lt;br&gt;You will use a combination of both.&lt;br&gt;The diagrams explains  the steps and equipments utilize in the production  of cement and the way in which concrete are formed for housing reasons.&lt;br&gt;\\nOverall, it can be deduced that the process of cement making used four equipments and two materials. In contrast, concrete was produced from four materials that was mixed together in one machine which rotates in a gradual motion. &lt;br&gt;First of all, the production  of cement was made with limestone and clay which was crushed to powder and then passed through the mixer. Then, the materials was heated at the end of the rotating heater tube before it was grounded. Later on, the cement produced was packed into bags. &lt;br&gt;However, in the production of concrete, four materials were used compared to cement production that utilized two resources. 15% of cement which was made from limestone and clay was added to 25 percent of sand. Two times the size of sand represents the size of gravel which is small stones. Moreover, 10% of water was also added. All this material were mixed in a concrete mixer which rotates in a gradual movement.&lt;br&gt;Dear Liz,&lt;br&gt;\\nI noticed a difference between what you said on one tutorial and this example here. Should overall be separated into a single paragraph or not?&lt;br&gt;There are no fixed rules. Diagrams generally have a very very short introduction. Sometimes it is no more than 10 words. For that reason I put the overview in the same paragraph. It’s fine to do that. For all other task 1, I keep it as a separate paragraph. The most important thing is using the word “overall” to indicate to the examiner that it is the overview and making sure all key features are highlighted.&lt;br&gt;The flow chart illustrates the process of making cement, while the other diagram shows how different materials are combined with the product to produce concrete.&lt;br&gt;Overall, cement manufacturing takes four steps, beginning with crushing and ending with cement in bags. Regarding concrete production, different materials in constituencies are added/mixed to under rotation to make concrete.&lt;br&gt;Cement making steps are as follows: First and foremost, inputs namely; limestone and clay are put in a crusher where they are grinded to produce powder. Then, the material is channeled into a mixer where it is mixed thoroughly. The next stage involves passing the powder into rotating heater where heat is applied, the resource is rotated consequently, as heater rotates. The final stage focuses on the by-product which is crushed under grinder to produce cement which is put in bags.&lt;br&gt;Looking at concrete production diagram, initials stage: water (10%), cement (15%), sand (25%) and gravel (50%) are added together in concrete mixer, then, the mixer is put under rotation and the inputs are mixed to produce concrete.&lt;br&gt;Word count: 180 words&lt;br&gt;It’s really helpful&lt;br&gt;The diagram provides information about the different levels and tools required in the production of cement, and how cement contributes to the making of concrete for construction purposes.&lt;br&gt;Overall, the manufacturing of cement requires a dry process, while concrete production on the other hand is a wet method. Also, the mixer Isa necessary equipment in both cement and concrete making.&lt;br&gt;The first stage in the production of cement is crushing ofboth limestone and clay to give a fine powdered mixture,after which it is transported into the mixer for thorough mixing. Next the mixture enters the rotating heater were heat is directly acted upon it. Then the heated mixture is poured into the grinder for more grinding of the particulars. The result is cement and then they are packed into bags for distribution and use &lt;br&gt;The making of concrete requires the combination of cement (15%), water(10%), sand (25%) and small stones called gravel also by 50%). The composition is poured into the concrete mixer for proper mixing of every ingredients.&lt;br&gt;This example is helpful for me and i learnt lot of things related to way we can use connectors include then and afterwards . I want next example about flow chart and pie chart. Thanks if you read it then comment also.&lt;br&gt;You can find model answers and tips for writing task 1, in the writing section of the website. Just click on the RED MENU BAR at the top of the website 🙂&lt;br&gt;Hi Liz, thanks for your painstaking efforts to produce these materials.&lt;br&gt;\\nI wish to ask, could the overviews for the two diagrams be given separately.  Can it be done in different paragraphsis. Thank you&lt;br&gt;Yes, definitely. You can write the overview separately. I usually do for my task 1 but I occasionally like to offer alternatives.&lt;br&gt;Hi liz,&lt;br&gt;\\nThanks for your up-to-date informations. I want to ask a question that is it okay to write a overveiw in 2nd paragraph and again in the end add a conclusion paragraph in another way, I mean by another prospective in writing task 1?&lt;br&gt;You are being marked on your ability to group information together – not to repeat it and scatter it in different paragraphs.&lt;br&gt;Hi Liz,&lt;br&gt;\\nCan the overview come last?&lt;br&gt;Sure. But don’t miss it. It is the most important paragraph in task 1. See this page: &lt;br&gt;Hi Liz,&lt;br&gt;\\nI cannot upload answer to first IELTS Bar Chart Practice Sample question ( men ,women and children eating five portions of fruits and vegetables).&lt;br&gt;\\nPlease share a link for the answer.&lt;br&gt;\\nThank you.&lt;br&gt;Try the main writing task 1 page. Click on the RED BAR at the top of the website.&lt;br&gt;Band 8&lt;br&gt;Thanks madam Liz, the work on your web is quite blissful&lt;br&gt;Hello Liz&lt;br&gt;\\nFirst of all, thank you for your videos, tips and all you do for us. I want to know one thing. Do we have to write writing tasks in IELTS with handwriting?&lt;br&gt;If you are taking normal IELTS, it will all be hand written. However, there are some countries and some test centers that offer computer delivered IELTS.&lt;br&gt;Hi Liz,&lt;br&gt;Thanks for a big support, your website is too useful.&lt;br&gt;The diagrams depict the process of cement production and its usage in making concrete.&lt;br&gt;In cement production  there are 4 stages involved. In the first stage limestone and clay are crushed to powder form. This then passes through a mixer into a rotating heater, which is supplied with constant heat at one end. Afterwhich, the mixture is  ground to develop cement. This final product is bagged thereafter.&lt;br&gt;The process of concrete making involves 4 items, cement(15%), sand(25%),gravel(50%) and water(10%).  All these ingredients are mixed in a concrete mixer which rotates clock-wise.This process results in the formation of concrete. &lt;br&gt;Overall, the making of cement is of 4 stages, in which a number of equipments are used. As far as concrete production is concerned, all the substances are mixed in a single machine.&lt;br&gt;Hi, Liz. Firstly, I’d like to thank you for these great lessons which are very helpful for me in preparing  my upcoming academic IELTS test. Secondly, I’d like to ask you if we are allowed to use/draw an arrow in the writing tasks? You know, to add some words that we’ve forgot to mention earlier. And when we use pen in writing tasks, is it okay to cross out some words, even a long sentence?&lt;br&gt;The examiner only sees the answer sheets. So you can draw, underline, , make notes, plan etc all over your question paper for listening, reading and writing. See this page: &lt;br&gt; and this page: &lt;br&gt;. You can find all my tips on the main pages of this site which you access through the RED BAR at the top of the website.&lt;br&gt;You are astonishing. thanks a lot for your help, time and on top of that patience.&lt;br&gt;Hello,&lt;br&gt;can all diagrams be written in a passive voice? such as the tense used in the diagram above?&lt;br&gt;As seen in the model above, the tense will vary to show a range.&lt;br&gt;Hi Liz, first of all, thank you for your great advice. I was wondering about the format of writing. Are we allowed to leave space in the first sentence of every paragraph? (just to indicate that there is a new paragraph starting ?&lt;br&gt;Maria&lt;br&gt;Hi, Liz.How can we write overviews for PROCCES and Map.What data shoul we mention?&lt;br&gt;A process is another name for a diagram. All writing task 1, including diagrams and maps, MUST have an overview. It is the most important statement/paragraph in your task 1 writing. For diagrams, state the key stages. For maps, state the key changes (if it is time related) and/or the main features.', 'url': 'https://ieltsliz.com/ielts-diagram-model-answer-score-9/?replytocom=2359462'}\n",
            "2024-04-14 14:00:06 [scrapy.crawler] INFO: Received SIGINT, shutting down gracefully. Send again to force \n",
            "2024-04-14 14:00:06 [scrapy.crawler] INFO: Received SIGINT, shutting down gracefully. Send again to force \n",
            "2024-04-14 14:00:06 [scrapy.core.engine] INFO: Closing spider (shutdown)\n"
          ]
        }
      ]
    },
    {
      "cell_type": "markdown",
      "source": [
        "## 主題判別+使用介面（合併功能）"
      ],
      "metadata": {
        "id": "XXiEyPwtnw8c"
      }
    },
    {
      "cell_type": "code",
      "source": [
        "pip install transformers"
      ],
      "metadata": {
        "colab": {
          "base_uri": "https://localhost:8080/"
        },
        "id": "QEyqnKJCnnmy",
        "outputId": "d23d7b13-65f1-4afb-a3fc-c2b5b814d1aa"
      },
      "execution_count": 4,
      "outputs": [
        {
          "output_type": "stream",
          "name": "stdout",
          "text": [
            "Requirement already satisfied: transformers in /usr/local/lib/python3.10/dist-packages (4.38.2)\n",
            "Requirement already satisfied: filelock in /usr/local/lib/python3.10/dist-packages (from transformers) (3.13.4)\n",
            "Requirement already satisfied: huggingface-hub<1.0,>=0.19.3 in /usr/local/lib/python3.10/dist-packages (from transformers) (0.20.3)\n",
            "Requirement already satisfied: numpy>=1.17 in /usr/local/lib/python3.10/dist-packages (from transformers) (1.25.2)\n",
            "Requirement already satisfied: packaging>=20.0 in /usr/local/lib/python3.10/dist-packages (from transformers) (24.0)\n",
            "Requirement already satisfied: pyyaml>=5.1 in /usr/local/lib/python3.10/dist-packages (from transformers) (6.0.1)\n",
            "Requirement already satisfied: regex!=2019.12.17 in /usr/local/lib/python3.10/dist-packages (from transformers) (2023.12.25)\n",
            "Requirement already satisfied: requests in /usr/local/lib/python3.10/dist-packages (from transformers) (2.31.0)\n",
            "Requirement already satisfied: tokenizers<0.19,>=0.14 in /usr/local/lib/python3.10/dist-packages (from transformers) (0.15.2)\n",
            "Requirement already satisfied: safetensors>=0.4.1 in /usr/local/lib/python3.10/dist-packages (from transformers) (0.4.2)\n",
            "Requirement already satisfied: tqdm>=4.27 in /usr/local/lib/python3.10/dist-packages (from transformers) (4.66.2)\n",
            "Requirement already satisfied: fsspec>=2023.5.0 in /usr/local/lib/python3.10/dist-packages (from huggingface-hub<1.0,>=0.19.3->transformers) (2023.6.0)\n",
            "Requirement already satisfied: typing-extensions>=3.7.4.3 in /usr/local/lib/python3.10/dist-packages (from huggingface-hub<1.0,>=0.19.3->transformers) (4.11.0)\n",
            "Requirement already satisfied: charset-normalizer<4,>=2 in /usr/local/lib/python3.10/dist-packages (from requests->transformers) (3.3.2)\n",
            "Requirement already satisfied: idna<4,>=2.5 in /usr/local/lib/python3.10/dist-packages (from requests->transformers) (3.6)\n",
            "Requirement already satisfied: urllib3<3,>=1.21.1 in /usr/local/lib/python3.10/dist-packages (from requests->transformers) (2.0.7)\n",
            "Requirement already satisfied: certifi>=2017.4.17 in /usr/local/lib/python3.10/dist-packages (from requests->transformers) (2024.2.2)\n"
          ]
        }
      ]
    },
    {
      "cell_type": "code",
      "source": [
        "import pandas as pd\n",
        "data = pd.read_excel('./ielts.xlsx')\n",
        "data"
      ],
      "metadata": {
        "colab": {
          "base_uri": "https://localhost:8080/",
          "height": 1000
        },
        "id": "Bti6T1oVpRpx",
        "outputId": "e96f44a9-eb5b-40ef-f678-73c7836f5e14"
      },
      "execution_count": 18,
      "outputs": [
        {
          "output_type": "execute_result",
          "data": {
            "text/plain": [
              "                                                 Text  Label\n",
              "0   Should not the second last sentence in the sec...      0\n",
              "1   After rigorous rotation ,we get concrete as th...      0\n",
              "2   lt;br&gt;As required, the cement is spun in a ...      0\n",
              "3   The diagrams depict the process of cement prod...      0\n",
              "4   Please correct my mistakes and guess the band ...      0\n",
              "5   At first, limestone and clay is passed through...      0\n",
              "6   Firstly, the limestones and clay will pass thr...      0\n",
              "7   lt;br&gt;The two diagrams show the different s...      0\n",
              "8   On the other hand, it has been observed with t...      0\n",
              "9     In  the  first picture , clay and lime stone...      0\n",
              "10  Thank you from the bottom of my heart. My frie...      1\n",
              "11  computers and the cameras were most spent on, ...      1\n",
              "12  France spend more money on computers and perfu...      1\n",
              "13  The bar chart illustrates the spending of Fran...      1\n",
              "14  In contrast, French spent more on computers an...      1\n",
              "15  very helpful and I never thought I would get a...      1\n",
              "16  The British spent the least money on perfume c...      1\n",
              "17  Overall, cars and computers were the most cons...      1\n",
              "18  UK spend 450, 000 pounds on cars which is high...      1\n",
              "19  UK spend 450, 000 pounds on cars which is high...      1\n",
              "20  in terms of consumables, Turkish and the  peop...      2\n",
              "21  Overall, here we seen that in each country con...      2\n",
              "22  Now on the other hand, clothing and  footwear ...      2\n",
              "23   Regarding clothing/footwear Italy ranked at t...      2\n",
              "24  Among them, clothing and footwear related expe...      2\n",
              "25  Turkey? (2.21%).&lt;br&gt;As far as Italy, Sp...      2\n",
              "26    The table illustrates the proportion of  ann...      2\n",
              "27    Clothing and footwear was the third category...      2\n",
              "28            Overall, it is clear that all the na...      2\n",
              "29  Clothing and footwear comes in middle category...      2\n",
              "30  The map illustrates Meadowside village and Fon...      3\n",
              "31  Meodowside and Fonton started far apart from e...      3\n",
              "32  The small road was built wider and another lin...      3\n",
              "33  32 minutes&lt;br&gt;The map illustrates the in...      3\n",
              "34  Fonton and Meadowside were ordinary towns and ...      3\n",
              "35  In 1992, both Meadowside Village and Fonton To...      3\n",
              "36  In 1985, some changes were made in Meadowside ...      3\n",
              "37  At that present time, another railway track ha...      3\n",
              "38  &lt;br&gt;Overall, initially Fonton Town appea...      3\n",
              "39  Overall, there has been development in the inf...      3\n",
              "40  ) your introduction is very limited. There are...      4\n",
              "41  Miss Liz or any ILETS candidate. Please share ...      4\n",
              "42  Your overview gives information about the visi...      4\n",
              "43  The amount of butter consumed was higher than ...      4\n",
              "44  In 1981, almost 140 grams of butter was eaten ...      4\n",
              "45  The consumption of butter has seen a dramatic ...      4\n",
              "46  IELTS examiner training? Are you happy with th...      4\n",
              "47  However,  the number skyrocketed to a little o...      4\n",
              "48  Whereas, the low-fat and reduced-spread consum...      4\n",
              "49  Overall, the amount of butter and margarine sh...      4\n",
              "50  hello Liz, can you please let me know if we ne...      5\n",
              "51  Could you please help take a look at whether t...      5\n",
              "52  You write very well. You?e got a strong contr...      5\n",
              "53  ??and of course, you have opposite adjectives ...      5\n",
              "54  (but a 4% rise is only significant if we know ...      5\n",
              "55  2) ??production of energy from nuclear and oth...      5\n",
              "56  The second one is better because it gives us a...      5\n",
              "57  Overall, it can be seen that France produces t...      5\n",
              "58  Energy produced by coal and gas accounted for ...      5\n",
              "59  In terms of Nuclear energy, it comprised of 6....      5"
            ],
            "text/html": [
              "\n",
              "  <div id=\"df-c6938a95-5472-4cf6-af80-6ef1ae1aa339\" class=\"colab-df-container\">\n",
              "    <div>\n",
              "<style scoped>\n",
              "    .dataframe tbody tr th:only-of-type {\n",
              "        vertical-align: middle;\n",
              "    }\n",
              "\n",
              "    .dataframe tbody tr th {\n",
              "        vertical-align: top;\n",
              "    }\n",
              "\n",
              "    .dataframe thead th {\n",
              "        text-align: right;\n",
              "    }\n",
              "</style>\n",
              "<table border=\"1\" class=\"dataframe\">\n",
              "  <thead>\n",
              "    <tr style=\"text-align: right;\">\n",
              "      <th></th>\n",
              "      <th>Text</th>\n",
              "      <th>Label</th>\n",
              "    </tr>\n",
              "  </thead>\n",
              "  <tbody>\n",
              "    <tr>\n",
              "      <th>0</th>\n",
              "      <td>Should not the second last sentence in the sec...</td>\n",
              "      <td>0</td>\n",
              "    </tr>\n",
              "    <tr>\n",
              "      <th>1</th>\n",
              "      <td>After rigorous rotation ,we get concrete as th...</td>\n",
              "      <td>0</td>\n",
              "    </tr>\n",
              "    <tr>\n",
              "      <th>2</th>\n",
              "      <td>lt;br&amp;gt;As required, the cement is spun in a ...</td>\n",
              "      <td>0</td>\n",
              "    </tr>\n",
              "    <tr>\n",
              "      <th>3</th>\n",
              "      <td>The diagrams depict the process of cement prod...</td>\n",
              "      <td>0</td>\n",
              "    </tr>\n",
              "    <tr>\n",
              "      <th>4</th>\n",
              "      <td>Please correct my mistakes and guess the band ...</td>\n",
              "      <td>0</td>\n",
              "    </tr>\n",
              "    <tr>\n",
              "      <th>5</th>\n",
              "      <td>At first, limestone and clay is passed through...</td>\n",
              "      <td>0</td>\n",
              "    </tr>\n",
              "    <tr>\n",
              "      <th>6</th>\n",
              "      <td>Firstly, the limestones and clay will pass thr...</td>\n",
              "      <td>0</td>\n",
              "    </tr>\n",
              "    <tr>\n",
              "      <th>7</th>\n",
              "      <td>lt;br&amp;gt;The two diagrams show the different s...</td>\n",
              "      <td>0</td>\n",
              "    </tr>\n",
              "    <tr>\n",
              "      <th>8</th>\n",
              "      <td>On the other hand, it has been observed with t...</td>\n",
              "      <td>0</td>\n",
              "    </tr>\n",
              "    <tr>\n",
              "      <th>9</th>\n",
              "      <td>In  the  first picture , clay and lime stone...</td>\n",
              "      <td>0</td>\n",
              "    </tr>\n",
              "    <tr>\n",
              "      <th>10</th>\n",
              "      <td>Thank you from the bottom of my heart. My frie...</td>\n",
              "      <td>1</td>\n",
              "    </tr>\n",
              "    <tr>\n",
              "      <th>11</th>\n",
              "      <td>computers and the cameras were most spent on, ...</td>\n",
              "      <td>1</td>\n",
              "    </tr>\n",
              "    <tr>\n",
              "      <th>12</th>\n",
              "      <td>France spend more money on computers and perfu...</td>\n",
              "      <td>1</td>\n",
              "    </tr>\n",
              "    <tr>\n",
              "      <th>13</th>\n",
              "      <td>The bar chart illustrates the spending of Fran...</td>\n",
              "      <td>1</td>\n",
              "    </tr>\n",
              "    <tr>\n",
              "      <th>14</th>\n",
              "      <td>In contrast, French spent more on computers an...</td>\n",
              "      <td>1</td>\n",
              "    </tr>\n",
              "    <tr>\n",
              "      <th>15</th>\n",
              "      <td>very helpful and I never thought I would get a...</td>\n",
              "      <td>1</td>\n",
              "    </tr>\n",
              "    <tr>\n",
              "      <th>16</th>\n",
              "      <td>The British spent the least money on perfume c...</td>\n",
              "      <td>1</td>\n",
              "    </tr>\n",
              "    <tr>\n",
              "      <th>17</th>\n",
              "      <td>Overall, cars and computers were the most cons...</td>\n",
              "      <td>1</td>\n",
              "    </tr>\n",
              "    <tr>\n",
              "      <th>18</th>\n",
              "      <td>UK spend 450, 000 pounds on cars which is high...</td>\n",
              "      <td>1</td>\n",
              "    </tr>\n",
              "    <tr>\n",
              "      <th>19</th>\n",
              "      <td>UK spend 450, 000 pounds on cars which is high...</td>\n",
              "      <td>1</td>\n",
              "    </tr>\n",
              "    <tr>\n",
              "      <th>20</th>\n",
              "      <td>in terms of consumables, Turkish and the  peop...</td>\n",
              "      <td>2</td>\n",
              "    </tr>\n",
              "    <tr>\n",
              "      <th>21</th>\n",
              "      <td>Overall, here we seen that in each country con...</td>\n",
              "      <td>2</td>\n",
              "    </tr>\n",
              "    <tr>\n",
              "      <th>22</th>\n",
              "      <td>Now on the other hand, clothing and  footwear ...</td>\n",
              "      <td>2</td>\n",
              "    </tr>\n",
              "    <tr>\n",
              "      <th>23</th>\n",
              "      <td>Regarding clothing/footwear Italy ranked at t...</td>\n",
              "      <td>2</td>\n",
              "    </tr>\n",
              "    <tr>\n",
              "      <th>24</th>\n",
              "      <td>Among them, clothing and footwear related expe...</td>\n",
              "      <td>2</td>\n",
              "    </tr>\n",
              "    <tr>\n",
              "      <th>25</th>\n",
              "      <td>Turkey? (2.21%).&amp;lt;br&amp;gt;As far as Italy, Sp...</td>\n",
              "      <td>2</td>\n",
              "    </tr>\n",
              "    <tr>\n",
              "      <th>26</th>\n",
              "      <td>The table illustrates the proportion of  ann...</td>\n",
              "      <td>2</td>\n",
              "    </tr>\n",
              "    <tr>\n",
              "      <th>27</th>\n",
              "      <td>Clothing and footwear was the third category...</td>\n",
              "      <td>2</td>\n",
              "    </tr>\n",
              "    <tr>\n",
              "      <th>28</th>\n",
              "      <td>Overall, it is clear that all the na...</td>\n",
              "      <td>2</td>\n",
              "    </tr>\n",
              "    <tr>\n",
              "      <th>29</th>\n",
              "      <td>Clothing and footwear comes in middle category...</td>\n",
              "      <td>2</td>\n",
              "    </tr>\n",
              "    <tr>\n",
              "      <th>30</th>\n",
              "      <td>The map illustrates Meadowside village and Fon...</td>\n",
              "      <td>3</td>\n",
              "    </tr>\n",
              "    <tr>\n",
              "      <th>31</th>\n",
              "      <td>Meodowside and Fonton started far apart from e...</td>\n",
              "      <td>3</td>\n",
              "    </tr>\n",
              "    <tr>\n",
              "      <th>32</th>\n",
              "      <td>The small road was built wider and another lin...</td>\n",
              "      <td>3</td>\n",
              "    </tr>\n",
              "    <tr>\n",
              "      <th>33</th>\n",
              "      <td>32 minutes&amp;lt;br&amp;gt;The map illustrates the in...</td>\n",
              "      <td>3</td>\n",
              "    </tr>\n",
              "    <tr>\n",
              "      <th>34</th>\n",
              "      <td>Fonton and Meadowside were ordinary towns and ...</td>\n",
              "      <td>3</td>\n",
              "    </tr>\n",
              "    <tr>\n",
              "      <th>35</th>\n",
              "      <td>In 1992, both Meadowside Village and Fonton To...</td>\n",
              "      <td>3</td>\n",
              "    </tr>\n",
              "    <tr>\n",
              "      <th>36</th>\n",
              "      <td>In 1985, some changes were made in Meadowside ...</td>\n",
              "      <td>3</td>\n",
              "    </tr>\n",
              "    <tr>\n",
              "      <th>37</th>\n",
              "      <td>At that present time, another railway track ha...</td>\n",
              "      <td>3</td>\n",
              "    </tr>\n",
              "    <tr>\n",
              "      <th>38</th>\n",
              "      <td>&amp;lt;br&amp;gt;Overall, initially Fonton Town appea...</td>\n",
              "      <td>3</td>\n",
              "    </tr>\n",
              "    <tr>\n",
              "      <th>39</th>\n",
              "      <td>Overall, there has been development in the inf...</td>\n",
              "      <td>3</td>\n",
              "    </tr>\n",
              "    <tr>\n",
              "      <th>40</th>\n",
              "      <td>) your introduction is very limited. There are...</td>\n",
              "      <td>4</td>\n",
              "    </tr>\n",
              "    <tr>\n",
              "      <th>41</th>\n",
              "      <td>Miss Liz or any ILETS candidate. Please share ...</td>\n",
              "      <td>4</td>\n",
              "    </tr>\n",
              "    <tr>\n",
              "      <th>42</th>\n",
              "      <td>Your overview gives information about the visi...</td>\n",
              "      <td>4</td>\n",
              "    </tr>\n",
              "    <tr>\n",
              "      <th>43</th>\n",
              "      <td>The amount of butter consumed was higher than ...</td>\n",
              "      <td>4</td>\n",
              "    </tr>\n",
              "    <tr>\n",
              "      <th>44</th>\n",
              "      <td>In 1981, almost 140 grams of butter was eaten ...</td>\n",
              "      <td>4</td>\n",
              "    </tr>\n",
              "    <tr>\n",
              "      <th>45</th>\n",
              "      <td>The consumption of butter has seen a dramatic ...</td>\n",
              "      <td>4</td>\n",
              "    </tr>\n",
              "    <tr>\n",
              "      <th>46</th>\n",
              "      <td>IELTS examiner training? Are you happy with th...</td>\n",
              "      <td>4</td>\n",
              "    </tr>\n",
              "    <tr>\n",
              "      <th>47</th>\n",
              "      <td>However,  the number skyrocketed to a little o...</td>\n",
              "      <td>4</td>\n",
              "    </tr>\n",
              "    <tr>\n",
              "      <th>48</th>\n",
              "      <td>Whereas, the low-fat and reduced-spread consum...</td>\n",
              "      <td>4</td>\n",
              "    </tr>\n",
              "    <tr>\n",
              "      <th>49</th>\n",
              "      <td>Overall, the amount of butter and margarine sh...</td>\n",
              "      <td>4</td>\n",
              "    </tr>\n",
              "    <tr>\n",
              "      <th>50</th>\n",
              "      <td>hello Liz, can you please let me know if we ne...</td>\n",
              "      <td>5</td>\n",
              "    </tr>\n",
              "    <tr>\n",
              "      <th>51</th>\n",
              "      <td>Could you please help take a look at whether t...</td>\n",
              "      <td>5</td>\n",
              "    </tr>\n",
              "    <tr>\n",
              "      <th>52</th>\n",
              "      <td>You write very well. You?e got a strong contr...</td>\n",
              "      <td>5</td>\n",
              "    </tr>\n",
              "    <tr>\n",
              "      <th>53</th>\n",
              "      <td>??and of course, you have opposite adjectives ...</td>\n",
              "      <td>5</td>\n",
              "    </tr>\n",
              "    <tr>\n",
              "      <th>54</th>\n",
              "      <td>(but a 4% rise is only significant if we know ...</td>\n",
              "      <td>5</td>\n",
              "    </tr>\n",
              "    <tr>\n",
              "      <th>55</th>\n",
              "      <td>2) ??production of energy from nuclear and oth...</td>\n",
              "      <td>5</td>\n",
              "    </tr>\n",
              "    <tr>\n",
              "      <th>56</th>\n",
              "      <td>The second one is better because it gives us a...</td>\n",
              "      <td>5</td>\n",
              "    </tr>\n",
              "    <tr>\n",
              "      <th>57</th>\n",
              "      <td>Overall, it can be seen that France produces t...</td>\n",
              "      <td>5</td>\n",
              "    </tr>\n",
              "    <tr>\n",
              "      <th>58</th>\n",
              "      <td>Energy produced by coal and gas accounted for ...</td>\n",
              "      <td>5</td>\n",
              "    </tr>\n",
              "    <tr>\n",
              "      <th>59</th>\n",
              "      <td>In terms of Nuclear energy, it comprised of 6....</td>\n",
              "      <td>5</td>\n",
              "    </tr>\n",
              "  </tbody>\n",
              "</table>\n",
              "</div>\n",
              "    <div class=\"colab-df-buttons\">\n",
              "\n",
              "  <div class=\"colab-df-container\">\n",
              "    <button class=\"colab-df-convert\" onclick=\"convertToInteractive('df-c6938a95-5472-4cf6-af80-6ef1ae1aa339')\"\n",
              "            title=\"Convert this dataframe to an interactive table.\"\n",
              "            style=\"display:none;\">\n",
              "\n",
              "  <svg xmlns=\"http://www.w3.org/2000/svg\" height=\"24px\" viewBox=\"0 -960 960 960\">\n",
              "    <path d=\"M120-120v-720h720v720H120Zm60-500h600v-160H180v160Zm220 220h160v-160H400v160Zm0 220h160v-160H400v160ZM180-400h160v-160H180v160Zm440 0h160v-160H620v160ZM180-180h160v-160H180v160Zm440 0h160v-160H620v160Z\"/>\n",
              "  </svg>\n",
              "    </button>\n",
              "\n",
              "  <style>\n",
              "    .colab-df-container {\n",
              "      display:flex;\n",
              "      gap: 12px;\n",
              "    }\n",
              "\n",
              "    .colab-df-convert {\n",
              "      background-color: #E8F0FE;\n",
              "      border: none;\n",
              "      border-radius: 50%;\n",
              "      cursor: pointer;\n",
              "      display: none;\n",
              "      fill: #1967D2;\n",
              "      height: 32px;\n",
              "      padding: 0 0 0 0;\n",
              "      width: 32px;\n",
              "    }\n",
              "\n",
              "    .colab-df-convert:hover {\n",
              "      background-color: #E2EBFA;\n",
              "      box-shadow: 0px 1px 2px rgba(60, 64, 67, 0.3), 0px 1px 3px 1px rgba(60, 64, 67, 0.15);\n",
              "      fill: #174EA6;\n",
              "    }\n",
              "\n",
              "    .colab-df-buttons div {\n",
              "      margin-bottom: 4px;\n",
              "    }\n",
              "\n",
              "    [theme=dark] .colab-df-convert {\n",
              "      background-color: #3B4455;\n",
              "      fill: #D2E3FC;\n",
              "    }\n",
              "\n",
              "    [theme=dark] .colab-df-convert:hover {\n",
              "      background-color: #434B5C;\n",
              "      box-shadow: 0px 1px 3px 1px rgba(0, 0, 0, 0.15);\n",
              "      filter: drop-shadow(0px 1px 2px rgba(0, 0, 0, 0.3));\n",
              "      fill: #FFFFFF;\n",
              "    }\n",
              "  </style>\n",
              "\n",
              "    <script>\n",
              "      const buttonEl =\n",
              "        document.querySelector('#df-c6938a95-5472-4cf6-af80-6ef1ae1aa339 button.colab-df-convert');\n",
              "      buttonEl.style.display =\n",
              "        google.colab.kernel.accessAllowed ? 'block' : 'none';\n",
              "\n",
              "      async function convertToInteractive(key) {\n",
              "        const element = document.querySelector('#df-c6938a95-5472-4cf6-af80-6ef1ae1aa339');\n",
              "        const dataTable =\n",
              "          await google.colab.kernel.invokeFunction('convertToInteractive',\n",
              "                                                    [key], {});\n",
              "        if (!dataTable) return;\n",
              "\n",
              "        const docLinkHtml = 'Like what you see? Visit the ' +\n",
              "          '<a target=\"_blank\" href=https://colab.research.google.com/notebooks/data_table.ipynb>data table notebook</a>'\n",
              "          + ' to learn more about interactive tables.';\n",
              "        element.innerHTML = '';\n",
              "        dataTable['output_type'] = 'display_data';\n",
              "        await google.colab.output.renderOutput(dataTable, element);\n",
              "        const docLink = document.createElement('div');\n",
              "        docLink.innerHTML = docLinkHtml;\n",
              "        element.appendChild(docLink);\n",
              "      }\n",
              "    </script>\n",
              "  </div>\n",
              "\n",
              "\n",
              "<div id=\"df-29bbe5f6-9b0e-4a8a-b3d6-99716eaf733d\">\n",
              "  <button class=\"colab-df-quickchart\" onclick=\"quickchart('df-29bbe5f6-9b0e-4a8a-b3d6-99716eaf733d')\"\n",
              "            title=\"Suggest charts\"\n",
              "            style=\"display:none;\">\n",
              "\n",
              "<svg xmlns=\"http://www.w3.org/2000/svg\" height=\"24px\"viewBox=\"0 0 24 24\"\n",
              "     width=\"24px\">\n",
              "    <g>\n",
              "        <path d=\"M19 3H5c-1.1 0-2 .9-2 2v14c0 1.1.9 2 2 2h14c1.1 0 2-.9 2-2V5c0-1.1-.9-2-2-2zM9 17H7v-7h2v7zm4 0h-2V7h2v10zm4 0h-2v-4h2v4z\"/>\n",
              "    </g>\n",
              "</svg>\n",
              "  </button>\n",
              "\n",
              "<style>\n",
              "  .colab-df-quickchart {\n",
              "      --bg-color: #E8F0FE;\n",
              "      --fill-color: #1967D2;\n",
              "      --hover-bg-color: #E2EBFA;\n",
              "      --hover-fill-color: #174EA6;\n",
              "      --disabled-fill-color: #AAA;\n",
              "      --disabled-bg-color: #DDD;\n",
              "  }\n",
              "\n",
              "  [theme=dark] .colab-df-quickchart {\n",
              "      --bg-color: #3B4455;\n",
              "      --fill-color: #D2E3FC;\n",
              "      --hover-bg-color: #434B5C;\n",
              "      --hover-fill-color: #FFFFFF;\n",
              "      --disabled-bg-color: #3B4455;\n",
              "      --disabled-fill-color: #666;\n",
              "  }\n",
              "\n",
              "  .colab-df-quickchart {\n",
              "    background-color: var(--bg-color);\n",
              "    border: none;\n",
              "    border-radius: 50%;\n",
              "    cursor: pointer;\n",
              "    display: none;\n",
              "    fill: var(--fill-color);\n",
              "    height: 32px;\n",
              "    padding: 0;\n",
              "    width: 32px;\n",
              "  }\n",
              "\n",
              "  .colab-df-quickchart:hover {\n",
              "    background-color: var(--hover-bg-color);\n",
              "    box-shadow: 0 1px 2px rgba(60, 64, 67, 0.3), 0 1px 3px 1px rgba(60, 64, 67, 0.15);\n",
              "    fill: var(--button-hover-fill-color);\n",
              "  }\n",
              "\n",
              "  .colab-df-quickchart-complete:disabled,\n",
              "  .colab-df-quickchart-complete:disabled:hover {\n",
              "    background-color: var(--disabled-bg-color);\n",
              "    fill: var(--disabled-fill-color);\n",
              "    box-shadow: none;\n",
              "  }\n",
              "\n",
              "  .colab-df-spinner {\n",
              "    border: 2px solid var(--fill-color);\n",
              "    border-color: transparent;\n",
              "    border-bottom-color: var(--fill-color);\n",
              "    animation:\n",
              "      spin 1s steps(1) infinite;\n",
              "  }\n",
              "\n",
              "  @keyframes spin {\n",
              "    0% {\n",
              "      border-color: transparent;\n",
              "      border-bottom-color: var(--fill-color);\n",
              "      border-left-color: var(--fill-color);\n",
              "    }\n",
              "    20% {\n",
              "      border-color: transparent;\n",
              "      border-left-color: var(--fill-color);\n",
              "      border-top-color: var(--fill-color);\n",
              "    }\n",
              "    30% {\n",
              "      border-color: transparent;\n",
              "      border-left-color: var(--fill-color);\n",
              "      border-top-color: var(--fill-color);\n",
              "      border-right-color: var(--fill-color);\n",
              "    }\n",
              "    40% {\n",
              "      border-color: transparent;\n",
              "      border-right-color: var(--fill-color);\n",
              "      border-top-color: var(--fill-color);\n",
              "    }\n",
              "    60% {\n",
              "      border-color: transparent;\n",
              "      border-right-color: var(--fill-color);\n",
              "    }\n",
              "    80% {\n",
              "      border-color: transparent;\n",
              "      border-right-color: var(--fill-color);\n",
              "      border-bottom-color: var(--fill-color);\n",
              "    }\n",
              "    90% {\n",
              "      border-color: transparent;\n",
              "      border-bottom-color: var(--fill-color);\n",
              "    }\n",
              "  }\n",
              "</style>\n",
              "\n",
              "  <script>\n",
              "    async function quickchart(key) {\n",
              "      const quickchartButtonEl =\n",
              "        document.querySelector('#' + key + ' button');\n",
              "      quickchartButtonEl.disabled = true;  // To prevent multiple clicks.\n",
              "      quickchartButtonEl.classList.add('colab-df-spinner');\n",
              "      try {\n",
              "        const charts = await google.colab.kernel.invokeFunction(\n",
              "            'suggestCharts', [key], {});\n",
              "      } catch (error) {\n",
              "        console.error('Error during call to suggestCharts:', error);\n",
              "      }\n",
              "      quickchartButtonEl.classList.remove('colab-df-spinner');\n",
              "      quickchartButtonEl.classList.add('colab-df-quickchart-complete');\n",
              "    }\n",
              "    (() => {\n",
              "      let quickchartButtonEl =\n",
              "        document.querySelector('#df-29bbe5f6-9b0e-4a8a-b3d6-99716eaf733d button');\n",
              "      quickchartButtonEl.style.display =\n",
              "        google.colab.kernel.accessAllowed ? 'block' : 'none';\n",
              "    })();\n",
              "  </script>\n",
              "</div>\n",
              "\n",
              "  <div id=\"id_e0cfce0f-2668-49ca-b910-bb03652dad0c\">\n",
              "    <style>\n",
              "      .colab-df-generate {\n",
              "        background-color: #E8F0FE;\n",
              "        border: none;\n",
              "        border-radius: 50%;\n",
              "        cursor: pointer;\n",
              "        display: none;\n",
              "        fill: #1967D2;\n",
              "        height: 32px;\n",
              "        padding: 0 0 0 0;\n",
              "        width: 32px;\n",
              "      }\n",
              "\n",
              "      .colab-df-generate:hover {\n",
              "        background-color: #E2EBFA;\n",
              "        box-shadow: 0px 1px 2px rgba(60, 64, 67, 0.3), 0px 1px 3px 1px rgba(60, 64, 67, 0.15);\n",
              "        fill: #174EA6;\n",
              "      }\n",
              "\n",
              "      [theme=dark] .colab-df-generate {\n",
              "        background-color: #3B4455;\n",
              "        fill: #D2E3FC;\n",
              "      }\n",
              "\n",
              "      [theme=dark] .colab-df-generate:hover {\n",
              "        background-color: #434B5C;\n",
              "        box-shadow: 0px 1px 3px 1px rgba(0, 0, 0, 0.15);\n",
              "        filter: drop-shadow(0px 1px 2px rgba(0, 0, 0, 0.3));\n",
              "        fill: #FFFFFF;\n",
              "      }\n",
              "    </style>\n",
              "    <button class=\"colab-df-generate\" onclick=\"generateWithVariable('data')\"\n",
              "            title=\"Generate code using this dataframe.\"\n",
              "            style=\"display:none;\">\n",
              "\n",
              "  <svg xmlns=\"http://www.w3.org/2000/svg\" height=\"24px\"viewBox=\"0 0 24 24\"\n",
              "       width=\"24px\">\n",
              "    <path d=\"M7,19H8.4L18.45,9,17,7.55,7,17.6ZM5,21V16.75L18.45,3.32a2,2,0,0,1,2.83,0l1.4,1.43a1.91,1.91,0,0,1,.58,1.4,1.91,1.91,0,0,1-.58,1.4L9.25,21ZM18.45,9,17,7.55Zm-12,3A5.31,5.31,0,0,0,4.9,8.1,5.31,5.31,0,0,0,1,6.5,5.31,5.31,0,0,0,4.9,4.9,5.31,5.31,0,0,0,6.5,1,5.31,5.31,0,0,0,8.1,4.9,5.31,5.31,0,0,0,12,6.5,5.46,5.46,0,0,0,6.5,12Z\"/>\n",
              "  </svg>\n",
              "    </button>\n",
              "    <script>\n",
              "      (() => {\n",
              "      const buttonEl =\n",
              "        document.querySelector('#id_e0cfce0f-2668-49ca-b910-bb03652dad0c button.colab-df-generate');\n",
              "      buttonEl.style.display =\n",
              "        google.colab.kernel.accessAllowed ? 'block' : 'none';\n",
              "\n",
              "      buttonEl.onclick = () => {\n",
              "        google.colab.notebook.generateWithVariable('data');\n",
              "      }\n",
              "      })();\n",
              "    </script>\n",
              "  </div>\n",
              "\n",
              "    </div>\n",
              "  </div>\n"
            ],
            "application/vnd.google.colaboratory.intrinsic+json": {
              "type": "dataframe",
              "variable_name": "data",
              "summary": "{\n  \"name\": \"data\",\n  \"rows\": 60,\n  \"fields\": [\n    {\n      \"column\": \"Text\",\n      \"properties\": {\n        \"dtype\": \"string\",\n        \"num_unique_values\": 59,\n        \"samples\": [\n          \"Should not the second last sentence in the second paragraph say grind instead of ground?&lt;br&gt;The second last sentence in the first body paragraph uses the passive voice: is ground. You create the passive voice using the verb ?\\uebdbo be + past participle?? The past participle of grind is ground. Diagrams quite commonly use the passive voice in sentences.&lt;br&gt;The diagram illustrates the production of cement through various stages involved along with several tools used. Further it demonstrates how this cement is utilized for the generation of concrete which is essential for building purposes.&lt;br&gt;It is apparent from the diagrams that the production of cement involves undergoing several stages such as mixing , rotation and grinding. This cement is then used for the formation of concrete which undergoes a simple process of mixing various substances such as with water , sand and gravel.&lt;br&gt;Initially limestone and clay are allowed to pass through crusher and this outcome is transferred to Mixer. \",\n          \"At first, limestone and clay is passed through crusher to break it down in the form of powder which is then passed through the mixer. The mixed powder is then passed to next station where it is heated by rotating heater to make cement granules. And finally, it is passed through grinder to make it fine particles which is then packed into bags ready to use.&lt;br&gt;Regarding the second diagram, cement is used for concrete production which accounts for 15% of total ingredients to be used. The cement is then mixed with 10% of water ,25% of sand and 50% of gravel(small stones) in the concrete mixer which is then rotated for certain time to make final product of concrete which can be used for building purposes.\",\n          \"In 1992, both Meadowside Village and Fonton Town were completely separated. There is a railway track in Fonton Town, which runs through its North side, and a road in Meadowside Village which runs from its west side.&lt;br&gt;\"\n        ],\n        \"semantic_type\": \"\",\n        \"description\": \"\"\n      }\n    },\n    {\n      \"column\": \"Label\",\n      \"properties\": {\n        \"dtype\": \"number\",\n        \"std\": 1,\n        \"min\": 0,\n        \"max\": 5,\n        \"num_unique_values\": 6,\n        \"samples\": [\n          0,\n          1,\n          5\n        ],\n        \"semantic_type\": \"\",\n        \"description\": \"\"\n      }\n    }\n  ]\n}"
            }
          },
          "metadata": {},
          "execution_count": 18
        }
      ]
    },
    {
      "cell_type": "code",
      "source": [
        "import pandas as pd\n",
        "from transformers import BertTokenizer, BertModel\n",
        "import torch\n",
        "from sklearn.model_selection import train_test_split\n",
        "from sklearn.linear_model import LogisticRegression\n",
        "from sklearn.metrics import accuracy_score\n",
        "import numpy as np"
      ],
      "metadata": {
        "id": "5B_vp8egpWex"
      },
      "execution_count": 19,
      "outputs": []
    },
    {
      "cell_type": "code",
      "source": [
        "# 加載預訓練好的Tokenizer\n",
        "tokenizer = BertTokenizer.from_pretrained('bert-base-uncased')\n",
        "model = BertModel.from_pretrained('bert-base-uncased')\n",
        "\n",
        "#我的dataset(已經Label)\n",
        "data = pd.read_excel('./ielts.xlsx')\n",
        "texts = data['Text']\n",
        "labels = data['Label']"
      ],
      "metadata": {
        "id": "NKNxiz7ypah8"
      },
      "execution_count": 52,
      "outputs": []
    },
    {
      "cell_type": "code",
      "source": [
        "max_seq_length = 512  #匹配長度\n",
        "\n",
        "encoded_texts = []\n",
        "\n",
        "for text in texts:\n",
        "    # 分詞標記\n",
        "    tokenized_text = tokenizer.encode(text, add_special_tokens=True)\n",
        "\n",
        "    # 超過最大長度捨棄\n",
        "    if len(tokenized_text) > max_seq_length:\n",
        "        tokenized_text = tokenized_text[:max_seq_length]\n",
        "\n",
        "    # 轉換數據成tensor\n",
        "    encoded_texts.append(torch.tensor(tokenized_text))"
      ],
      "metadata": {
        "colab": {
          "base_uri": "https://localhost:8080/"
        },
        "id": "3jeGx-NcpeKU",
        "outputId": "8f9b8fad-e877-44cc-e702-210d1c74e2bb"
      },
      "execution_count": 22,
      "outputs": [
        {
          "output_type": "stream",
          "name": "stdout",
          "text": [
            "处理后的编码文本列表长度: 60\n"
          ]
        }
      ]
    },
    {
      "cell_type": "code",
      "source": [
        "# 計算每一篇文章的Bert\n",
        "with torch.no_grad():\n",
        "    model.eval()\n",
        "    encoded_texts = torch.nn.utils.rnn.pad_sequence(encoded_texts, batch_first=True, padding_value=0)\n",
        "    outputs = model(encoded_texts)\n",
        "    last_hidden_states = outputs.last_hidden_state\n",
        "\n",
        "# 為了使用Logistic Regression需轉成二維\n",
        "flattened_texts = last_hidden_states.view(last_hidden_states.size(0), -1).numpy()\n",
        "\n",
        "train_inputs, test_inputs, train_labels, test_labels = train_test_split(flattened_texts, labels, test_size=0.2, random_state=42)\n",
        "\n",
        "# Training\n",
        "classifier = LogisticRegression()\n",
        "classifier.fit(train_inputs, train_labels)\n",
        "\n",
        "# Prediction\n",
        "predictions = classifier.predict(test_inputs)\n",
        "\n",
        "# Evaluation\n",
        "accuracy = accuracy_score(test_labels, predictions)\n",
        "print(\"Accuracy:\", accuracy)"
      ],
      "metadata": {
        "colab": {
          "base_uri": "https://localhost:8080/"
        },
        "id": "c1LikHkaplNa",
        "outputId": "4ec2fb49-5261-4bdd-e813-a7ff15a7ff63"
      },
      "execution_count": 57,
      "outputs": [
        {
          "output_type": "stream",
          "name": "stdout",
          "text": [
            "Accuracy: 0.25\n"
          ]
        }
      ]
    },
    {
      "cell_type": "code",
      "source": [
        "import joblib\n",
        "\n",
        "# 保存模型與分類器\n",
        "torch.save(model.state_dict(), 'bert_model.pth')\n",
        "joblib.dump(classifier, 'classifier.pkl')"
      ],
      "metadata": {
        "colab": {
          "base_uri": "https://localhost:8080/"
        },
        "id": "NlgE60plqbtr",
        "outputId": "0b076604-0a4a-421b-810c-2e17d40a5138"
      },
      "execution_count": 58,
      "outputs": [
        {
          "output_type": "execute_result",
          "data": {
            "text/plain": [
              "['classifier.pkl']"
            ]
          },
          "metadata": {},
          "execution_count": 58
        }
      ]
    },
    {
      "cell_type": "code",
      "source": [
        "# 加載BERT模型\n",
        "tokenizer = BertTokenizer.from_pretrained('bert-base-uncased')\n",
        "model = BertModel.from_pretrained('bert-base-uncased')\n",
        "\n",
        "# 加載分類器\n",
        "classifier = joblib.load('classifier.pkl')\n",
        "\n",
        "# 加载已保存的模型参數\n",
        "model.load_state_dict(torch.load('bert_model.pth'))\n",
        "\n",
        "# 文本\n",
        "essay_text = \"The pie charts show the amount of revenue and expenditures in 2016 for a children’s charity in the USA. Overall, it can be seen that donated food accounted for the majority of the income, while program services accounted for the most expenditure. Total revenue sources just exceeded outgoings.In detail, donated food provided most of the revenue for the charity, at 86%. Similarly, with regard to expenditures, one category, program services, accounted for nearly all of the outgoings, at 95.8%. The other categories were much smaller. Community contributions, which were the second largest revenue source, brought in 10.4% of overall income, and this was followed by program revenue, at 2.2%. Investment income, government grants, and other income were very small sources of revenue, accounting for only 0.8% combined.There were only two other expenditure items, fundraising and management and general, accounting for 2.6% and 1.6% respectively. The total amount of income was $53,561,580, which was just enough to cover the expenditures of $53,224,896.\"\n",
        "\n",
        "# 預處裡成512長度\n",
        "encoded_essay = tokenizer(essay_text, return_tensors='pt', max_length=512, padding='max_length', truncation=True)\n",
        "\n",
        "# 預測\n",
        "with torch.no_grad():\n",
        "    outputs = model(encoded_texts)\n",
        "    last_hidden_states = outputs.last_hidden_state\n",
        "    flattened_texts = last_hidden_states.view(last_hidden_states.size(0), -1).numpy()\n",
        "\n",
        "predictions = classifier.predict(flattened_texts)"
      ],
      "metadata": {
        "id": "kpjesWpYLltY"
      },
      "execution_count": 59,
      "outputs": []
    },
    {
      "cell_type": "code",
      "source": [
        "#結果\n",
        "predictions"
      ],
      "metadata": {
        "colab": {
          "base_uri": "https://localhost:8080/"
        },
        "id": "ArHGuKm9xSTm",
        "outputId": "75b83a0a-1597-4e52-83b6-0b312a27c523"
      },
      "execution_count": 61,
      "outputs": [
        {
          "output_type": "execute_result",
          "data": {
            "text/plain": [
              "array([0, 0, 0, 0, 0, 0, 0, 0, 0, 0, 1, 1, 2, 2, 1, 1, 1, 1, 1, 1, 2, 2,\n",
              "       2, 2, 2, 2, 2, 2, 2, 2, 3, 3, 3, 4, 3, 3, 4, 3, 3, 3, 4, 4, 4, 4,\n",
              "       4, 2, 3, 4, 0, 4, 0, 5, 5, 5, 5, 5, 5, 4, 5, 5])"
            ]
          },
          "metadata": {},
          "execution_count": 61
        }
      ]
    },
    {
      "cell_type": "code",
      "source": [
        "#把前面的程式碼合併功能，使用gradio當成介面\n",
        "import gradio as gr\n",
        "from spellchecker import SpellChecker\n",
        "from language_tool_python import LanguageTool\n",
        "import torch\n",
        "from transformers import BertTokenizer, BertModel\n",
        "import joblib\n",
        "import numpy as np\n",
        "\n",
        "tokenizer = BertTokenizer.from_pretrained('bert-base-uncased')\n",
        "model = BertModel.from_pretrained('bert-base-uncased')\n",
        "\n",
        "classifier = joblib.load('classifier.pkl')\n",
        "\n",
        "model.load_state_dict(torch.load('bert_model.pth'))\n",
        "\n",
        "spell = SpellChecker(language='en')\n",
        "tool = LanguageTool('en-US')\n",
        "\n",
        "def check_spell_grammar_and_predict_category(essay):\n",
        "\n",
        "    spell_errors_count = 0\n",
        "    grammar_errors_count = 0\n",
        "\n",
        "    spelling_errors = spell.unknown(essay.split())\n",
        "    spell_errors_count = len(spelling_errors)\n",
        "\n",
        "\n",
        "    matches = tool.check(essay)\n",
        "    grammar_errors_count = len(matches)\n",
        "\n",
        "\n",
        "    spell_errors_msg = \"\\n\".join([f\"- {error}\" for error in spelling_errors])\n",
        "    grammar_errors_msg = \"\\n\".join([f\"Error: {match.ruleId}\\nDescription: {match.message}\\nSuggestions: {match.replacements}\\n\" for match in matches])\n",
        "\n",
        "\n",
        "    encoded_essay = tokenizer(essay, return_tensors='pt', max_length=512, padding='max_length', truncation=True)\n",
        "\n",
        "\n",
        "    with torch.no_grad():\n",
        "        outputs = model(**encoded_essay)\n",
        "        last_hidden_states = outputs.last_hidden_state\n",
        "        flattened_essay = last_hidden_states.view(last_hidden_states.size(0), -1).numpy()\n",
        "\n",
        "\n",
        "    predictions = classifier.predict(flattened_essay)\n",
        "\n",
        "    return f\"Spelling errors found: {spell_errors_count}\\n{spell_errors_msg}\", f\"Grammar errors found: {grammar_errors_count}\\n{grammar_errors_msg}\", f\"Predicted category: {predictions}\"\n",
        "\n",
        "# gradio介面\n",
        "interface = gr.Interface(fn=check_spell_grammar_and_predict_category, inputs=\"text\", outputs=[\"text\", \"text\", \"text\"], title=\"Spell, Grammar, and Category Checker\", description=\"Enter your essay to check for spelling and grammar errors and predict its category.\")\n",
        "interface.launch()\n"
      ],
      "metadata": {
        "colab": {
          "base_uri": "https://localhost:8080/",
          "height": 626
        },
        "id": "PvUETwuFvfuC",
        "outputId": "354f3de8-81bf-49d4-e72a-d2fc7dc97394"
      },
      "execution_count": 67,
      "outputs": [
        {
          "output_type": "stream",
          "name": "stdout",
          "text": [
            "Setting queue=True in a Colab notebook requires sharing enabled. Setting `share=True` (you can turn this off by setting `share=False` in `launch()` explicitly).\n",
            "\n",
            "Colab notebook detected. To show errors in colab notebook, set debug=True in launch()\n",
            "Running on public URL: https://fe25947920c677ab83.gradio.live\n",
            "\n",
            "This share link expires in 72 hours. For free permanent hosting and GPU upgrades, run `gradio deploy` from Terminal to deploy to Spaces (https://huggingface.co/spaces)\n"
          ]
        },
        {
          "output_type": "display_data",
          "data": {
            "text/plain": [
              "<IPython.core.display.HTML object>"
            ],
            "text/html": [
              "<div><iframe src=\"https://fe25947920c677ab83.gradio.live\" width=\"100%\" height=\"500\" allow=\"autoplay; camera; microphone; clipboard-read; clipboard-write;\" frameborder=\"0\" allowfullscreen></iframe></div>"
            ]
          },
          "metadata": {}
        },
        {
          "output_type": "execute_result",
          "data": {
            "text/plain": []
          },
          "metadata": {},
          "execution_count": 67
        }
      ]
    },
    {
      "cell_type": "markdown",
      "source": [],
      "metadata": {
        "id": "1-ekG0L47DvJ"
      }
    }
  ]
}