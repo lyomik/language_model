{
  "nbformat": 4,
  "nbformat_minor": 0,
  "metadata": {
    "colab": {
      "provenance": []
    },
    "kernelspec": {
      "name": "python3",
      "display_name": "Python 3"
    },
    "language_info": {
      "name": "python"
    }
  },
  "cells": [
    {
      "cell_type": "markdown",
      "source": [
        "# 載入 jieba套件"
      ],
      "metadata": {
        "id": "aBflUDEMx_L9"
      }
    },
    {
      "cell_type": "code",
      "source": [
        "! pip install -U jieba"
      ],
      "metadata": {
        "colab": {
          "base_uri": "https://localhost:8080/"
        },
        "id": "Bft13k2Yytc7",
        "outputId": "048c46c5-23c5-4fd8-bcb4-051395ef43d8"
      },
      "execution_count": 5,
      "outputs": [
        {
          "output_type": "stream",
          "name": "stdout",
          "text": [
            "Requirement already satisfied: jieba in /usr/local/lib/python3.10/dist-packages (0.42.1)\n"
          ]
        }
      ]
    },
    {
      "cell_type": "code",
      "execution_count": 7,
      "metadata": {
        "id": "rQl5Bf3gw9MM"
      },
      "outputs": [],
      "source": [
        "# encoding=utf-8\n",
        "import jieba\n",
        "\n",
        "# jieba.enable_paddle()# 启动paddle模式。 0.40版之后开始支持，早期版本不支持\n"
      ]
    },
    {
      "cell_type": "markdown",
      "source": [
        "# 列印jieba版本"
      ],
      "metadata": {
        "id": "PCtXmQlG2yey"
      }
    },
    {
      "cell_type": "code",
      "source": [
        "print(jieba.__version__)"
      ],
      "metadata": {
        "colab": {
          "base_uri": "https://localhost:8080/"
        },
        "id": "iUe9qHZg0dFc",
        "outputId": "23c9e4e1-46d7-4b1b-e17f-8b70e5e8adef"
      },
      "execution_count": 18,
      "outputs": [
        {
          "output_type": "stream",
          "name": "stdout",
          "text": [
            "0.42.1\n"
          ]
        }
      ]
    },
    {
      "cell_type": "markdown",
      "source": [
        "# 測試資料"
      ],
      "metadata": {
        "id": "Ze9XgazIx7-g"
      }
    },
    {
      "cell_type": "code",
      "source": [
        "strs=[\"我来到北京清华大学\",\"乒乓球拍卖完了\",\"中国科学技术大学\"]"
      ],
      "metadata": {
        "id": "Iw0DANUxxOL_"
      },
      "execution_count": 8,
      "outputs": []
    },
    {
      "cell_type": "markdown",
      "source": [
        "# 使用paddle模式"
      ],
      "metadata": {
        "id": "0jzxeueUyFQ_"
      }
    },
    {
      "cell_type": "code",
      "source": [
        "for str in strs:\n",
        "    seg_list = jieba.cut(str,use_paddle=True) # 使用paddle模式\n",
        "    print(\"Paddle Mode: \" + '/'.join(list(seg_list)))"
      ],
      "metadata": {
        "colab": {
          "base_uri": "https://localhost:8080/"
        },
        "id": "9Mjz0wXexnyp",
        "outputId": "fc0bfdd9-5d2f-4e41-f949-892416c86e94"
      },
      "execution_count": 11,
      "outputs": [
        {
          "output_type": "stream",
          "name": "stdout",
          "text": [
            "Paddle Mode: 我/来到/北京/清华大学\n",
            "Paddle Mode: 乒乓球/拍卖/完/了\n",
            "Paddle Mode: 中国/科学技术/大学\n"
          ]
        }
      ]
    },
    {
      "cell_type": "markdown",
      "source": [
        "# 全模式"
      ],
      "metadata": {
        "id": "ibAxZLrJyQwg"
      }
    },
    {
      "cell_type": "code",
      "source": [
        "seg_list = jieba.cut(\"我来到北京清华大学\", cut_all=True)\n",
        "print(\"Full Mode: \" + \"/ \".join(seg_list))  # 全模式"
      ],
      "metadata": {
        "colab": {
          "base_uri": "https://localhost:8080/"
        },
        "id": "k_U92_Qbxqe5",
        "outputId": "9362bb93-e9c6-457e-f467-5bcaad8e88b1"
      },
      "execution_count": 9,
      "outputs": [
        {
          "output_type": "stream",
          "name": "stderr",
          "text": [
            "Building prefix dict from the default dictionary ...\n",
            "DEBUG:jieba:Building prefix dict from the default dictionary ...\n",
            "Dumping model to file cache /tmp/jieba.cache\n",
            "DEBUG:jieba:Dumping model to file cache /tmp/jieba.cache\n",
            "Loading model cost 0.980 seconds.\n",
            "DEBUG:jieba:Loading model cost 0.980 seconds.\n",
            "Prefix dict has been built successfully.\n",
            "DEBUG:jieba:Prefix dict has been built successfully.\n"
          ]
        },
        {
          "output_type": "stream",
          "name": "stdout",
          "text": [
            "Full Mode: 我/ 来到/ 北京/ 清华/ 清华大学/ 华大/ 大学\n"
          ]
        }
      ]
    },
    {
      "cell_type": "markdown",
      "source": [
        "# 精確模式"
      ],
      "metadata": {
        "id": "oMVhmm0gyUJO"
      }
    },
    {
      "cell_type": "code",
      "source": [
        "seg_list = jieba.cut(\"我来到北京清华大学\", cut_all=False)\n",
        "print(\"Default Mode: \" + \"/ \".join(seg_list))  # 精确模式"
      ],
      "metadata": {
        "colab": {
          "base_uri": "https://localhost:8080/"
        },
        "id": "SHaUxe95xs5G",
        "outputId": "ca7bc51f-6f6e-45c3-ce85-aa70929c2823"
      },
      "execution_count": 10,
      "outputs": [
        {
          "output_type": "stream",
          "name": "stdout",
          "text": [
            "Default Mode: 我/ 来到/ 北京/ 清华大学\n"
          ]
        }
      ]
    },
    {
      "cell_type": "markdown",
      "source": [
        "# 默認是精確模式"
      ],
      "metadata": {
        "id": "H1HTPCyeyYYG"
      }
    },
    {
      "cell_type": "code",
      "source": [
        "seg_list = jieba.cut(\"他来到了网易杭研大厦\")  # 默认是精确模式\n",
        "print(\", \".join(seg_list))"
      ],
      "metadata": {
        "colab": {
          "base_uri": "https://localhost:8080/"
        },
        "id": "CKQ3x4CPxuc7",
        "outputId": "f435a23e-aa8f-48fe-ba4d-58c4667af518"
      },
      "execution_count": 12,
      "outputs": [
        {
          "output_type": "stream",
          "name": "stdout",
          "text": [
            "他, 来到, 了, 网易, 杭研, 大厦\n"
          ]
        }
      ]
    },
    {
      "cell_type": "markdown",
      "source": [
        "# 搜索引擎模式"
      ],
      "metadata": {
        "id": "sRykLVgFydx2"
      }
    },
    {
      "cell_type": "code",
      "source": [
        "seg_list = jieba.cut_for_search(\"小明硕士毕业于中国科学院计算所，后在日本京都大学深造\")  # 搜索引擎模式\n",
        "print(\", \".join(seg_list))"
      ],
      "metadata": {
        "colab": {
          "base_uri": "https://localhost:8080/"
        },
        "id": "TXZYjrcuxwdR",
        "outputId": "58f82534-2a62-473d-d7dc-c8ca3a9bb9dc"
      },
      "execution_count": 13,
      "outputs": [
        {
          "output_type": "stream",
          "name": "stdout",
          "text": [
            "小明, 硕士, 毕业, 于, 中国, 科学, 学院, 科学院, 中国科学院, 计算, 计算所, ，, 后, 在, 日本, 京都, 大学, 日本京都大学, 深造\n"
          ]
        }
      ]
    },
    {
      "cell_type": "markdown",
      "source": [
        "# 詞性標註"
      ],
      "metadata": {
        "id": "48-0IDQq25ed"
      }
    },
    {
      "cell_type": "code",
      "source": [
        "import jieba\n",
        "import jieba.posseg as pseg\n",
        "str = ''' 社交平台 X 消息指出，根據《俄羅斯衛星通訊社》Sputnik 報導，俄中央軍區第 55 摩步旅突擊隊報告在阿夫迪夫卡火車站遭遇美國人並爆發激烈衝突。\n",
        "\n",
        "當時俄軍在阿夫迪夫卡地道裏發現還有殘餘烏軍活動並進行嚴密搜索。俄第 55 摩步旅突擊隊在奪取火車站時，遭遇一群正在突圍的烏軍部隊。\n",
        "\n",
        "雙方爆發激烈戰鬥，這群烏軍不投降，一面占據火車站附近房屋與俄軍戰鬥；一面一個勁往外硬闖突圍。俄軍迅速抽調更多突擊隊從各方向展開包圍，最終這支軍隊留下一個戰鬥小隊，在火車站地下室裏繼續阻擊俄軍，成功掩護主力瘋狂突圍。\n",
        "\n",
        "戰鬥當中，俄軍發現地面遺留的美制彈藥，俄羅斯突擊隊意識到這不是烏克蘭士兵，而是一群美國老兵為核心的北約志願兵。這些人有豐富戰鬥經驗，火車站遭遇戰打得非常激烈。\n",
        "\n",
        "俄媒《塔斯社》報導，俄羅斯突擊隊還在阿夫迪夫卡發現制服上帶有美國和波蘭魔術貼的士兵屍體。他們在火車站遭遇到的烏軍裏有很多美國、加拿大和其他歐洲國家雇傭軍或者志願兵。\n",
        "\n",
        "俄媒稱，這些人基本都是美國黑水公司，或者不同公司的退役老兵，甚至還有很多北約現役軍人以私人名義參戰。'''\n",
        "\n",
        "words = pseg.cut(str) #jieba默认模式\n",
        "#words = pseg.cut(str,use_paddle=True) #paddle模式\n",
        "for word, flag in words:\n",
        "  print('%s %s' % (word, flag))"
      ],
      "metadata": {
        "colab": {
          "base_uri": "https://localhost:8080/"
        },
        "id": "M_WihdmB0eTx",
        "outputId": "cafe0d9c-b5f7-495f-d28d-e3fb40d5cda9"
      },
      "execution_count": 26,
      "outputs": [
        {
          "output_type": "stream",
          "name": "stdout",
          "text": [
            "  x\n",
            "社交 n\n",
            "平台 n\n",
            "  x\n",
            "X x\n",
            "  x\n",
            "消息 n\n",
            "指出 v\n",
            "， x\n",
            "根據 p\n",
            "《 x\n",
            "俄羅斯衛星 nz\n",
            "通訊 nz\n",
            "社 n\n",
            "》 x\n",
            "Sputnik eng\n",
            "  x\n",
            "報導 n\n",
            "， x\n",
            "俄 j\n",
            "中央 n\n",
            "軍區 n\n",
            "第 m\n",
            "  x\n",
            "55 m\n",
            "  x\n",
            "摩步旅 nz\n",
            "突擊隊 n\n",
            "報告 n\n",
            "在 p\n",
            "阿夫迪夫卡 nrt\n",
            "火車 n\n",
            "站 v\n",
            "遭遇 n\n",
            "美國 ns\n",
            "人 n\n",
            "並 c\n",
            "爆發 v\n",
            "激烈 a\n",
            "衝突 vn\n",
            "。 x\n",
            "\n",
            " x\n",
            "\n",
            " x\n",
            "當時 t\n",
            "俄 j\n",
            "軍 n\n",
            "在 p\n",
            "阿夫迪夫卡 nrt\n",
            "地道 n\n",
            "裏 yg\n",
            "發 v\n",
            "現 tg\n",
            "還 d\n",
            "有 v\n",
            "殘 a\n",
            "餘 m\n",
            "烏 j\n",
            "軍 n\n",
            "活 v\n",
            "動 v\n",
            "並 c\n",
            "進 v\n",
            "行 v\n",
            "嚴 a\n",
            "密 a\n",
            "搜索 v\n",
            "。 x\n",
            "俄第 ns\n",
            "  x\n",
            "55 m\n",
            "  x\n",
            "摩步旅 nz\n",
            "突擊隊 n\n",
            "在 p\n",
            "奪 v\n",
            "取火 v\n",
            "車站 n\n",
            "時 n\n",
            "， x\n",
            "遭遇 n\n",
            "一群 m\n",
            "正在 t\n",
            "突圍 n\n",
            "的 uj\n",
            "烏軍 n\n",
            "部隊 n\n",
            "。 x\n",
            "\n",
            " x\n",
            "\n",
            " x\n",
            "雙方 n\n",
            "爆發 v\n",
            "激烈 a\n",
            "戰鬥 vn\n",
            "， x\n",
            "這 r\n",
            "群 q\n",
            "烏軍 n\n",
            "不 d\n",
            "投降 v\n",
            "， x\n",
            "一面 m\n",
            "占 v\n",
            "據 p\n",
            "火車 n\n",
            "站 v\n",
            "附近 f\n",
            "房屋 n\n",
            "與 p\n",
            "俄軍 j\n",
            "戰鬥 vn\n",
            "； x\n",
            "一面 m\n",
            "一個 m\n",
            "勁 n\n",
            "往外 d\n",
            "硬 a\n",
            "闖 v\n",
            "突圍 n\n",
            "。 x\n",
            "俄軍 nt\n",
            "迅速 ad\n",
            "抽調 v\n",
            "更 d\n",
            "多 m\n",
            "突擊隊 n\n",
            "從 p\n",
            "各 r\n",
            "方向 n\n",
            "展開 v\n",
            "包圍 v\n",
            "， x\n",
            "最終 d\n",
            "這 r\n",
            "支 q\n",
            "軍隊 n\n",
            "留下 v\n",
            "一個 m\n",
            "戰鬥 vn\n",
            "小隊 n\n",
            "， x\n",
            "在 p\n",
            "火車 n\n",
            "站 v\n",
            "地下室 n\n",
            "裏 y\n",
            "繼 vg\n",
            "續 v\n",
            "阻 v\n",
            "擊 vg\n",
            "俄 j\n",
            "軍 n\n",
            "， x\n",
            "成功 a\n",
            "掩護 v\n",
            "主力 n\n",
            "瘋狂 a\n",
            "突圍 n\n",
            "。 x\n",
            "\n",
            " x\n",
            "\n",
            " x\n",
            "戰鬥 vn\n",
            "當 p\n",
            "中 ns\n",
            "， x\n",
            "俄軍 j\n",
            "發現 v\n",
            "地面 n\n",
            "遺留 vn\n",
            "的 uj\n",
            "美制 n\n",
            "彈藥 n\n",
            "， x\n",
            "俄羅斯 ns\n",
            "突擊隊 n\n",
            "意識 n\n",
            "到 v\n",
            "這 r\n",
            "不是 c\n",
            "烏克蘭 nr\n",
            "士兵 n\n",
            "， x\n",
            "而是 c\n",
            "一群 m\n",
            "美國 ns\n",
            "老兵 n\n",
            "為 zg\n",
            "核心 n\n",
            "的 uj\n",
            "北約志願兵 nt\n",
            "。 x\n",
            "這些 r\n",
            "人 n\n",
            "有 v\n",
            "豐富 a\n",
            "戰鬥 vn\n",
            "經驗 vn\n",
            "， x\n",
            "火車 n\n",
            "站 v\n",
            "遭遇 n\n",
            "戰 vg\n",
            "打 v\n",
            "得 ud\n",
            "非常 d\n",
            "激烈 a\n",
            "。 x\n",
            "\n",
            " x\n",
            "\n",
            " x\n",
            "俄 j\n",
            "媒 n\n",
            "《 x\n",
            "塔斯社 nr\n",
            "》 x\n",
            "報導 n\n",
            "， x\n",
            "俄羅斯 ns\n",
            "突擊隊 n\n",
            "還 d\n",
            "在 p\n",
            "阿夫迪夫卡 nrt\n",
            "發現 v\n",
            "制服 v\n",
            "上 f\n",
            "帶有 v\n",
            "美國 ns\n",
            "和 c\n",
            "波蘭 ns\n",
            "魔術貼 n\n",
            "的 uj\n",
            "士兵 n\n",
            "屍體 n\n",
            "。 x\n",
            "他們 r\n",
            "在 p\n",
            "火車 n\n",
            "站 v\n",
            "遭遇 n\n",
            "到 v\n",
            "的 uj\n",
            "烏 j\n",
            "軍 n\n",
            "裏 zg\n",
            "有 v\n",
            "很多 m\n",
            "美國 ns\n",
            "、 x\n",
            "加拿大 ns\n",
            "和 c\n",
            "其他 r\n",
            "歐洲 ns\n",
            "國家 n\n",
            "雇傭 v\n",
            "軍 n\n",
            "或者 c\n",
            "志願兵 n\n",
            "。 x\n",
            "\n",
            " x\n",
            "\n",
            " x\n",
            "俄 j\n",
            "媒稱 n\n",
            "， x\n",
            "這些 r\n",
            "人 n\n",
            "基本 n\n",
            "都 d\n",
            "是 v\n",
            "美國 ns\n",
            "黑水 n\n",
            "公司 n\n",
            "， x\n",
            "或者 c\n",
            "不同 a\n",
            "公司 n\n",
            "的 uj\n",
            "退役 v\n",
            "老兵 n\n",
            "， x\n",
            "甚至 d\n",
            "還 d\n",
            "有 v\n",
            "很多 m\n",
            "北約 ns\n",
            "現役 n\n",
            "軍人 n\n",
            "以 p\n",
            "私人 n\n",
            "名義 n\n",
            "參戰 v\n",
            "。 x\n"
          ]
        }
      ]
    },
    {
      "cell_type": "markdown",
      "source": [
        "# TFIDF 關鍵詞提取"
      ],
      "metadata": {
        "id": "5EKXZBY-5Gjf"
      }
    },
    {
      "cell_type": "code",
      "source": [
        "import jieba\n",
        "import jieba.analyse\n",
        "\n",
        "topK = 10\n",
        "\n",
        "content = ''' 社交平台 X 消息指出，根據《俄羅斯衛星通訊社》Sputnik 報導，俄中央軍區第 55 摩步旅突擊隊報告在阿夫迪夫卡火車站遭遇美國人並爆發激烈衝突。\n",
        "\n",
        "當時俄軍在阿夫迪夫卡地道裏發現還有殘餘烏軍活動並進行嚴密搜索。俄第 55 摩步旅突擊隊在奪取火車站時，遭遇一群正在突圍的烏軍部隊。\n",
        "\n",
        "雙方爆發激烈戰鬥，這群烏軍不投降，一面占據火車站附近房屋與俄軍戰鬥；一面一個勁往外硬闖突圍。俄軍迅速抽調更多突擊隊從各方向展開包圍，最終這支軍隊留下一個戰鬥小隊，在火車站地下室裏繼續阻擊俄軍，成功掩護主力瘋狂突圍。\n",
        "\n",
        "戰鬥當中，俄軍發現地面遺留的美制彈藥，俄羅斯突擊隊意識到這不是烏克蘭士兵，而是一群美國老兵為核心的北約志願兵。這些人有豐富戰鬥經驗，火車站遭遇戰打得非常激烈。\n",
        "\n",
        "俄媒《塔斯社》報導，俄羅斯突擊隊還在阿夫迪夫卡發現制服上帶有美國和波蘭魔術貼的士兵屍體。他們在火車站遭遇到的烏軍裏有很多美國、加拿大和其他歐洲國家雇傭軍或者志願兵。\n",
        "\n",
        "俄媒稱，這些人基本都是美國黑水公司，或者不同公司的退役老兵，甚至還有很多北約現役軍人以私人名義參戰。'''\n",
        "\n",
        "tags = jieba.analyse.extract_tags(content, topK=topK)\n",
        "\n",
        "print(\",\".join(tags))"
      ],
      "metadata": {
        "colab": {
          "base_uri": "https://localhost:8080/"
        },
        "id": "WqMBOipE4Juh",
        "outputId": "ea434301-6156-41a6-8dfe-a78446f5f212"
      },
      "execution_count": 25,
      "outputs": [
        {
          "output_type": "stream",
          "name": "stdout",
          "text": [
            "突擊隊,美國,火車,突圍,戰鬥,遭遇,報導,55,阿夫迪夫,爆發\n"
          ]
        }
      ]
    },
    {
      "cell_type": "markdown",
      "source": [
        "Tokenize"
      ],
      "metadata": {
        "id": "nsHkWNwZ66EJ"
      }
    },
    {
      "cell_type": "code",
      "source": [
        "result = jieba.tokenize(u'永和服装饰品有限公司')\n",
        "# result = jieba.tokenize(content)\n",
        "for tk in result:\n",
        "    print(\"word %s\\t\\t start: %d \\t\\t end:%d\" % (tk[0],tk[1],tk[2]))"
      ],
      "metadata": {
        "colab": {
          "base_uri": "https://localhost:8080/"
        },
        "id": "5V_75Erj66OB",
        "outputId": "d4d58a7f-feb8-4064-d86c-c05980e98b0b"
      },
      "execution_count": 29,
      "outputs": [
        {
          "output_type": "stream",
          "name": "stdout",
          "text": [
            "word 永和\t\t start: 0 \t\t end:2\n",
            "word 服装\t\t start: 2 \t\t end:4\n",
            "word 饰品\t\t start: 4 \t\t end:6\n",
            "word 有限公司\t\t start: 6 \t\t end:10\n"
          ]
        }
      ]
    },
    {
      "cell_type": "code",
      "source": [],
      "metadata": {
        "id": "e-ajH7GO7Cuz"
      },
      "execution_count": null,
      "outputs": []
    }
  ]
}